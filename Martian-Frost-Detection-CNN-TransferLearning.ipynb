{
 "cells": [
  {
   "cell_type": "markdown",
   "metadata": {},
   "source": [
    "# Name: Jay Rambhiya\n",
    "\n",
    "# Git-Hub Username : jay-rambhiya\n",
    "\n",
    "# USC ID: #2219880371"
   ]
  },
  {
   "cell_type": "code",
   "execution_count": 3,
   "metadata": {
    "ExecuteTime": {
     "end_time": "2023-12-10T18:51:12.384410Z",
     "start_time": "2023-12-10T18:51:12.373663Z"
    }
   },
   "outputs": [],
   "source": [
    "import logging\n",
    "import os\n",
    "import shutil\n",
    "import warnings\n",
    "from pathlib import Path\n",
    "\n",
    "import Augmentor as augmentor\n",
    "import keras\n",
    "from keras import layers\n",
    "\n",
    "warnings.filterwarnings('ignore')"
   ]
  },
  {
   "cell_type": "code",
   "execution_count": 4,
   "metadata": {
    "ExecuteTime": {
     "end_time": "2023-12-10T18:51:13.114358Z",
     "start_time": "2023-12-10T18:51:13.094298Z"
    }
   },
   "outputs": [],
   "source": [
    "# Logging configuration\n",
    "logging.basicConfig(level=logging.INFO,\n",
    "                    datefmt='%H:%M:%S',\n",
    "                    format='%(asctime)s | %(levelname)-5s | %(module)-15s | %(message)s')\n",
    "\n",
    "IMAGE_SIZE = (\n",
    "    299, 299)  # All images contained in this dataset are 299x299 (originally, to match Inception v3 input size)\n",
    "SEED = 17  # Random seed for reproducibility (where possible) \n",
    "\n",
    "# Head directory containing all image subframes. Update with the relative path of your data directory\n",
    "data_head_dir = Path('./data')\n",
    "\n",
    "# Find all subframe directories\n",
    "subdirs = [Path(subdir.stem) for subdir in data_head_dir.iterdir() if subdir.is_dir()]\n",
    "src_image_ids = ['_'.join(a_path.name.split('_')[:3]) for a_path in subdirs]"
   ]
  },
  {
   "cell_type": "markdown",
   "metadata": {},
   "source": [
    "# 1 (b) Data Exploration and Pre-processing"
   ]
  },
  {
   "cell_type": "markdown",
   "metadata": {
    "ExecuteTime": {
     "start_time": "2023-12-07T09:42:49.725724Z"
    }
   },
   "source": [
    "# 1 (c)Training CNN + MLP"
   ]
  },
  {
   "cell_type": "code",
   "execution_count": 12,
   "metadata": {
    "ExecuteTime": {
     "end_time": "2023-12-10T18:52:37.554426Z",
     "start_time": "2023-12-10T18:51:18.792507Z"
    }
   },
   "outputs": [
    {
     "name": "stdout",
     "output_type": "stream",
     "text": [
      "[('ESP_018002_1820_0_5120_20480_25600', 'background'), ('ESP_018002_1820_35840_40960_20480_25600', 'background'), ('ESP_018002_1820_5120_10240_5120_10240', 'background'), ('ESP_018002_1820_40960_46080_25600_29510', 'background'), ('ESP_018002_1820_5120_10240_20480_25600', 'background'), ('ESP_018002_1820_51200_56320_5120_10240', 'background'), ('ESP_018263_2230_20480_25600_0_5120', 'background'), ('ESP_018263_2230_40960_46080_15360_18186', 'background'), ('ESP_018751_2230_0_5120_0_5120', 'background'), ('ESP_018751_2230_20480_25600_10240_15360', 'background'), ('ESP_018828_2445_5120_10240_0_5120', 'background'), ('ESP_018828_2445_20480_25600_10240_15360', 'background'), ('ESP_018828_2445_20480_25600_5120_10240', 'background'), ('ESP_018828_2445_5120_10240_15360_20480', 'background'), ('ESP_018828_2445_25600_30720_15360_20480', 'background'), ('ESP_018828_2445_5120_10240_10240_15360', 'background'), ('ESP_018951_1205_0_5120_0_5120', 'frost'), ('ESP_018951_1205_15360_20480_0_5120', 'frost'), ('ESP_018951_1205_5120_10240_0_5120', 'frost'), ('ESP_018951_1205_10240_15360_0_5120', 'frost'), ('ESP_019251_2385_15360_20480_15360_20480', 'background'), ('ESP_019251_2385_25600_30720_0_5120', 'background'), ('ESP_019251_2385_10240_15360_15360_20480', 'background'), ('ESP_019251_2385_25600_30720_15360_20480', 'background'), ('ESP_019251_2385_15360_20480_10240_15360', 'background'), ('ESP_019251_2385_0_5120_20480_25600', 'background'), ('ESP_019251_2385_46080_51200_30720_33558', 'background'), ('ESP_019459_2185_25600_30720_20480_25600', 'background'), ('ESP_019459_2185_20480_25600_20480_25600', 'background'), ('ESP_019459_2185_30720_35840_25600_29008', 'background'), ('ESP_019459_2185_30720_35840_5120_10240', 'background'), ('ESP_019459_2185_30720_35840_0_5120', 'background'), ('ESP_019459_2185_25600_30720_15360_20480', 'background'), ('ESP_019636_1300_10240_15360_5120_10240', 'frost'), ('ESP_019636_1300_5120_10240_5120_10240', 'frost'), ('ESP_019636_1300_15360_20480_5120_10240', 'frost'), ('ESP_019636_1300_35840_40960_5120_10240', 'frost'), ('ESP_019781_1300_25600_30720_10240_15141', 'frost'), ('ESP_019781_1300_0_5120_5120_10240', 'frost'), ('ESP_019781_1300_20480_25600_5120_10240', 'frost'), ('ESP_019781_1300_5120_10240_5120_10240', 'frost'), ('ESP_020415_1195_10240_15360_0_5120', 'frost'), ('ESP_020415_1195_10240_15360_5120_10240', 'frost'), ('ESP_020415_1195_0_5120_5120_10240', 'frost'), ('ESP_020415_1195_15360_20480_5120_10240', 'frost'), ('ESP_022508_2385_5120_10240_10240_15360', 'frost'), ('ESP_024291_2445_35840_40960_15360_20480', 'frost'), ('ESP_024291_2445_51200_56320_15360_20480', 'frost'), ('ESP_024291_2445_20480_25600_10240_15360', 'frost'), ('ESP_024370_2445_0_5120_0_5120', 'frost'), ('ESP_024370_2445_56320_61440_10240_15360', 'frost'), ('ESP_024370_2445_30720_35840_5120_10240', 'frost'), ('ESP_027706_1300_20480_25600_5120_10240', 'frost'), ('ESP_027706_1300_25600_30720_5120_10240', 'frost'), ('ESP_027706_1300_30720_35840_5120_10240', 'frost'), ('ESP_027706_1300_15360_20480_0_5120', 'frost'), ('ESP_028733_2230_61440_66560_15360_20480', 'background'), ('ESP_028733_2230_15360_20480_20480_25600', 'background'), ('ESP_028799_2230_10240_15360_0_5120', 'background'), ('ESP_028799_2230_20480_25600_5120_10240', 'background'), ('ESP_028799_2230_25600_30720_0_5120', 'background'), ('ESP_031989_2385_0_5120_0_5120', 'frost'), ('ESP_032345_2385_10240_15360_5120_10240', 'frost'), ('ESP_032556_2385_20480_25600_0_5120', 'frost'), ('ESP_032785_2450_0_5120_0_5120', 'frost'), ('ESP_032912_2385_5120_10240_5120_10240', 'frost'), ('ESP_032930_2450_20480_25600_25600_30720', 'frost'), ('ESP_033141_2450_61440_66560_20480_25600', 'frost'), ('ESP_033141_2450_5120_10240_10240_15360', 'frost'), ('ESP_035958_2385_15360_20480_10240_15360', 'background'), ('ESP_035958_2385_0_5120_10240_15360', 'background'), ('ESP_035958_2385_5120_10240_0_5120', 'background'), ('ESP_035958_2385_10240_15360_5120_10240', 'background'), ('ESP_035958_2385_15360_20480_5120_10240', 'background'), ('ESP_035958_2385_35840_38175_15360_16935', 'background'), ('ESP_035958_2385_10240_15360_10240_15360', 'background'), ('ESP_035958_2385_25600_30720_10240_15360', 'background'), ('ESP_036357_1255_0_5120_0_5120', 'frost'), ('ESP_036357_1255_10240_15360_0_5120', 'frost'), ('ESP_036357_1255_15360_20480_0_5120', 'frost'), ('ESP_036357_1255_5120_10240_0_5120', 'frost'), ('ESP_036752_2440_25600_30720_10240_15360', 'background'), ('ESP_036752_2440_30720_32804_5120_10240', 'background'), ('ESP_036752_2440_0_5120_5120_10240', 'background'), ('ESP_036752_2440_5120_10240_5120_10240', 'background'), ('ESP_036752_2440_30720_32804_15360_17718', 'background'), ('ESP_036752_2440_30720_32804_10240_15360', 'background'), ('ESP_036752_2440_25600_30720_5120_10240', 'background'), ('ESP_038058_1205_15360_20480_5120_10240', 'frost'), ('ESP_038058_1205_0_5120_5120_10240', 'frost'), ('ESP_038058_1205_20480_25600_5120_10240', 'frost'), ('ESP_038058_1205_10240_15360_5120_10240', 'frost'), ('ESP_039175_1200_15360_20480_5120_10240', 'frost'), ('ESP_039175_1200_20480_25600_5120_10240', 'frost'), ('ESP_039175_1200_0_5120_0_5120', 'frost'), ('ESP_039175_1200_20480_25600_10240_14496', 'frost'), ('ESP_039888_2385_20480_25600_5120_10240', 'frost'), ('ESP_040099_2385_25600_28910_0_5120', 'frost'), ('ESP_040666_2385_10240_15360_5120_10240', 'frost'), ('ESP_040877_2385_5120_10240_0_5120', 'frost'), ('ESP_040959_1355_5120_10240_10240_11162', 'background'), ('ESP_040959_1355_0_5120_5120_10240', 'background'), ('ESP_040959_1355_0_5120_0_5120', 'background'), ('ESP_040959_1355_10240_13543_10240_11162', 'background'), ('ESP_040959_1355_10240_13543_0_5120', 'background'), ('ESP_040959_1355_10240_13543_5120_10240', 'background'), ('ESP_041233_2385_40960_46080_15360_20480', 'frost'), ('ESP_041444_2385_15360_20480_5120_10240', 'frost'), ('ESP_042279_1820_46080_51200_15360_20480', 'background'), ('ESP_042279_1820_0_5120_15360_20480', 'background'), ('ESP_042279_1820_5120_10240_0_5120', 'background'), ('ESP_042279_1820_25600_30720_10240_15360', 'background'), ('ESP_042279_1820_10240_15360_0_5120', 'background'), ('ESP_042279_1820_35840_40960_5120_10240', 'background'), ('ESP_045865_1825_15360_20480_10240_15360', 'background'), ('ESP_045865_1825_30720_34926_0_5120', 'background'), ('ESP_045865_1825_15360_20480_5120_10240', 'background'), ('ESP_045865_1825_20480_25600_20480_23601', 'background'), ('ESP_045865_1825_10240_15360_5120_10240', 'background'), ('ESP_045865_1825_30720_34926_5120_10240', 'background'), ('ESP_054143_2230_15360_20480_0_5120', 'background'), ('ESP_054143_2230_10240_15360_0_5120', 'background'), ('ESP_055293_2370_0_5120_0_5120', 'background'), ('ESP_055293_2370_5120_10240_0_5120', 'background'), ('ESP_055293_2370_20480_25600_20480_25600', 'background'), ('ESP_055293_2370_20480_25600_5120_10240', 'background'), ('ESP_057638_2230_15360_20480_5120_10240', 'frost'), ('ESP_057638_2230_25600_30720_0_5120', 'frost'), ('ESP_057638_2230_15360_20480_0_5120', 'frost'), ('ESP_057638_2230_30720_35840_5120_10240', 'frost'), ('ESP_057638_2230_0_5120_10240_15360', 'frost'), ('ESP_057638_2230_10240_15360_10240_15360', 'frost'), ('ESP_057638_2230_25600_30720_20480_25600', 'frost'), ('ESP_058046_2385_30720_35840_15360_17036', 'frost'), ('ESP_058710_2450_30720_35840_5120_10240', 'frost'), ('ESP_058722_2370_5120_10240_0_5120', 'frost'), ('ESP_058722_2370_5120_10240_5120_10240', 'frost'), ('ESP_058933_2370_30720_35840_20480_25600', 'frost'), ('ESP_058933_2370_15360_20480_5120_10240', 'frost'), ('ESP_059259_2385_5120_10240_10240_15360', 'frost'), ('ESP_059277_2450_25600_30720_10240_15360', 'frost'), ('ESP_059277_2450_0_5120_5120_10240', 'frost'), ('ESP_059470_2385_15360_20480_10240_15360', 'frost'), ('ESP_059500_2370_10240_15360_20480_25600', 'frost'), ('ESP_059500_2370_10240_15360_15360_20480', 'frost'), ('ESP_059500_2370_5120_10240_15360_20480', 'frost'), ('ESP_059500_2370_25600_30720_5120_10240', 'frost'), ('ESP_059500_2370_20480_25600_5120_10240', 'frost'), ('ESP_060055_2450_15360_20480_10240_15360', 'frost'), ('ESP_060332_2450_5120_10240_5120_10240', 'frost'), ('ESP_061741_2435_10240_15360_10240_15360', 'background'), ('ESP_061741_2435_5120_10240_10240_15360', 'background'), ('ESP_061741_2435_0_5120_20480_25600', 'background'), ('ESP_061741_2435_15360_20480_15360_20480', 'background'), ('ESP_061741_2435_0_5120_0_5120', 'background'), ('ESP_061741_2435_15360_20480_25600_29685', 'background'), ('ESP_061741_2435_15360_20480_0_5120', 'background'), ('ESP_061741_2435_15360_20480_5120_10240', 'background'), ('ESP_062177_2370_35840_40353_10240_15360', 'background'), ('ESP_062177_2370_35840_40353_5120_10240', 'background'), ('ESP_062177_2370_10240_15360_5120_10240', 'background'), ('ESP_062177_2370_15360_20480_10240_15360', 'background'), ('ESP_062521_2450_10240_15360_15360_20480', 'background'), ('ESP_062521_2450_0_5120_5120_10240', 'background'), ('ESP_062521_2450_25600_30720_10240_15360', 'background'), ('ESP_062521_2450_15360_20480_0_5120', 'background'), ('ESP_062521_2450_5120_10240_20480_25600', 'background'), ('ESP_062521_2450_5120_10240_10240_15360', 'background'), ('ESP_062521_2450_35840_40632_10240_15360', 'background'), ('ESP_062521_2450_20480_25600_20480_25600', 'background'), ('ESP_062583_2230_15360_20480_10240_15360', 'background'), ('ESP_062583_2230_30720_35840_5120_10240', 'background'), ('ESP_065354_2440_10240_15360_10240_15360', 'frost'), ('ESP_065354_2440_15360_20299_0_5120', 'frost'), ('ESP_066104_2230_51200_56320_15360_20480', 'frost'), ('ESP_066104_2230_56320_61440_20480_25600', 'frost'), ('ESP_066104_2230_40960_46080_5120_10240', 'frost'), ('ESP_066104_2230_10240_15360_15360_20480', 'frost'), ('ESP_066104_2230_25600_30720_15360_20480', 'frost'), ('ESP_066446_2385_15360_20480_0_5120', 'frost'), ('ESP_066476_2370_20480_25600_0_5120', 'frost'), ('ESP_066476_2370_0_5120_5120_10240', 'frost'), ('ESP_066805_2440_35840_40960_5120_10240', 'frost'), ('ESP_066805_2440_10240_15360_0_5120', 'frost'), ('ESP_066819_2370_10240_15360_5120_10240', 'frost'), ('ESP_066819_2370_35840_40960_10240_15360', 'frost'), ('ESP_066935_2230_15360_20480_0_5120', 'background'), ('ESP_066935_2230_46080_51200_5120_10240', 'background'), ('ESP_067084_2450_10240_15360_10240_15360', 'frost'), ('ESP_067216_2450_20480_25600_15360_18135', 'frost'), ('ESP_067228_1820_0_5120_0_5120', 'background'), ('ESP_067228_1820_10240_15360_0_5120', 'background'), ('ESP_067228_1820_5120_10240_5120_10240', 'background'), ('ESP_067228_1820_20480_25600_10240_15360', 'background'), ('ESP_067228_1820_25600_30720_5120_10240', 'background'), ('ESP_067228_1820_15360_20480_0_5120', 'background'), ('ESP_067360_2370_51200_56320_5120_10240', 'frost'), ('ESP_067360_2370_35840_40960_5120_10240', 'frost'), ('ESP_067691_2450_35840_40316_15360_20480', 'frost'), ('ESP_067691_2450_20480_25600_10240_15360', 'frost'), ('ESP_068046_2370_20480_25600_5120_10240', 'frost'), ('ESP_068046_2370_20480_25600_0_5120', 'frost'), ('ESP_068046_2370_40960_42900_5120_10240', 'frost'), ('ESP_068362_2440_0_5120_5120_10240', 'frost'), ('ESP_068362_2440_10240_15360_10240_15360', 'frost'), ('ESP_069365_2440_10240_15360_10240_15360', 'frost'), ('ESP_071080_2370_35840_37235_5120_10240', 'background'), ('ESP_071080_2370_15360_20480_5120_10240', 'background'), ('ESP_071080_2370_10240_15360_15360_20480', 'background'), ('ESP_071080_2370_25600_30720_15360_20480', 'background'), ('ESP_071635_2450_30720_35840_25600_30720', 'background'), ('ESP_071635_2450_25600_30720_5120_10240', 'background'), ('ESP_071635_2450_0_5120_10240_15360', 'background'), ('ESP_071635_2450_25600_30720_20480_25600', 'background'), ('ESP_071635_2450_15360_20480_15360_20480', 'background'), ('ESP_071635_2450_0_5120_15360_20480', 'background'), ('ESP_071635_2450_20480_25600_25600_30720', 'background'), ('ESP_072193_1845_0_5120_5120_10240', 'background'), ('ESP_072193_1845_15360_20480_0_5120', 'background'), ('ESP_072193_1845_5120_10240_5120_10240', 'background'), ('ESP_072193_1845_10240_15360_10240_13642', 'background'), ('ESP_072193_1845_25600_28976_5120_10240', 'background'), ('ESP_072193_1845_10240_15360_0_5120', 'background'), ('ESP_072569_1320_0_5120_5120_10240', 'frost'), ('ESP_072569_1320_5120_10240_5120_10240', 'frost'), ('ESP_072569_1320_5120_10240_0_5120', 'frost'), ('ESP_073664_1205_15360_20480_5120_10240', 'frost'), ('ESP_073664_1205_5120_10240_5120_10240', 'frost'), ('ESP_073664_1205_0_5120_0_5120', 'frost'), ('ESP_073664_1205_10240_15360_5120_10240', 'frost'), ('PSP_002033_1325_15360_20480_5120_10240', 'frost'), ('PSP_002033_1325_10240_15360_10240_15360', 'frost'), ('PSP_002033_1325_15360_20480_10240_15360', 'frost'), ('PSP_002033_1325_10240_15360_5120_10240', 'frost'), ('PSP_002904_1255_25600_30720_15360_20480', 'frost'), ('PSP_002904_1255_20480_25600_5120_10240', 'frost'), ('PSP_002904_1255_25600_30720_5120_10240', 'frost'), ('PSP_002904_1255_25600_30720_10240_15360', 'frost'), ('PSP_008120_2465_61440_66560_0_5120', 'frost'), ('PSP_008120_2465_66560_71680_0_5120', 'frost'), ('PSP_008120_2465_10240_15360_35840_40960', 'frost'), ('PSP_008120_2465_66560_71680_5120_10240', 'frost'), ('PSP_009721_2370_30720_35840_20480_25600', 'background'), ('PSP_009721_2370_56320_58625_10240_15360', 'background'), ('PSP_009721_2370_30720_35840_5120_10240', 'background')]\n",
      "[('ESP_011605_1170_10240_15360_10240_15360', 'frost'), ('ESP_011605_1170_25600_30720_20480_25600', 'frost'), ('ESP_011605_1170_5120_10240_15360_20480', 'frost'), ('ESP_011605_1170_10240_15360_0_5120', 'frost'), ('ESP_018946_2400_51200_51596_5120_10240', 'background'), ('ESP_018946_2400_15360_20480_10240_15360', 'background'), ('ESP_018946_2400_15360_20480_0_5120', 'background'), ('ESP_018946_2400_10240_15360_10240_15360', 'background'), ('ESP_018946_2400_25600_30720_10240_15360', 'background'), ('ESP_025753_1755_5120_10240_0_5120', 'background'), ('ESP_025753_1755_25600_30720_10240_15169', 'background'), ('ESP_025753_1755_40960_46080_10240_15169', 'background'), ('ESP_025753_1755_30720_35840_5120_10240', 'background'), ('ESP_025753_1755_15360_20480_0_5120', 'background'), ('ESP_025753_1755_10240_15360_5120_10240', 'background'), ('ESP_027926_2400_20480_25600_10240_15360', 'background'), ('ESP_027926_2400_30720_35840_15360_20480', 'background'), ('ESP_027926_2400_40960_46080_10240_15360', 'background'), ('ESP_027926_2400_10240_15360_5120_10240', 'background'), ('ESP_027926_2400_10240_15360_15360_20480', 'background'), ('ESP_032207_1350_35840_40791_5120_10240', 'background'), ('ESP_032207_1350_5120_10240_5120_10240', 'background'), ('ESP_032207_1350_10240_15360_0_5120', 'background'), ('ESP_032207_1350_25600_30720_10240_14561', 'background'), ('ESP_032207_1350_20480_25600_10240_14561', 'background'), ('ESP_032207_1350_5120_10240_0_5120', 'background'), ('ESP_048733_2075_0_5120_5120_10240', 'background'), ('ESP_048733_2075_10240_15360_0_5120', 'background'), ('ESP_048733_2075_15360_20480_5120_10240', 'background'), ('ESP_048733_2075_20480_24407_5120_10240', 'background'), ('ESP_048733_2075_10240_15360_10240_13427', 'background'), ('ESP_048733_2075_20480_24407_10240_13427', 'background'), ('ESP_049512_1310_10240_15360_0_5120', 'background'), ('ESP_049512_1310_5120_10240_0_5120', 'background'), ('ESP_049512_1310_10240_15360_10240_11791', 'background'), ('ESP_049512_1310_15360_18528_10240_11791', 'background'), ('ESP_049512_1310_15360_18528_0_5120', 'background'), ('ESP_049512_1310_15360_18528_5120_10240', 'background'), ('ESP_053223_1770_15360_20480_5120_10240', 'background'), ('ESP_053223_1770_5120_10240_0_5120', 'background'), ('ESP_053223_1770_20480_22760_10240_12466', 'background'), ('ESP_053223_1770_0_5120_0_5120', 'background'), ('ESP_053223_1770_15360_20480_0_5120', 'background'), ('ESP_053223_1770_0_5120_5120_10240', 'background'), ('ESP_058496_2225_10240_15360_0_5120', 'frost'), ('ESP_058496_2225_15360_20480_20480_25600', 'frost'), ('ESP_058496_2225_15360_20480_15360_20480', 'frost'), ('ESP_064703_1170_46080_51200_5120_10240', 'frost'), ('ESP_064703_1170_10240_15360_15360_20480', 'frost'), ('ESP_064703_1170_25600_30720_5120_10240', 'frost'), ('ESP_064703_1170_40960_46080_15360_20480', 'frost'), ('ESP_065389_2400_15360_20429_10240_15360', 'frost'), ('ESP_065389_2400_0_5120_10240_15360', 'frost'), ('ESP_065389_2400_15360_20429_5120_10240', 'frost'), ('ESP_065389_2400_5120_10240_10240_15360', 'frost'), ('ESP_065389_2400_0_5120_0_5120', 'frost'), ('ESP_066813_2360_5120_10240_0_5120', 'frost'), ('ESP_066813_2360_15360_20480_5120_10240', 'frost'), ('ESP_066813_2360_20480_25600_5120_10240', 'frost'), ('ESP_066813_2360_15360_20480_0_5120', 'frost'), ('ESP_066879_2410_5120_10240_0_5120', 'frost'), ('ESP_066879_2410_10240_15360_5120_10240', 'frost'), ('ESP_066879_2410_15360_20480_5120_10240', 'frost'), ('ESP_066879_2410_20480_25600_5120_10240', 'frost'), ('ESP_066972_2400_0_5120_10240_15360', 'frost'), ('ESP_066972_2400_0_5120_0_5120', 'frost'), ('ESP_066972_2400_20480_25600_0_5120', 'frost'), ('ESP_066972_2400_25600_30720_0_5120', 'frost'), ('ESP_066972_2400_5120_10240_10240_15360', 'frost'), ('ESP_068054_2400_10240_15360_5120_10240', 'frost'), ('ESP_068054_2400_25600_30720_0_5120', 'frost'), ('ESP_068054_2400_0_5120_0_5120', 'frost'), ('ESP_068054_2400_5120_10240_0_5120', 'frost'), ('ESP_068054_2400_15360_20480_15360_20480', 'frost'), ('PSP_005315_1770_25600_30720_15360_20480', 'background'), ('PSP_005315_1770_35840_40960_10240_15360', 'background'), ('PSP_005315_1770_5120_10240_0_5120', 'background'), ('PSP_005315_1770_46080_51200_15360_20480', 'background'), ('PSP_005315_1770_15360_20480_15360_20480', 'background'), ('PSP_005315_1770_0_5120_5120_10240', 'background'), ('PSP_009808_2400_20480_25600_15360_20480', 'background'), ('PSP_009808_2400_20480_25600_25600_30720', 'background'), ('PSP_009808_2400_56320_59319_5120_10240', 'background'), ('PSP_009808_2400_51200_56320_20480_25600', 'background'), ('PSP_009808_2400_40960_46080_30720_35840', 'background')]\n"
     ]
    },
    {
     "name": "stdout",
     "output_type": "stream",
     "text": [
      "/Users/jayrambhiya/Desktop/DSCI 552/Final Project/dataverse_files/dataverse_hirise_v3/data/ESP_018002_1820_0_5120_20480_25600/tiles/background\n",
      "number of images in the source directory: 32\n",
      "Initialised with 32 image(s) found.\n",
      "Output directory set to /Users/jayrambhiya/Desktop/DSCI 552/Final Project/dataverse_files/dataverse_hirise_v3/augmented_training_data/."
     ]
    },
    {
     "name": "stderr",
     "output_type": "stream",
     "text": [
      "Processing <PIL.Image.Image image mode=L size=299x299 at 0x280CB78D0>: 100%|█| 3\n"
     ]
    },
    {
     "name": "stdout",
     "output_type": "stream",
     "text": [
      "/Users/jayrambhiya/Desktop/DSCI 552/Final Project/dataverse_files/dataverse_hirise_v3/data/ESP_018002_1820_35840_40960_20480_25600/tiles/background\n",
      "number of images in the source directory: 64\n",
      "Initialised with 64 image(s) found.\n",
      "Output directory set to /Users/jayrambhiya/Desktop/DSCI 552/Final Project/dataverse_files/dataverse_hirise_v3/augmented_training_data/."
     ]
    },
    {
     "name": "stderr",
     "output_type": "stream",
     "text": [
      "Processing <PIL.Image.Image image mode=L size=299x299 at 0x28104A550>: 100%|█| 6\n"
     ]
    },
    {
     "name": "stdout",
     "output_type": "stream",
     "text": [
      "/Users/jayrambhiya/Desktop/DSCI 552/Final Project/dataverse_files/dataverse_hirise_v3/data/ESP_018002_1820_5120_10240_5120_10240/tiles/background\n",
      "number of images in the source directory: 64\n",
      "Initialised with 64 image(s) found.\n",
      "Output directory set to /Users/jayrambhiya/Desktop/DSCI 552/Final Project/dataverse_files/dataverse_hirise_v3/augmented_training_data/."
     ]
    },
    {
     "name": "stderr",
     "output_type": "stream",
     "text": [
      "Processing <PIL.Image.Image image mode=L size=269x269 at 0x11D7041D0>: 100%|█| 6\n"
     ]
    },
    {
     "name": "stdout",
     "output_type": "stream",
     "text": [
      "/Users/jayrambhiya/Desktop/DSCI 552/Final Project/dataverse_files/dataverse_hirise_v3/data/ESP_018002_1820_40960_46080_25600_29510/tiles/background\n",
      "number of images in the source directory: 30\n",
      "Initialised with 30 image(s) found.\n",
      "Output directory set to /Users/jayrambhiya/Desktop/DSCI 552/Final Project/dataverse_files/dataverse_hirise_v3/augmented_training_data/."
     ]
    },
    {
     "name": "stderr",
     "output_type": "stream",
     "text": [
      "Processing <PIL.Image.Image image mode=L size=269x269 at 0x283431C10>: 100%|█| 3\n"
     ]
    },
    {
     "name": "stdout",
     "output_type": "stream",
     "text": [
      "/Users/jayrambhiya/Desktop/DSCI 552/Final Project/dataverse_files/dataverse_hirise_v3/data/ESP_018002_1820_5120_10240_20480_25600/tiles/background\n",
      "number of images in the source directory: 43\n",
      "Initialised with 43 image(s) found.\n",
      "Output directory set to /Users/jayrambhiya/Desktop/DSCI 552/Final Project/dataverse_files/dataverse_hirise_v3/augmented_training_data/."
     ]
    },
    {
     "name": "stderr",
     "output_type": "stream",
     "text": [
      "Processing <PIL.Image.Image image mode=L size=299x299 at 0x2824A6750>: 100%|█| 4\n"
     ]
    },
    {
     "name": "stdout",
     "output_type": "stream",
     "text": [
      "/Users/jayrambhiya/Desktop/DSCI 552/Final Project/dataverse_files/dataverse_hirise_v3/data/ESP_018002_1820_51200_56320_5120_10240/tiles/background\n",
      "number of images in the source directory: 49\n",
      "Initialised with 49 image(s) found.\n",
      "Output directory set to /Users/jayrambhiya/Desktop/DSCI 552/Final Project/dataverse_files/dataverse_hirise_v3/augmented_training_data/."
     ]
    },
    {
     "name": "stderr",
     "output_type": "stream",
     "text": [
      "Processing <PIL.Image.Image image mode=L size=299x299 at 0x283488E90>: 100%|█| 4\n"
     ]
    },
    {
     "name": "stdout",
     "output_type": "stream",
     "text": [
      "/Users/jayrambhiya/Desktop/DSCI 552/Final Project/dataverse_files/dataverse_hirise_v3/data/ESP_018263_2230_20480_25600_0_5120/tiles/background\n",
      "number of images in the source directory: 131\n",
      "Initialised with 131 image(s) found.\n",
      "Output directory set to /Users/jayrambhiya/Desktop/DSCI 552/Final Project/dataverse_files/dataverse_hirise_v3/augmented_training_data/."
     ]
    },
    {
     "name": "stderr",
     "output_type": "stream",
     "text": [
      "Processing <PIL.Image.Image image mode=L size=299x299 at 0x28346E610>: 100%|█| 1\n"
     ]
    },
    {
     "name": "stdout",
     "output_type": "stream",
     "text": [
      "/Users/jayrambhiya/Desktop/DSCI 552/Final Project/dataverse_files/dataverse_hirise_v3/data/ESP_018263_2230_40960_46080_15360_18186/tiles/background\n",
      "number of images in the source directory: 126\n",
      "Initialised with 126 image(s) found.\n",
      "Output directory set to /Users/jayrambhiya/Desktop/DSCI 552/Final Project/dataverse_files/dataverse_hirise_v3/augmented_training_data/."
     ]
    },
    {
     "name": "stderr",
     "output_type": "stream",
     "text": [
      "Processing <PIL.Image.Image image mode=L size=299x299 at 0x169EA30D0>: 100%|█| 1\n"
     ]
    },
    {
     "name": "stdout",
     "output_type": "stream",
     "text": [
      "/Users/jayrambhiya/Desktop/DSCI 552/Final Project/dataverse_files/dataverse_hirise_v3/data/ESP_018751_2230_0_5120_0_5120/tiles/background\n",
      "number of images in the source directory: 210\n",
      "Initialised with 210 image(s) found.\n",
      "Output directory set to /Users/jayrambhiya/Desktop/DSCI 552/Final Project/dataverse_files/dataverse_hirise_v3/augmented_training_data/."
     ]
    },
    {
     "name": "stderr",
     "output_type": "stream",
     "text": [
      "Processing <PIL.Image.Image image mode=L size=299x299 at 0x283450950>: 100%|█| 2\n"
     ]
    },
    {
     "name": "stdout",
     "output_type": "stream",
     "text": [
      "/Users/jayrambhiya/Desktop/DSCI 552/Final Project/dataverse_files/dataverse_hirise_v3/data/ESP_018751_2230_20480_25600_10240_15360/tiles/background\n",
      "number of images in the source directory: 289\n",
      "Initialised with 289 image(s) found.\n",
      "Output directory set to /Users/jayrambhiya/Desktop/DSCI 552/Final Project/dataverse_files/dataverse_hirise_v3/augmented_training_data/."
     ]
    },
    {
     "name": "stderr",
     "output_type": "stream",
     "text": [
      "Processing <PIL.Image.Image image mode=L size=269x269 at 0x28104AE10>: 100%|█| 2\n"
     ]
    },
    {
     "name": "stdout",
     "output_type": "stream",
     "text": [
      "/Users/jayrambhiya/Desktop/DSCI 552/Final Project/dataverse_files/dataverse_hirise_v3/data/ESP_018828_2445_5120_10240_0_5120/tiles/background\n",
      "number of images in the source directory: 221\n",
      "Initialised with 221 image(s) found.\n",
      "Output directory set to /Users/jayrambhiya/Desktop/DSCI 552/Final Project/dataverse_files/dataverse_hirise_v3/augmented_training_data/."
     ]
    },
    {
     "name": "stderr",
     "output_type": "stream",
     "text": [
      "Processing <PIL.Image.Image image mode=L size=299x299 at 0x281118550>: 100%|█| 2\n"
     ]
    },
    {
     "name": "stdout",
     "output_type": "stream",
     "text": [
      "/Users/jayrambhiya/Desktop/DSCI 552/Final Project/dataverse_files/dataverse_hirise_v3/data/ESP_018828_2445_20480_25600_10240_15360/tiles/background\n",
      "number of images in the source directory: 289\n",
      "Initialised with 289 image(s) found.\n",
      "Output directory set to /Users/jayrambhiya/Desktop/DSCI 552/Final Project/dataverse_files/dataverse_hirise_v3/augmented_training_data/."
     ]
    },
    {
     "name": "stderr",
     "output_type": "stream",
     "text": [
      "Processing <PIL.Image.Image image mode=L size=269x269 at 0x283150150>: 100%|█| 2\n"
     ]
    },
    {
     "name": "stdout",
     "output_type": "stream",
     "text": [
      "/Users/jayrambhiya/Desktop/DSCI 552/Final Project/dataverse_files/dataverse_hirise_v3/data/ESP_018828_2445_20480_25600_5120_10240/tiles/background\n",
      "number of images in the source directory: 269\n",
      "Initialised with 269 image(s) found.\n",
      "Output directory set to /Users/jayrambhiya/Desktop/DSCI 552/Final Project/dataverse_files/dataverse_hirise_v3/augmented_training_data/."
     ]
    },
    {
     "name": "stderr",
     "output_type": "stream",
     "text": [
      "Processing <PIL.Image.Image image mode=L size=269x269 at 0x280C53150>: 100%|█| 2\n"
     ]
    },
    {
     "name": "stdout",
     "output_type": "stream",
     "text": [
      "/Users/jayrambhiya/Desktop/DSCI 552/Final Project/dataverse_files/dataverse_hirise_v3/data/ESP_018828_2445_5120_10240_15360_20480/tiles/background\n",
      "number of images in the source directory: 254\n",
      "Initialised with 254 image(s) found.\n",
      "Output directory set to /Users/jayrambhiya/Desktop/DSCI 552/Final Project/dataverse_files/dataverse_hirise_v3/augmented_training_data/."
     ]
    },
    {
     "name": "stderr",
     "output_type": "stream",
     "text": [
      "Processing <PIL.Image.Image image mode=L size=299x299 at 0x2834A7050>: 100%|█| 2\n"
     ]
    },
    {
     "name": "stdout",
     "output_type": "stream",
     "text": [
      "/Users/jayrambhiya/Desktop/DSCI 552/Final Project/dataverse_files/dataverse_hirise_v3/data/ESP_018828_2445_25600_30720_15360_20480/tiles/background\n",
      "number of images in the source directory: 186\n",
      "Initialised with 186 image(s) found.\n",
      "Output directory set to /Users/jayrambhiya/Desktop/DSCI 552/Final Project/dataverse_files/dataverse_hirise_v3/augmented_training_data/."
     ]
    },
    {
     "name": "stderr",
     "output_type": "stream",
     "text": [
      "Processing <PIL.Image.Image image mode=L size=299x299 at 0x282881810>: 100%|█| 1\n"
     ]
    },
    {
     "name": "stdout",
     "output_type": "stream",
     "text": [
      "/Users/jayrambhiya/Desktop/DSCI 552/Final Project/dataverse_files/dataverse_hirise_v3/data/ESP_018828_2445_5120_10240_10240_15360/tiles/background\n",
      "number of images in the source directory: 289\n",
      "Initialised with 289 image(s) found.\n",
      "Output directory set to /Users/jayrambhiya/Desktop/DSCI 552/Final Project/dataverse_files/dataverse_hirise_v3/augmented_training_data/."
     ]
    },
    {
     "name": "stderr",
     "output_type": "stream",
     "text": [
      "Processing <PIL.Image.Image image mode=L size=269x269 at 0x280CCC490>: 100%|█| 2\n"
     ]
    },
    {
     "name": "stdout",
     "output_type": "stream",
     "text": [
      "/Users/jayrambhiya/Desktop/DSCI 552/Final Project/dataverse_files/dataverse_hirise_v3/data/ESP_018951_1205_0_5120_0_5120/tiles/frost\n",
      "number of images in the source directory: 925\n",
      "Initialised with 925 image(s) found.\n",
      "Output directory set to /Users/jayrambhiya/Desktop/DSCI 552/Final Project/dataverse_files/dataverse_hirise_v3/augmented_training_data/."
     ]
    },
    {
     "name": "stderr",
     "output_type": "stream",
     "text": [
      "Processing <PIL.Image.Image image mode=L size=269x269 at 0x280D76750>: 100%|█| 9\n"
     ]
    },
    {
     "name": "stdout",
     "output_type": "stream",
     "text": [
      "/Users/jayrambhiya/Desktop/DSCI 552/Final Project/dataverse_files/dataverse_hirise_v3/data/ESP_018951_1205_15360_20480_0_5120/tiles/frost\n",
      "number of images in the source directory: 640\n",
      "Initialised with 640 image(s) found.\n",
      "Output directory set to /Users/jayrambhiya/Desktop/DSCI 552/Final Project/dataverse_files/dataverse_hirise_v3/augmented_training_data/."
     ]
    },
    {
     "name": "stderr",
     "output_type": "stream",
     "text": [
      "Processing <PIL.Image.Image image mode=L size=269x269 at 0x28111E750>: 100%|█| 6\n"
     ]
    },
    {
     "name": "stdout",
     "output_type": "stream",
     "text": [
      "/Users/jayrambhiya/Desktop/DSCI 552/Final Project/dataverse_files/dataverse_hirise_v3/data/ESP_018951_1205_5120_10240_0_5120/tiles/frost\n",
      "number of images in the source directory: 935\n",
      "Initialised with 935 image(s) found.\n",
      "Output directory set to /Users/jayrambhiya/Desktop/DSCI 552/Final Project/dataverse_files/dataverse_hirise_v3/augmented_training_data/."
     ]
    },
    {
     "name": "stderr",
     "output_type": "stream",
     "text": [
      "Processing <PIL.Image.Image image mode=L size=269x269 at 0x28349A850>: 100%|█| 9\n"
     ]
    },
    {
     "name": "stdout",
     "output_type": "stream",
     "text": [
      "/Users/jayrambhiya/Desktop/DSCI 552/Final Project/dataverse_files/dataverse_hirise_v3/data/ESP_018951_1205_10240_15360_0_5120/tiles/frost\n",
      "number of images in the source directory: 765\n",
      "Initialised with 765 image(s) found.\n",
      "Output directory set to /Users/jayrambhiya/Desktop/DSCI 552/Final Project/dataverse_files/dataverse_hirise_v3/augmented_training_data/."
     ]
    },
    {
     "name": "stderr",
     "output_type": "stream",
     "text": [
      "Processing <PIL.Image.Image image mode=L size=299x299 at 0x2810CE410>: 100%|█| 7\n"
     ]
    },
    {
     "name": "stdout",
     "output_type": "stream",
     "text": [
      "/Users/jayrambhiya/Desktop/DSCI 552/Final Project/dataverse_files/dataverse_hirise_v3/data/ESP_019251_2385_15360_20480_15360_20480/tiles/background\n",
      "number of images in the source directory: 64\n",
      "Initialised with 64 image(s) found.\n",
      "Output directory set to /Users/jayrambhiya/Desktop/DSCI 552/Final Project/dataverse_files/dataverse_hirise_v3/augmented_training_data/."
     ]
    },
    {
     "name": "stderr",
     "output_type": "stream",
     "text": [
      "Processing <PIL.Image.Image image mode=L size=269x269 at 0x283817F90>: 100%|█| 6\n"
     ]
    },
    {
     "name": "stdout",
     "output_type": "stream",
     "text": [
      "/Users/jayrambhiya/Desktop/DSCI 552/Final Project/dataverse_files/dataverse_hirise_v3/data/ESP_019251_2385_25600_30720_0_5120/tiles/background\n",
      "number of images in the source directory: 13\n",
      "Initialised with 13 image(s) found.\n",
      "Output directory set to /Users/jayrambhiya/Desktop/DSCI 552/Final Project/dataverse_files/dataverse_hirise_v3/augmented_training_data/."
     ]
    },
    {
     "name": "stderr",
     "output_type": "stream",
     "text": [
      "Processing <PIL.Image.Image image mode=L size=299x299 at 0x2834E7290>: 100%|█| 1\n"
     ]
    },
    {
     "name": "stdout",
     "output_type": "stream",
     "text": [
      "/Users/jayrambhiya/Desktop/DSCI 552/Final Project/dataverse_files/dataverse_hirise_v3/data/ESP_019251_2385_10240_15360_15360_20480/tiles/background\n",
      "number of images in the source directory: 64\n",
      "Initialised with 64 image(s) found.\n",
      "Output directory set to /Users/jayrambhiya/Desktop/DSCI 552/Final Project/dataverse_files/dataverse_hirise_v3/augmented_training_data/."
     ]
    },
    {
     "name": "stderr",
     "output_type": "stream",
     "text": [
      "Processing <PIL.Image.Image image mode=L size=299x299 at 0x283150B10>: 100%|█| 6\n"
     ]
    },
    {
     "name": "stdout",
     "output_type": "stream",
     "text": [
      "/Users/jayrambhiya/Desktop/DSCI 552/Final Project/dataverse_files/dataverse_hirise_v3/data/ESP_019251_2385_25600_30720_15360_20480/tiles/background\n",
      "number of images in the source directory: 64\n",
      "Initialised with 64 image(s) found.\n",
      "Output directory set to /Users/jayrambhiya/Desktop/DSCI 552/Final Project/dataverse_files/dataverse_hirise_v3/augmented_training_data/."
     ]
    },
    {
     "name": "stderr",
     "output_type": "stream",
     "text": [
      "Processing <PIL.Image.Image image mode=L size=269x269 at 0x281168FD0>: 100%|█| 6\n"
     ]
    },
    {
     "name": "stdout",
     "output_type": "stream",
     "text": [
      "/Users/jayrambhiya/Desktop/DSCI 552/Final Project/dataverse_files/dataverse_hirise_v3/data/ESP_019251_2385_15360_20480_10240_15360/tiles/background\n",
      "number of images in the source directory: 64\n",
      "Initialised with 64 image(s) found.\n",
      "Output directory set to /Users/jayrambhiya/Desktop/DSCI 552/Final Project/dataverse_files/dataverse_hirise_v3/augmented_training_data/."
     ]
    },
    {
     "name": "stderr",
     "output_type": "stream",
     "text": [
      "Processing <PIL.Image.Image image mode=L size=269x269 at 0x28388CA10>: 100%|█| 6\n"
     ]
    },
    {
     "name": "stdout",
     "output_type": "stream",
     "text": [
      "/Users/jayrambhiya/Desktop/DSCI 552/Final Project/dataverse_files/dataverse_hirise_v3/data/ESP_019251_2385_0_5120_20480_25600/tiles/background\n",
      "number of images in the source directory: 54\n",
      "Initialised with 54 image(s) found.\n",
      "Output directory set to /Users/jayrambhiya/Desktop/DSCI 552/Final Project/dataverse_files/dataverse_hirise_v3/augmented_training_data/."
     ]
    },
    {
     "name": "stderr",
     "output_type": "stream",
     "text": [
      "Processing <PIL.Image.Image image mode=L size=269x269 at 0x283559A10>: 100%|█| 5\n"
     ]
    },
    {
     "name": "stdout",
     "output_type": "stream",
     "text": [
      "/Users/jayrambhiya/Desktop/DSCI 552/Final Project/dataverse_files/dataverse_hirise_v3/data/ESP_019251_2385_46080_51200_30720_33558/tiles/background\n",
      "number of images in the source directory: 19\n",
      "Initialised with 19 image(s) found.\n",
      "Output directory set to /Users/jayrambhiya/Desktop/DSCI 552/Final Project/dataverse_files/dataverse_hirise_v3/augmented_training_data/."
     ]
    },
    {
     "name": "stderr",
     "output_type": "stream",
     "text": [
      "Processing <PIL.Image.Image image mode=L size=269x269 at 0x283150250>: 100%|█| 1\n"
     ]
    },
    {
     "name": "stdout",
     "output_type": "stream",
     "text": [
      "/Users/jayrambhiya/Desktop/DSCI 552/Final Project/dataverse_files/dataverse_hirise_v3/data/ESP_019459_2185_25600_30720_20480_25600/tiles/background\n",
      "number of images in the source directory: 64\n",
      "Initialised with 64 image(s) found.\n",
      "Output directory set to /Users/jayrambhiya/Desktop/DSCI 552/Final Project/dataverse_files/dataverse_hirise_v3/augmented_training_data/."
     ]
    },
    {
     "name": "stderr",
     "output_type": "stream",
     "text": [
      "Processing <PIL.Image.Image image mode=L size=299x299 at 0x281063410>: 100%|█| 6\n"
     ]
    },
    {
     "name": "stdout",
     "output_type": "stream",
     "text": [
      "/Users/jayrambhiya/Desktop/DSCI 552/Final Project/dataverse_files/dataverse_hirise_v3/data/ESP_019459_2185_20480_25600_20480_25600/tiles/background\n",
      "number of images in the source directory: 64\n",
      "Initialised with 64 image(s) found.\n",
      "Output directory set to /Users/jayrambhiya/Desktop/DSCI 552/Final Project/dataverse_files/dataverse_hirise_v3/augmented_training_data/."
     ]
    },
    {
     "name": "stderr",
     "output_type": "stream",
     "text": [
      "Processing <PIL.Image.Image image mode=L size=269x269 at 0x28347B850>: 100%|█| 6\n"
     ]
    },
    {
     "name": "stdout",
     "output_type": "stream",
     "text": [
      "/Users/jayrambhiya/Desktop/DSCI 552/Final Project/dataverse_files/dataverse_hirise_v3/data/ESP_019459_2185_30720_35840_25600_29008/tiles/background\n",
      "number of images in the source directory: 38\n",
      "Initialised with 38 image(s) found.\n",
      "Output directory set to /Users/jayrambhiya/Desktop/DSCI 552/Final Project/dataverse_files/dataverse_hirise_v3/augmented_training_data/."
     ]
    },
    {
     "name": "stderr",
     "output_type": "stream",
     "text": [
      "Processing <PIL.Image.Image image mode=L size=269x269 at 0x282881FD0>: 100%|█| 3\n"
     ]
    },
    {
     "name": "stdout",
     "output_type": "stream",
     "text": [
      "/Users/jayrambhiya/Desktop/DSCI 552/Final Project/dataverse_files/dataverse_hirise_v3/data/ESP_019459_2185_30720_35840_5120_10240/tiles/background\n",
      "number of images in the source directory: 64\n",
      "Initialised with 64 image(s) found.\n",
      "Output directory set to /Users/jayrambhiya/Desktop/DSCI 552/Final Project/dataverse_files/dataverse_hirise_v3/augmented_training_data/."
     ]
    },
    {
     "name": "stderr",
     "output_type": "stream",
     "text": [
      "Processing <PIL.Image.Image image mode=L size=269x269 at 0x283569D50>: 100%|█| 6\n"
     ]
    },
    {
     "name": "stdout",
     "output_type": "stream",
     "text": [
      "/Users/jayrambhiya/Desktop/DSCI 552/Final Project/dataverse_files/dataverse_hirise_v3/data/ESP_019459_2185_30720_35840_0_5120/tiles/background\n",
      "number of images in the source directory: 11\n",
      "Initialised with 11 image(s) found.\n",
      "Output directory set to /Users/jayrambhiya/Desktop/DSCI 552/Final Project/dataverse_files/dataverse_hirise_v3/augmented_training_data/."
     ]
    },
    {
     "name": "stderr",
     "output_type": "stream",
     "text": [
      "Processing <PIL.Image.Image image mode=L size=269x269 at 0x281142210>: 100%|█| 1\n"
     ]
    },
    {
     "name": "stdout",
     "output_type": "stream",
     "text": [
      "/Users/jayrambhiya/Desktop/DSCI 552/Final Project/dataverse_files/dataverse_hirise_v3/data/ESP_019459_2185_25600_30720_15360_20480/tiles/background\n",
      "number of images in the source directory: 64\n",
      "Initialised with 64 image(s) found.\n",
      "Output directory set to /Users/jayrambhiya/Desktop/DSCI 552/Final Project/dataverse_files/dataverse_hirise_v3/augmented_training_data/."
     ]
    },
    {
     "name": "stderr",
     "output_type": "stream",
     "text": [
      "Processing <PIL.Image.Image image mode=L size=269x269 at 0x155E52650>: 100%|█| 6\n"
     ]
    },
    {
     "name": "stdout",
     "output_type": "stream",
     "text": [
      "/Users/jayrambhiya/Desktop/DSCI 552/Final Project/dataverse_files/dataverse_hirise_v3/data/ESP_019636_1300_10240_15360_5120_10240/tiles/frost\n",
      "number of images in the source directory: 37\n",
      "Initialised with 37 image(s) found.\n",
      "Output directory set to /Users/jayrambhiya/Desktop/DSCI 552/Final Project/dataverse_files/dataverse_hirise_v3/augmented_training_data/."
     ]
    },
    {
     "name": "stderr",
     "output_type": "stream",
     "text": [
      "Processing <PIL.Image.Image image mode=L size=299x299 at 0x282881CD0>: 100%|█| 3\n"
     ]
    },
    {
     "name": "stdout",
     "output_type": "stream",
     "text": [
      "/Users/jayrambhiya/Desktop/DSCI 552/Final Project/dataverse_files/dataverse_hirise_v3/data/ESP_019636_1300_5120_10240_5120_10240/tiles/frost\n",
      "number of images in the source directory: 96\n",
      "Initialised with 96 image(s) found.\n",
      "Output directory set to /Users/jayrambhiya/Desktop/DSCI 552/Final Project/dataverse_files/dataverse_hirise_v3/augmented_training_data/."
     ]
    },
    {
     "name": "stderr",
     "output_type": "stream",
     "text": [
      "Processing <PIL.Image.Image image mode=L size=269x269 at 0x28351F190>: 100%|█| 9\n"
     ]
    },
    {
     "name": "stdout",
     "output_type": "stream",
     "text": [
      "/Users/jayrambhiya/Desktop/DSCI 552/Final Project/dataverse_files/dataverse_hirise_v3/data/ESP_019636_1300_15360_20480_5120_10240/tiles/frost\n",
      "number of images in the source directory: 140\n",
      "Initialised with 140 image(s) found.\n",
      "Output directory set to /Users/jayrambhiya/Desktop/DSCI 552/Final Project/dataverse_files/dataverse_hirise_v3/augmented_training_data/."
     ]
    },
    {
     "name": "stderr",
     "output_type": "stream",
     "text": [
      "Processing <PIL.Image.Image image mode=L size=269x269 at 0x281018A10>: 100%|█| 1\n"
     ]
    },
    {
     "name": "stdout",
     "output_type": "stream",
     "text": [
      "/Users/jayrambhiya/Desktop/DSCI 552/Final Project/dataverse_files/dataverse_hirise_v3/data/ESP_019636_1300_35840_40960_5120_10240/tiles/frost\n",
      "number of images in the source directory: 138\n",
      "Initialised with 138 image(s) found.\n",
      "Output directory set to /Users/jayrambhiya/Desktop/DSCI 552/Final Project/dataverse_files/dataverse_hirise_v3/augmented_training_data/."
     ]
    },
    {
     "name": "stderr",
     "output_type": "stream",
     "text": [
      "Processing <PIL.Image.Image image mode=L size=299x299 at 0x28352C4D0>: 100%|█| 1\n"
     ]
    },
    {
     "name": "stdout",
     "output_type": "stream",
     "text": [
      "/Users/jayrambhiya/Desktop/DSCI 552/Final Project/dataverse_files/dataverse_hirise_v3/data/ESP_019781_1300_25600_30720_10240_15141/tiles/frost\n",
      "number of images in the source directory: 1\n",
      "Initialised with 1 image(s) found.\n",
      "Output directory set to /Users/jayrambhiya/Desktop/DSCI 552/Final Project/dataverse_files/dataverse_hirise_v3/augmented_training_data/."
     ]
    },
    {
     "name": "stderr",
     "output_type": "stream",
     "text": [
      "Processing <PIL.Image.Image image mode=L size=299x299 at 0x28110E290>: 100%|█| 1\n"
     ]
    },
    {
     "name": "stdout",
     "output_type": "stream",
     "text": [
      "/Users/jayrambhiya/Desktop/DSCI 552/Final Project/dataverse_files/dataverse_hirise_v3/data/ESP_019781_1300_0_5120_5120_10240/tiles/frost\n",
      "number of images in the source directory: 56\n",
      "Initialised with 56 image(s) found.\n",
      "Output directory set to /Users/jayrambhiya/Desktop/DSCI 552/Final Project/dataverse_files/dataverse_hirise_v3/augmented_training_data/."
     ]
    },
    {
     "name": "stderr",
     "output_type": "stream",
     "text": [
      "Processing <PIL.Image.Image image mode=L size=269x269 at 0x172301D10>: 100%|█| 5\n"
     ]
    },
    {
     "name": "stdout",
     "output_type": "stream",
     "text": [
      "/Users/jayrambhiya/Desktop/DSCI 552/Final Project/dataverse_files/dataverse_hirise_v3/data/ESP_019781_1300_20480_25600_5120_10240/tiles/frost\n",
      "number of images in the source directory: 5\n",
      "Initialised with 5 image(s) found.\n",
      "Output directory set to /Users/jayrambhiya/Desktop/DSCI 552/Final Project/dataverse_files/dataverse_hirise_v3/augmented_training_data/."
     ]
    },
    {
     "name": "stderr",
     "output_type": "stream",
     "text": [
      "Processing <PIL.Image.Image image mode=L size=269x269 at 0x28353F890>: 100%|█| 5\n"
     ]
    },
    {
     "name": "stdout",
     "output_type": "stream",
     "text": [
      "/Users/jayrambhiya/Desktop/DSCI 552/Final Project/dataverse_files/dataverse_hirise_v3/data/ESP_019781_1300_5120_10240_5120_10240/tiles/frost\n",
      "number of images in the source directory: 12\n",
      "Initialised with 12 image(s) found.\n",
      "Output directory set to /Users/jayrambhiya/Desktop/DSCI 552/Final Project/dataverse_files/dataverse_hirise_v3/augmented_training_data/."
     ]
    },
    {
     "name": "stderr",
     "output_type": "stream",
     "text": [
      "Processing <PIL.Image.Image image mode=L size=299x299 at 0x155E52650>: 100%|█| 1\n"
     ]
    },
    {
     "name": "stdout",
     "output_type": "stream",
     "text": [
      "/Users/jayrambhiya/Desktop/DSCI 552/Final Project/dataverse_files/dataverse_hirise_v3/data/ESP_020415_1195_10240_15360_0_5120/tiles/frost\n",
      "number of images in the source directory: 202\n",
      "Initialised with 202 image(s) found.\n",
      "Output directory set to /Users/jayrambhiya/Desktop/DSCI 552/Final Project/dataverse_files/dataverse_hirise_v3/augmented_training_data/."
     ]
    },
    {
     "name": "stderr",
     "output_type": "stream",
     "text": [
      "Processing <PIL.Image.Image image mode=L size=269x269 at 0x2824A6750>: 100%|█| 2\n"
     ]
    },
    {
     "name": "stdout",
     "output_type": "stream",
     "text": [
      "/Users/jayrambhiya/Desktop/DSCI 552/Final Project/dataverse_files/dataverse_hirise_v3/data/ESP_020415_1195_10240_15360_5120_10240/tiles/frost\n",
      "number of images in the source directory: 259\n",
      "Initialised with 259 image(s) found.\n",
      "Output directory set to /Users/jayrambhiya/Desktop/DSCI 552/Final Project/dataverse_files/dataverse_hirise_v3/augmented_training_data/."
     ]
    },
    {
     "name": "stderr",
     "output_type": "stream",
     "text": [
      "Processing <PIL.Image.Image image mode=L size=299x299 at 0x2834AAD10>: 100%|█| 2\n"
     ]
    },
    {
     "name": "stdout",
     "output_type": "stream",
     "text": [
      "/Users/jayrambhiya/Desktop/DSCI 552/Final Project/dataverse_files/dataverse_hirise_v3/data/ESP_020415_1195_0_5120_5120_10240/tiles/frost\n",
      "number of images in the source directory: 262\n",
      "Initialised with 262 image(s) found.\n",
      "Output directory set to /Users/jayrambhiya/Desktop/DSCI 552/Final Project/dataverse_files/dataverse_hirise_v3/augmented_training_data/."
     ]
    },
    {
     "name": "stderr",
     "output_type": "stream",
     "text": [
      "Processing <PIL.Image.Image image mode=L size=299x299 at 0x281104B50>: 100%|█| 2\n"
     ]
    },
    {
     "name": "stdout",
     "output_type": "stream",
     "text": [
      "/Users/jayrambhiya/Desktop/DSCI 552/Final Project/dataverse_files/dataverse_hirise_v3/data/ESP_020415_1195_15360_20480_5120_10240/tiles/frost\n",
      "number of images in the source directory: 270\n",
      "Initialised with 270 image(s) found.\n",
      "Output directory set to /Users/jayrambhiya/Desktop/DSCI 552/Final Project/dataverse_files/dataverse_hirise_v3/augmented_training_data/."
     ]
    },
    {
     "name": "stderr",
     "output_type": "stream",
     "text": [
      "Processing <PIL.Image.Image image mode=L size=269x269 at 0x2833DD5D0>: 100%|█| 2\n"
     ]
    },
    {
     "name": "stdout",
     "output_type": "stream",
     "text": [
      "/Users/jayrambhiya/Desktop/DSCI 552/Final Project/dataverse_files/dataverse_hirise_v3/data/ESP_022508_2385_5120_10240_10240_15360/tiles/frost\n",
      "number of images in the source directory: 217\n",
      "Initialised with 217 image(s) found.\n",
      "Output directory set to /Users/jayrambhiya/Desktop/DSCI 552/Final Project/dataverse_files/dataverse_hirise_v3/augmented_training_data/."
     ]
    },
    {
     "name": "stderr",
     "output_type": "stream",
     "text": [
      "Processing <PIL.Image.Image image mode=L size=269x269 at 0x283817590>: 100%|█| 2\n"
     ]
    },
    {
     "name": "stdout",
     "output_type": "stream",
     "text": [
      "/Users/jayrambhiya/Desktop/DSCI 552/Final Project/dataverse_files/dataverse_hirise_v3/data/ESP_024291_2445_35840_40960_15360_20480/tiles/frost\n",
      "number of images in the source directory: 176\n",
      "Initialised with 176 image(s) found.\n",
      "Output directory set to /Users/jayrambhiya/Desktop/DSCI 552/Final Project/dataverse_files/dataverse_hirise_v3/augmented_training_data/."
     ]
    },
    {
     "name": "stderr",
     "output_type": "stream",
     "text": [
      "Processing <PIL.Image.Image image mode=L size=269x269 at 0x280CEC1D0>: 100%|█| 1\n"
     ]
    },
    {
     "name": "stdout",
     "output_type": "stream",
     "text": [
      "/Users/jayrambhiya/Desktop/DSCI 552/Final Project/dataverse_files/dataverse_hirise_v3/data/ESP_024291_2445_51200_56320_15360_20480/tiles/frost\n",
      "number of images in the source directory: 289\n",
      "Initialised with 289 image(s) found.\n",
      "Output directory set to /Users/jayrambhiya/Desktop/DSCI 552/Final Project/dataverse_files/dataverse_hirise_v3/augmented_training_data/."
     ]
    },
    {
     "name": "stderr",
     "output_type": "stream",
     "text": [
      "Processing <PIL.Image.Image image mode=L size=269x269 at 0x2826527D0>: 100%|█| 2\n"
     ]
    },
    {
     "name": "stdout",
     "output_type": "stream",
     "text": [
      "/Users/jayrambhiya/Desktop/DSCI 552/Final Project/dataverse_files/dataverse_hirise_v3/data/ESP_024291_2445_20480_25600_10240_15360/tiles/frost\n",
      "number of images in the source directory: 256\n",
      "Initialised with 256 image(s) found.\n",
      "Output directory set to /Users/jayrambhiya/Desktop/DSCI 552/Final Project/dataverse_files/dataverse_hirise_v3/augmented_training_data/."
     ]
    },
    {
     "name": "stderr",
     "output_type": "stream",
     "text": [
      "Processing <PIL.Image.Image image mode=L size=269x269 at 0x172541FD0>: 100%|█| 2\n"
     ]
    },
    {
     "name": "stdout",
     "output_type": "stream",
     "text": [
      "/Users/jayrambhiya/Desktop/DSCI 552/Final Project/dataverse_files/dataverse_hirise_v3/data/ESP_024370_2445_0_5120_0_5120/tiles/frost\n",
      "number of images in the source directory: 158\n",
      "Initialised with 158 image(s) found.\n",
      "Output directory set to /Users/jayrambhiya/Desktop/DSCI 552/Final Project/dataverse_files/dataverse_hirise_v3/augmented_training_data/."
     ]
    },
    {
     "name": "stderr",
     "output_type": "stream",
     "text": [
      "Processing <PIL.Image.Image image mode=L size=299x299 at 0x15570DF50>: 100%|█| 1\n"
     ]
    },
    {
     "name": "stdout",
     "output_type": "stream",
     "text": [
      "/Users/jayrambhiya/Desktop/DSCI 552/Final Project/dataverse_files/dataverse_hirise_v3/data/ESP_024370_2445_56320_61440_10240_15360/tiles/frost\n",
      "number of images in the source directory: 214\n",
      "Initialised with 214 image(s) found.\n",
      "Output directory set to /Users/jayrambhiya/Desktop/DSCI 552/Final Project/dataverse_files/dataverse_hirise_v3/augmented_training_data/."
     ]
    },
    {
     "name": "stderr",
     "output_type": "stream",
     "text": [
      "Processing <PIL.Image.Image image mode=L size=299x299 at 0x282BA2F90>: 100%|█| 2\n"
     ]
    },
    {
     "name": "stdout",
     "output_type": "stream",
     "text": [
      "/Users/jayrambhiya/Desktop/DSCI 552/Final Project/dataverse_files/dataverse_hirise_v3/data/ESP_024370_2445_30720_35840_5120_10240/tiles/frost\n",
      "number of images in the source directory: 180\n",
      "Initialised with 180 image(s) found.\n",
      "Output directory set to /Users/jayrambhiya/Desktop/DSCI 552/Final Project/dataverse_files/dataverse_hirise_v3/augmented_training_data/."
     ]
    },
    {
     "name": "stderr",
     "output_type": "stream",
     "text": [
      "Processing <PIL.Image.Image image mode=L size=269x269 at 0x15320C850>: 100%|█| 1\n"
     ]
    },
    {
     "name": "stdout",
     "output_type": "stream",
     "text": [
      "/Users/jayrambhiya/Desktop/DSCI 552/Final Project/dataverse_files/dataverse_hirise_v3/data/ESP_027706_1300_20480_25600_5120_10240/tiles/frost\n",
      "number of images in the source directory: 138\n",
      "Initialised with 138 image(s) found.\n",
      "Output directory set to /Users/jayrambhiya/Desktop/DSCI 552/Final Project/dataverse_files/dataverse_hirise_v3/augmented_training_data/."
     ]
    },
    {
     "name": "stderr",
     "output_type": "stream",
     "text": [
      "Processing <PIL.Image.Image image mode=L size=269x269 at 0x157AE1ED0>: 100%|█| 1\n"
     ]
    },
    {
     "name": "stdout",
     "output_type": "stream",
     "text": [
      "/Users/jayrambhiya/Desktop/DSCI 552/Final Project/dataverse_files/dataverse_hirise_v3/data/ESP_027706_1300_25600_30720_5120_10240/tiles/frost\n",
      "number of images in the source directory: 101\n",
      "Initialised with 101 image(s) found.\n",
      "Output directory set to /Users/jayrambhiya/Desktop/DSCI 552/Final Project/dataverse_files/dataverse_hirise_v3/augmented_training_data/."
     ]
    },
    {
     "name": "stderr",
     "output_type": "stream",
     "text": [
      "Processing <PIL.Image.Image image mode=L size=269x269 at 0x2828814D0>: 100%|█| 1\n"
     ]
    },
    {
     "name": "stdout",
     "output_type": "stream",
     "text": [
      "/Users/jayrambhiya/Desktop/DSCI 552/Final Project/dataverse_files/dataverse_hirise_v3/data/ESP_027706_1300_30720_35840_5120_10240/tiles/frost\n",
      "number of images in the source directory: 75\n",
      "Initialised with 75 image(s) found.\n",
      "Output directory set to /Users/jayrambhiya/Desktop/DSCI 552/Final Project/dataverse_files/dataverse_hirise_v3/augmented_training_data/."
     ]
    },
    {
     "name": "stderr",
     "output_type": "stream",
     "text": [
      "Processing <PIL.Image.Image image mode=L size=269x269 at 0x281139B50>: 100%|█| 7\n"
     ]
    },
    {
     "name": "stdout",
     "output_type": "stream",
     "text": [
      "/Users/jayrambhiya/Desktop/DSCI 552/Final Project/dataverse_files/dataverse_hirise_v3/data/ESP_027706_1300_15360_20480_0_5120/tiles/frost\n",
      "number of images in the source directory: 111\n",
      "Initialised with 111 image(s) found.\n",
      "Output directory set to /Users/jayrambhiya/Desktop/DSCI 552/Final Project/dataverse_files/dataverse_hirise_v3/augmented_training_data/."
     ]
    },
    {
     "name": "stderr",
     "output_type": "stream",
     "text": [
      "Processing <PIL.Image.Image image mode=L size=269x269 at 0x2835422D0>: 100%|█| 1\n"
     ]
    },
    {
     "name": "stdout",
     "output_type": "stream",
     "text": [
      "/Users/jayrambhiya/Desktop/DSCI 552/Final Project/dataverse_files/dataverse_hirise_v3/data/ESP_028733_2230_61440_66560_15360_20480/tiles/background\n",
      "number of images in the source directory: 64\n",
      "Initialised with 64 image(s) found.\n",
      "Output directory set to /Users/jayrambhiya/Desktop/DSCI 552/Final Project/dataverse_files/dataverse_hirise_v3/augmented_training_data/."
     ]
    },
    {
     "name": "stderr",
     "output_type": "stream",
     "text": [
      "Processing <PIL.Image.Image image mode=L size=269x269 at 0x28341D8D0>: 100%|█| 6\n"
     ]
    },
    {
     "name": "stdout",
     "output_type": "stream",
     "text": [
      "/Users/jayrambhiya/Desktop/DSCI 552/Final Project/dataverse_files/dataverse_hirise_v3/data/ESP_028733_2230_15360_20480_20480_25600/tiles/background\n",
      "number of images in the source directory: 59\n",
      "Initialised with 59 image(s) found.\n",
      "Output directory set to /Users/jayrambhiya/Desktop/DSCI 552/Final Project/dataverse_files/dataverse_hirise_v3/augmented_training_data/."
     ]
    },
    {
     "name": "stderr",
     "output_type": "stream",
     "text": [
      "Processing <PIL.Image.Image image mode=L size=299x299 at 0x2824A6810>: 100%|█| 5\n"
     ]
    },
    {
     "name": "stdout",
     "output_type": "stream",
     "text": [
      "/Users/jayrambhiya/Desktop/DSCI 552/Final Project/dataverse_files/dataverse_hirise_v3/data/ESP_028799_2230_10240_15360_0_5120/tiles/background\n",
      "number of images in the source directory: 201\n",
      "Initialised with 201 image(s) found.\n",
      "Output directory set to /Users/jayrambhiya/Desktop/DSCI 552/Final Project/dataverse_files/dataverse_hirise_v3/augmented_training_data/."
     ]
    },
    {
     "name": "stderr",
     "output_type": "stream",
     "text": [
      "Processing <PIL.Image.Image image mode=L size=269x269 at 0x28113B6D0>: 100%|█| 2\n"
     ]
    },
    {
     "name": "stdout",
     "output_type": "stream",
     "text": [
      "/Users/jayrambhiya/Desktop/DSCI 552/Final Project/dataverse_files/dataverse_hirise_v3/data/ESP_028799_2230_20480_25600_5120_10240/tiles/background\n",
      "number of images in the source directory: 289\n",
      "Initialised with 289 image(s) found.\n",
      "Output directory set to /Users/jayrambhiya/Desktop/DSCI 552/Final Project/dataverse_files/dataverse_hirise_v3/augmented_training_data/."
     ]
    },
    {
     "name": "stderr",
     "output_type": "stream",
     "text": [
      "Processing <PIL.Image.Image image mode=L size=299x299 at 0x28347AA50>: 100%|█| 2\n"
     ]
    },
    {
     "name": "stdout",
     "output_type": "stream",
     "text": [
      "/Users/jayrambhiya/Desktop/DSCI 552/Final Project/dataverse_files/dataverse_hirise_v3/data/ESP_028799_2230_25600_30720_0_5120/tiles/background\n",
      "number of images in the source directory: 102\n",
      "Initialised with 102 image(s) found.\n",
      "Output directory set to /Users/jayrambhiya/Desktop/DSCI 552/Final Project/dataverse_files/dataverse_hirise_v3/augmented_training_data/."
     ]
    },
    {
     "name": "stderr",
     "output_type": "stream",
     "text": [
      "Processing <PIL.Image.Image image mode=L size=299x299 at 0x282B99E10>: 100%|█| 1\n"
     ]
    },
    {
     "name": "stdout",
     "output_type": "stream",
     "text": [
      "/Users/jayrambhiya/Desktop/DSCI 552/Final Project/dataverse_files/dataverse_hirise_v3/data/ESP_031989_2385_0_5120_0_5120/tiles/frost\n",
      "number of images in the source directory: 157\n",
      "Initialised with 157 image(s) found.\n",
      "Output directory set to /Users/jayrambhiya/Desktop/DSCI 552/Final Project/dataverse_files/dataverse_hirise_v3/augmented_training_data/."
     ]
    },
    {
     "name": "stderr",
     "output_type": "stream",
     "text": [
      "Processing <PIL.Image.Image image mode=L size=269x269 at 0x1553E5CD0>: 100%|█| 1\n"
     ]
    },
    {
     "name": "stdout",
     "output_type": "stream",
     "text": [
      "/Users/jayrambhiya/Desktop/DSCI 552/Final Project/dataverse_files/dataverse_hirise_v3/data/ESP_032345_2385_10240_15360_5120_10240/tiles/frost\n",
      "number of images in the source directory: 253\n",
      "Initialised with 253 image(s) found.\n",
      "Output directory set to /Users/jayrambhiya/Desktop/DSCI 552/Final Project/dataverse_files/dataverse_hirise_v3/augmented_training_data/."
     ]
    },
    {
     "name": "stderr",
     "output_type": "stream",
     "text": [
      "Processing <PIL.Image.Image image mode=L size=269x269 at 0x176FBEA10>: 100%|█| 2\n"
     ]
    },
    {
     "name": "stdout",
     "output_type": "stream",
     "text": [
      "/Users/jayrambhiya/Desktop/DSCI 552/Final Project/dataverse_files/dataverse_hirise_v3/data/ESP_032556_2385_20480_25600_0_5120/tiles/frost\n",
      "number of images in the source directory: 101\n",
      "Initialised with 101 image(s) found.\n",
      "Output directory set to /Users/jayrambhiya/Desktop/DSCI 552/Final Project/dataverse_files/dataverse_hirise_v3/augmented_training_data/."
     ]
    },
    {
     "name": "stderr",
     "output_type": "stream",
     "text": [
      "Processing <PIL.Image.Image image mode=L size=299x299 at 0x282F5FBD0>: 100%|█| 1\n"
     ]
    },
    {
     "name": "stdout",
     "output_type": "stream",
     "text": [
      "/Users/jayrambhiya/Desktop/DSCI 552/Final Project/dataverse_files/dataverse_hirise_v3/data/ESP_032785_2450_0_5120_0_5120/tiles/frost\n",
      "number of images in the source directory: 157\n",
      "Initialised with 157 image(s) found.\n",
      "Output directory set to /Users/jayrambhiya/Desktop/DSCI 552/Final Project/dataverse_files/dataverse_hirise_v3/augmented_training_data/."
     ]
    },
    {
     "name": "stderr",
     "output_type": "stream",
     "text": [
      "Processing <PIL.Image.Image image mode=L size=269x269 at 0x28340FA10>: 100%|█| 1\n"
     ]
    },
    {
     "name": "stdout",
     "output_type": "stream",
     "text": [
      "/Users/jayrambhiya/Desktop/DSCI 552/Final Project/dataverse_files/dataverse_hirise_v3/data/ESP_032912_2385_5120_10240_5120_10240/tiles/frost\n",
      "number of images in the source directory: 48\n",
      "Initialised with 48 image(s) found.\n",
      "Output directory set to /Users/jayrambhiya/Desktop/DSCI 552/Final Project/dataverse_files/dataverse_hirise_v3/augmented_training_data/."
     ]
    },
    {
     "name": "stderr",
     "output_type": "stream",
     "text": [
      "Processing <PIL.Image.Image image mode=L size=299x299 at 0x28340F890>: 100%|█| 4\n"
     ]
    },
    {
     "name": "stdout",
     "output_type": "stream",
     "text": [
      "/Users/jayrambhiya/Desktop/DSCI 552/Final Project/dataverse_files/dataverse_hirise_v3/data/ESP_032930_2450_20480_25600_25600_30720/tiles/frost\n",
      "number of images in the source directory: 45\n",
      "Initialised with 45 image(s) found.\n",
      "Output directory set to /Users/jayrambhiya/Desktop/DSCI 552/Final Project/dataverse_files/dataverse_hirise_v3/augmented_training_data/."
     ]
    },
    {
     "name": "stderr",
     "output_type": "stream",
     "text": [
      "Processing <PIL.Image.Image image mode=L size=299x299 at 0x28347A550>: 100%|█| 4\n"
     ]
    },
    {
     "name": "stdout",
     "output_type": "stream",
     "text": [
      "/Users/jayrambhiya/Desktop/DSCI 552/Final Project/dataverse_files/dataverse_hirise_v3/data/ESP_033141_2450_61440_66560_20480_25600/tiles/frost\n",
      "number of images in the source directory: 58\n",
      "Initialised with 58 image(s) found.\n",
      "Output directory set to /Users/jayrambhiya/Desktop/DSCI 552/Final Project/dataverse_files/dataverse_hirise_v3/augmented_training_data/."
     ]
    },
    {
     "name": "stderr",
     "output_type": "stream",
     "text": [
      "Processing <PIL.Image.Image image mode=L size=299x299 at 0x282BA2B50>: 100%|█| 5\n"
     ]
    },
    {
     "name": "stdout",
     "output_type": "stream",
     "text": [
      "/Users/jayrambhiya/Desktop/DSCI 552/Final Project/dataverse_files/dataverse_hirise_v3/data/ESP_033141_2450_5120_10240_10240_15360/tiles/frost\n",
      "number of images in the source directory: 56\n",
      "Initialised with 56 image(s) found.\n",
      "Output directory set to /Users/jayrambhiya/Desktop/DSCI 552/Final Project/dataverse_files/dataverse_hirise_v3/augmented_training_data/."
     ]
    },
    {
     "name": "stderr",
     "output_type": "stream",
     "text": [
      "Processing <PIL.Image.Image image mode=L size=269x269 at 0x281018090>: 100%|█| 5\n"
     ]
    },
    {
     "name": "stdout",
     "output_type": "stream",
     "text": [
      "/Users/jayrambhiya/Desktop/DSCI 552/Final Project/dataverse_files/dataverse_hirise_v3/data/ESP_035958_2385_15360_20480_10240_15360/tiles/background\n",
      "number of images in the source directory: 235\n",
      "Initialised with 235 image(s) found.\n",
      "Output directory set to /Users/jayrambhiya/Desktop/DSCI 552/Final Project/dataverse_files/dataverse_hirise_v3/augmented_training_data/."
     ]
    },
    {
     "name": "stderr",
     "output_type": "stream",
     "text": [
      "Processing <PIL.Image.Image image mode=L size=269x269 at 0x172542210>: 100%|█| 2\n"
     ]
    },
    {
     "name": "stdout",
     "output_type": "stream",
     "text": [
      "/Users/jayrambhiya/Desktop/DSCI 552/Final Project/dataverse_files/dataverse_hirise_v3/data/ESP_035958_2385_0_5120_10240_15360/tiles/background\n",
      "number of images in the source directory: 116\n",
      "Initialised with 116 image(s) found.\n",
      "Output directory set to /Users/jayrambhiya/Desktop/DSCI 552/Final Project/dataverse_files/dataverse_hirise_v3/augmented_training_data/."
     ]
    },
    {
     "name": "stderr",
     "output_type": "stream",
     "text": [
      "Processing <PIL.Image.Image image mode=L size=299x299 at 0x11B6BFF50>: 100%|█| 1\n"
     ]
    },
    {
     "name": "stdout",
     "output_type": "stream",
     "text": [
      "/Users/jayrambhiya/Desktop/DSCI 552/Final Project/dataverse_files/dataverse_hirise_v3/data/ESP_035958_2385_5120_10240_0_5120/tiles/background\n",
      "number of images in the source directory: 234\n",
      "Initialised with 234 image(s) found.\n",
      "Output directory set to /Users/jayrambhiya/Desktop/DSCI 552/Final Project/dataverse_files/dataverse_hirise_v3/augmented_training_data/."
     ]
    },
    {
     "name": "stderr",
     "output_type": "stream",
     "text": [
      "Processing <PIL.Image.Image image mode=L size=299x299 at 0x2838527D0>: 100%|█| 2\n"
     ]
    },
    {
     "name": "stdout",
     "output_type": "stream",
     "text": [
      "/Users/jayrambhiya/Desktop/DSCI 552/Final Project/dataverse_files/dataverse_hirise_v3/data/ESP_035958_2385_10240_15360_5120_10240/tiles/background\n",
      "number of images in the source directory: 289\n",
      "Initialised with 289 image(s) found.\n",
      "Output directory set to /Users/jayrambhiya/Desktop/DSCI 552/Final Project/dataverse_files/dataverse_hirise_v3/augmented_training_data/."
     ]
    },
    {
     "name": "stderr",
     "output_type": "stream",
     "text": [
      "Processing <PIL.Image.Image image mode=L size=269x269 at 0x28264B810>: 100%|█| 2\n"
     ]
    },
    {
     "name": "stdout",
     "output_type": "stream",
     "text": [
      "/Users/jayrambhiya/Desktop/DSCI 552/Final Project/dataverse_files/dataverse_hirise_v3/data/ESP_035958_2385_15360_20480_5120_10240/tiles/background\n",
      "number of images in the source directory: 289\n",
      "Initialised with 289 image(s) found.\n",
      "Output directory set to /Users/jayrambhiya/Desktop/DSCI 552/Final Project/dataverse_files/dataverse_hirise_v3/augmented_training_data/."
     ]
    },
    {
     "name": "stderr",
     "output_type": "stream",
     "text": [
      "Processing <PIL.Image.Image image mode=L size=299x299 at 0x28110D710>: 100%|█| 2\n"
     ]
    },
    {
     "name": "stdout",
     "output_type": "stream",
     "text": [
      "/Users/jayrambhiya/Desktop/DSCI 552/Final Project/dataverse_files/dataverse_hirise_v3/data/ESP_035958_2385_35840_38175_15360_16935/tiles/background\n",
      "number of images in the source directory: 15\n",
      "Initialised with 15 image(s) found.\n",
      "Output directory set to /Users/jayrambhiya/Desktop/DSCI 552/Final Project/dataverse_files/dataverse_hirise_v3/augmented_training_data/."
     ]
    },
    {
     "name": "stderr",
     "output_type": "stream",
     "text": [
      "Processing <PIL.Image.Image image mode=L size=269x269 at 0x283483C10>: 100%|█| 1\n"
     ]
    },
    {
     "name": "stdout",
     "output_type": "stream",
     "text": [
      "/Users/jayrambhiya/Desktop/DSCI 552/Final Project/dataverse_files/dataverse_hirise_v3/data/ESP_035958_2385_10240_15360_10240_15360/tiles/background\n",
      "number of images in the source directory: 199\n",
      "Initialised with 199 image(s) found.\n",
      "Output directory set to /Users/jayrambhiya/Desktop/DSCI 552/Final Project/dataverse_files/dataverse_hirise_v3/augmented_training_data/."
     ]
    },
    {
     "name": "stderr",
     "output_type": "stream",
     "text": [
      "Processing <PIL.Image.Image image mode=L size=269x269 at 0x282B99F90>: 100%|█| 1\n"
     ]
    },
    {
     "name": "stdout",
     "output_type": "stream",
     "text": [
      "/Users/jayrambhiya/Desktop/DSCI 552/Final Project/dataverse_files/dataverse_hirise_v3/data/ESP_035958_2385_25600_30720_10240_15360/tiles/background\n",
      "number of images in the source directory: 289\n",
      "Initialised with 289 image(s) found.\n",
      "Output directory set to /Users/jayrambhiya/Desktop/DSCI 552/Final Project/dataverse_files/dataverse_hirise_v3/augmented_training_data/."
     ]
    },
    {
     "name": "stderr",
     "output_type": "stream",
     "text": [
      "Processing <PIL.Image.Image image mode=L size=269x269 at 0x28111ADD0>: 100%|█| 2\n"
     ]
    },
    {
     "name": "stdout",
     "output_type": "stream",
     "text": [
      "/Users/jayrambhiya/Desktop/DSCI 552/Final Project/dataverse_files/dataverse_hirise_v3/data/ESP_036357_1255_0_5120_0_5120/tiles/frost\n",
      "number of images in the source directory: 783\n",
      "Initialised with 783 image(s) found.\n",
      "Output directory set to /Users/jayrambhiya/Desktop/DSCI 552/Final Project/dataverse_files/dataverse_hirise_v3/augmented_training_data/."
     ]
    },
    {
     "name": "stderr",
     "output_type": "stream",
     "text": [
      "Processing <PIL.Image.Image image mode=L size=269x269 at 0x1725165D0>: 100%|█| 7\n"
     ]
    },
    {
     "name": "stdout",
     "output_type": "stream",
     "text": [
      "/Users/jayrambhiya/Desktop/DSCI 552/Final Project/dataverse_files/dataverse_hirise_v3/data/ESP_036357_1255_10240_15360_0_5120/tiles/frost\n",
      "number of images in the source directory: 704\n",
      "Initialised with 704 image(s) found.\n",
      "Output directory set to /Users/jayrambhiya/Desktop/DSCI 552/Final Project/dataverse_files/dataverse_hirise_v3/augmented_training_data/."
     ]
    },
    {
     "name": "stderr",
     "output_type": "stream",
     "text": [
      "Processing <PIL.Image.Image image mode=L size=299x299 at 0x172538510>: 100%|█| 7\n"
     ]
    },
    {
     "name": "stdout",
     "output_type": "stream",
     "text": [
      "/Users/jayrambhiya/Desktop/DSCI 552/Final Project/dataverse_files/dataverse_hirise_v3/data/ESP_036357_1255_15360_20480_0_5120/tiles/frost\n",
      "number of images in the source directory: 137\n",
      "Initialised with 137 image(s) found.\n",
      "Output directory set to /Users/jayrambhiya/Desktop/DSCI 552/Final Project/dataverse_files/dataverse_hirise_v3/augmented_training_data/."
     ]
    },
    {
     "name": "stderr",
     "output_type": "stream",
     "text": [
      "Processing <PIL.Image.Image image mode=L size=269x269 at 0x2810EA7D0>: 100%|█| 1\n"
     ]
    },
    {
     "name": "stdout",
     "output_type": "stream",
     "text": [
      "/Users/jayrambhiya/Desktop/DSCI 552/Final Project/dataverse_files/dataverse_hirise_v3/data/ESP_036357_1255_5120_10240_0_5120/tiles/frost\n",
      "number of images in the source directory: 42\n",
      "Initialised with 42 image(s) found.\n",
      "Output directory set to /Users/jayrambhiya/Desktop/DSCI 552/Final Project/dataverse_files/dataverse_hirise_v3/augmented_training_data/."
     ]
    },
    {
     "name": "stderr",
     "output_type": "stream",
     "text": [
      "Processing <PIL.Image.Image image mode=L size=269x269 at 0x281080650>: 100%|█| 4\n"
     ]
    },
    {
     "name": "stdout",
     "output_type": "stream",
     "text": [
      "/Users/jayrambhiya/Desktop/DSCI 552/Final Project/dataverse_files/dataverse_hirise_v3/data/ESP_036752_2440_25600_30720_10240_15360/tiles/background\n",
      "number of images in the source directory: 289\n",
      "Initialised with 289 image(s) found.\n",
      "Output directory set to /Users/jayrambhiya/Desktop/DSCI 552/Final Project/dataverse_files/dataverse_hirise_v3/augmented_training_data/."
     ]
    },
    {
     "name": "stderr",
     "output_type": "stream",
     "text": [
      "Processing <PIL.Image.Image image mode=L size=299x299 at 0x14E5E8110>: 100%|█| 2\n"
     ]
    },
    {
     "name": "stdout",
     "output_type": "stream",
     "text": [
      "/Users/jayrambhiya/Desktop/DSCI 552/Final Project/dataverse_files/dataverse_hirise_v3/data/ESP_036752_2440_30720_32804_5120_10240/tiles/background\n",
      "number of images in the source directory: 94\n",
      "Initialised with 94 image(s) found.\n",
      "Output directory set to /Users/jayrambhiya/Desktop/DSCI 552/Final Project/dataverse_files/dataverse_hirise_v3/augmented_training_data/."
     ]
    },
    {
     "name": "stderr",
     "output_type": "stream",
     "text": [
      "Processing <PIL.Image.Image image mode=L size=299x299 at 0x281061E10>: 100%|█| 9\n"
     ]
    },
    {
     "name": "stdout",
     "output_type": "stream",
     "text": [
      "/Users/jayrambhiya/Desktop/DSCI 552/Final Project/dataverse_files/dataverse_hirise_v3/data/ESP_036752_2440_0_5120_5120_10240/tiles/background\n",
      "number of images in the source directory: 245\n",
      "Initialised with 245 image(s) found.\n",
      "Output directory set to /Users/jayrambhiya/Desktop/DSCI 552/Final Project/dataverse_files/dataverse_hirise_v3/augmented_training_data/."
     ]
    },
    {
     "name": "stderr",
     "output_type": "stream",
     "text": [
      "Processing <PIL.Image.Image image mode=L size=269x269 at 0x282652810>: 100%|█| 2\n"
     ]
    },
    {
     "name": "stdout",
     "output_type": "stream",
     "text": [
      "/Users/jayrambhiya/Desktop/DSCI 552/Final Project/dataverse_files/dataverse_hirise_v3/data/ESP_036752_2440_5120_10240_5120_10240/tiles/background\n",
      "number of images in the source directory: 289\n",
      "Initialised with 289 image(s) found.\n",
      "Output directory set to /Users/jayrambhiya/Desktop/DSCI 552/Final Project/dataverse_files/dataverse_hirise_v3/augmented_training_data/."
     ]
    },
    {
     "name": "stderr",
     "output_type": "stream",
     "text": [
      "Processing <PIL.Image.Image image mode=L size=299x299 at 0x28343ADD0>: 100%|█| 2\n"
     ]
    },
    {
     "name": "stdout",
     "output_type": "stream",
     "text": [
      "/Users/jayrambhiya/Desktop/DSCI 552/Final Project/dataverse_files/dataverse_hirise_v3/data/ESP_036752_2440_30720_32804_15360_17718/tiles/background\n",
      "number of images in the source directory: 14\n",
      "Initialised with 14 image(s) found.\n",
      "Output directory set to /Users/jayrambhiya/Desktop/DSCI 552/Final Project/dataverse_files/dataverse_hirise_v3/augmented_training_data/."
     ]
    },
    {
     "name": "stderr",
     "output_type": "stream",
     "text": [
      "Processing <PIL.Image.Image image mode=L size=269x269 at 0x282BA27D0>: 100%|█| 1\n"
     ]
    },
    {
     "name": "stdout",
     "output_type": "stream",
     "text": [
      "/Users/jayrambhiya/Desktop/DSCI 552/Final Project/dataverse_files/dataverse_hirise_v3/data/ESP_036752_2440_30720_32804_10240_15360/tiles/background\n",
      "number of images in the source directory: 58\n",
      "Initialised with 58 image(s) found.\n",
      "Output directory set to /Users/jayrambhiya/Desktop/DSCI 552/Final Project/dataverse_files/dataverse_hirise_v3/augmented_training_data/."
     ]
    },
    {
     "name": "stderr",
     "output_type": "stream",
     "text": [
      "Processing <PIL.Image.Image image mode=L size=299x299 at 0x17277F3D0>: 100%|█| 5\n"
     ]
    },
    {
     "name": "stdout",
     "output_type": "stream",
     "text": [
      "/Users/jayrambhiya/Desktop/DSCI 552/Final Project/dataverse_files/dataverse_hirise_v3/data/ESP_036752_2440_25600_30720_5120_10240/tiles/background\n",
      "number of images in the source directory: 289\n",
      "Initialised with 289 image(s) found.\n",
      "Output directory set to /Users/jayrambhiya/Desktop/DSCI 552/Final Project/dataverse_files/dataverse_hirise_v3/augmented_training_data/."
     ]
    },
    {
     "name": "stderr",
     "output_type": "stream",
     "text": [
      "Processing <PIL.Image.Image image mode=L size=269x269 at 0x2834264D0>: 100%|█| 2\n"
     ]
    },
    {
     "name": "stdout",
     "output_type": "stream",
     "text": [
      "/Users/jayrambhiya/Desktop/DSCI 552/Final Project/dataverse_files/dataverse_hirise_v3/data/ESP_038058_1205_15360_20480_5120_10240/tiles/frost\n",
      "number of images in the source directory: 289\n",
      "Initialised with 289 image(s) found.\n",
      "Output directory set to /Users/jayrambhiya/Desktop/DSCI 552/Final Project/dataverse_files/dataverse_hirise_v3/augmented_training_data/."
     ]
    },
    {
     "name": "stderr",
     "output_type": "stream",
     "text": [
      "Processing <PIL.Image.Image image mode=L size=299x299 at 0x2811418D0>: 100%|█| 2\n"
     ]
    },
    {
     "name": "stdout",
     "output_type": "stream",
     "text": [
      "/Users/jayrambhiya/Desktop/DSCI 552/Final Project/dataverse_files/dataverse_hirise_v3/data/ESP_038058_1205_0_5120_5120_10240/tiles/frost\n",
      "number of images in the source directory: 242\n",
      "Initialised with 242 image(s) found.\n",
      "Output directory set to /Users/jayrambhiya/Desktop/DSCI 552/Final Project/dataverse_files/dataverse_hirise_v3/augmented_training_data/."
     ]
    },
    {
     "name": "stderr",
     "output_type": "stream",
     "text": [
      "Processing <PIL.Image.Image image mode=L size=269x269 at 0x283425FD0>: 100%|█| 2\n"
     ]
    },
    {
     "name": "stdout",
     "output_type": "stream",
     "text": [
      "/Users/jayrambhiya/Desktop/DSCI 552/Final Project/dataverse_files/dataverse_hirise_v3/data/ESP_038058_1205_20480_25600_5120_10240/tiles/frost\n",
      "number of images in the source directory: 175\n",
      "Initialised with 175 image(s) found.\n",
      "Output directory set to /Users/jayrambhiya/Desktop/DSCI 552/Final Project/dataverse_files/dataverse_hirise_v3/augmented_training_data/."
     ]
    },
    {
     "name": "stderr",
     "output_type": "stream",
     "text": [
      "Processing <PIL.Image.Image image mode=L size=299x299 at 0x1722F0A10>: 100%|█| 1\n"
     ]
    },
    {
     "name": "stdout",
     "output_type": "stream",
     "text": [
      "/Users/jayrambhiya/Desktop/DSCI 552/Final Project/dataverse_files/dataverse_hirise_v3/data/ESP_038058_1205_10240_15360_5120_10240/tiles/frost\n",
      "number of images in the source directory: 289\n",
      "Initialised with 289 image(s) found.\n",
      "Output directory set to /Users/jayrambhiya/Desktop/DSCI 552/Final Project/dataverse_files/dataverse_hirise_v3/augmented_training_data/."
     ]
    },
    {
     "name": "stderr",
     "output_type": "stream",
     "text": [
      "Processing <PIL.Image.Image image mode=L size=269x269 at 0x283433F10>: 100%|█| 2\n"
     ]
    },
    {
     "name": "stdout",
     "output_type": "stream",
     "text": [
      "/Users/jayrambhiya/Desktop/DSCI 552/Final Project/dataverse_files/dataverse_hirise_v3/data/ESP_039175_1200_15360_20480_5120_10240/tiles/frost\n",
      "number of images in the source directory: 256\n",
      "Initialised with 256 image(s) found.\n",
      "Output directory set to /Users/jayrambhiya/Desktop/DSCI 552/Final Project/dataverse_files/dataverse_hirise_v3/augmented_training_data/."
     ]
    },
    {
     "name": "stderr",
     "output_type": "stream",
     "text": [
      "Processing <PIL.Image.Image image mode=L size=269x269 at 0x17253FE50>: 100%|█| 2\n"
     ]
    },
    {
     "name": "stdout",
     "output_type": "stream",
     "text": [
      "/Users/jayrambhiya/Desktop/DSCI 552/Final Project/dataverse_files/dataverse_hirise_v3/data/ESP_039175_1200_20480_25600_5120_10240/tiles/frost\n",
      "number of images in the source directory: 191\n",
      "Initialised with 191 image(s) found.\n",
      "Output directory set to /Users/jayrambhiya/Desktop/DSCI 552/Final Project/dataverse_files/dataverse_hirise_v3/augmented_training_data/."
     ]
    },
    {
     "name": "stderr",
     "output_type": "stream",
     "text": [
      "Processing <PIL.Image.Image image mode=L size=269x269 at 0x280D63290>: 100%|█| 1\n"
     ]
    },
    {
     "name": "stdout",
     "output_type": "stream",
     "text": [
      "/Users/jayrambhiya/Desktop/DSCI 552/Final Project/dataverse_files/dataverse_hirise_v3/data/ESP_039175_1200_0_5120_0_5120/tiles/frost\n",
      "number of images in the source directory: 177\n",
      "Initialised with 177 image(s) found.\n",
      "Output directory set to /Users/jayrambhiya/Desktop/DSCI 552/Final Project/dataverse_files/dataverse_hirise_v3/augmented_training_data/."
     ]
    },
    {
     "name": "stderr",
     "output_type": "stream",
     "text": [
      "Processing <PIL.Image.Image image mode=L size=299x299 at 0x281080BD0>: 100%|█| 1\n"
     ]
    },
    {
     "name": "stdout",
     "output_type": "stream",
     "text": [
      "/Users/jayrambhiya/Desktop/DSCI 552/Final Project/dataverse_files/dataverse_hirise_v3/data/ESP_039175_1200_20480_25600_10240_14496/tiles/frost\n",
      "number of images in the source directory: 41\n",
      "Initialised with 41 image(s) found.\n",
      "Output directory set to /Users/jayrambhiya/Desktop/DSCI 552/Final Project/dataverse_files/dataverse_hirise_v3/augmented_training_data/."
     ]
    },
    {
     "name": "stderr",
     "output_type": "stream",
     "text": [
      "Processing <PIL.Image.Image image mode=L size=299x299 at 0x28107D290>: 100%|█| 4\n"
     ]
    },
    {
     "name": "stdout",
     "output_type": "stream",
     "text": [
      "/Users/jayrambhiya/Desktop/DSCI 552/Final Project/dataverse_files/dataverse_hirise_v3/data/ESP_039888_2385_20480_25600_5120_10240/tiles/frost\n",
      "number of images in the source directory: 132\n",
      "Initialised with 132 image(s) found.\n",
      "Output directory set to /Users/jayrambhiya/Desktop/DSCI 552/Final Project/dataverse_files/dataverse_hirise_v3/augmented_training_data/."
     ]
    },
    {
     "name": "stderr",
     "output_type": "stream",
     "text": [
      "Processing <PIL.Image.Image image mode=L size=299x299 at 0x17253FF50>: 100%|█| 1\n"
     ]
    },
    {
     "name": "stdout",
     "output_type": "stream",
     "text": [
      "/Users/jayrambhiya/Desktop/DSCI 552/Final Project/dataverse_files/dataverse_hirise_v3/data/ESP_040099_2385_25600_28910_0_5120/tiles/frost\n",
      "number of images in the source directory: 42\n",
      "Initialised with 42 image(s) found.\n",
      "Output directory set to /Users/jayrambhiya/Desktop/DSCI 552/Final Project/dataverse_files/dataverse_hirise_v3/augmented_training_data/."
     ]
    },
    {
     "name": "stderr",
     "output_type": "stream",
     "text": [
      "Processing <PIL.Image.Image image mode=L size=269x269 at 0x28110CD10>: 100%|█| 4\n"
     ]
    },
    {
     "name": "stdout",
     "output_type": "stream",
     "text": [
      "/Users/jayrambhiya/Desktop/DSCI 552/Final Project/dataverse_files/dataverse_hirise_v3/data/ESP_040666_2385_10240_15360_5120_10240/tiles/frost\n",
      "number of images in the source directory: 208\n",
      "Initialised with 208 image(s) found.\n",
      "Output directory set to /Users/jayrambhiya/Desktop/DSCI 552/Final Project/dataverse_files/dataverse_hirise_v3/augmented_training_data/."
     ]
    },
    {
     "name": "stderr",
     "output_type": "stream",
     "text": [
      "Processing <PIL.Image.Image image mode=L size=269x269 at 0x281106BD0>: 100%|█| 2\n"
     ]
    },
    {
     "name": "stdout",
     "output_type": "stream",
     "text": [
      "/Users/jayrambhiya/Desktop/DSCI 552/Final Project/dataverse_files/dataverse_hirise_v3/data/ESP_040877_2385_5120_10240_0_5120/tiles/frost\n",
      "number of images in the source directory: 170\n",
      "Initialised with 170 image(s) found.\n",
      "Output directory set to /Users/jayrambhiya/Desktop/DSCI 552/Final Project/dataverse_files/dataverse_hirise_v3/augmented_training_data/."
     ]
    },
    {
     "name": "stderr",
     "output_type": "stream",
     "text": [
      "Processing <PIL.Image.Image image mode=L size=269x269 at 0x281080BD0>: 100%|█| 1\n"
     ]
    },
    {
     "name": "stdout",
     "output_type": "stream",
     "text": [
      "/Users/jayrambhiya/Desktop/DSCI 552/Final Project/dataverse_files/dataverse_hirise_v3/data/ESP_040959_1355_5120_10240_10240_11162/tiles/background\n",
      "number of images in the source directory: 12\n",
      "Initialised with 12 image(s) found.\n",
      "Output directory set to /Users/jayrambhiya/Desktop/DSCI 552/Final Project/dataverse_files/dataverse_hirise_v3/augmented_training_data/."
     ]
    },
    {
     "name": "stderr",
     "output_type": "stream",
     "text": [
      "Processing <PIL.Image.Image image mode=L size=299x299 at 0x281111B50>: 100%|█| 1\n"
     ]
    },
    {
     "name": "stdout",
     "output_type": "stream",
     "text": [
      "/Users/jayrambhiya/Desktop/DSCI 552/Final Project/dataverse_files/dataverse_hirise_v3/data/ESP_040959_1355_0_5120_5120_10240/tiles/background\n",
      "number of images in the source directory: 249\n",
      "Initialised with 249 image(s) found.\n",
      "Output directory set to /Users/jayrambhiya/Desktop/DSCI 552/Final Project/dataverse_files/dataverse_hirise_v3/augmented_training_data/."
     ]
    },
    {
     "name": "stderr",
     "output_type": "stream",
     "text": [
      "Processing <PIL.Image.Image image mode=L size=269x269 at 0x28107E9D0>: 100%|█| 2\n"
     ]
    },
    {
     "name": "stdout",
     "output_type": "stream",
     "text": [
      "/Users/jayrambhiya/Desktop/DSCI 552/Final Project/dataverse_files/dataverse_hirise_v3/data/ESP_040959_1355_0_5120_0_5120/tiles/background\n",
      "number of images in the source directory: 221\n",
      "Initialised with 221 image(s) found.\n",
      "Output directory set to /Users/jayrambhiya/Desktop/DSCI 552/Final Project/dataverse_files/dataverse_hirise_v3/augmented_training_data/."
     ]
    },
    {
     "name": "stderr",
     "output_type": "stream",
     "text": [
      "Processing <PIL.Image.Image image mode=L size=299x299 at 0x281111C50>: 100%|█| 2\n"
     ]
    },
    {
     "name": "stdout",
     "output_type": "stream",
     "text": [
      "/Users/jayrambhiya/Desktop/DSCI 552/Final Project/dataverse_files/dataverse_hirise_v3/data/ESP_040959_1355_10240_13543_10240_11162/tiles/background\n",
      "number of images in the source directory: 15\n",
      "Initialised with 15 image(s) found.\n",
      "Output directory set to /Users/jayrambhiya/Desktop/DSCI 552/Final Project/dataverse_files/dataverse_hirise_v3/augmented_training_data/."
     ]
    },
    {
     "name": "stderr",
     "output_type": "stream",
     "text": [
      "Processing <PIL.Image.Image image mode=L size=269x269 at 0x281142010>: 100%|█| 1\n"
     ]
    },
    {
     "name": "stdout",
     "output_type": "stream",
     "text": [
      "/Users/jayrambhiya/Desktop/DSCI 552/Final Project/dataverse_files/dataverse_hirise_v3/data/ESP_040959_1355_10240_13543_0_5120/tiles/background\n",
      "number of images in the source directory: 124\n",
      "Initialised with 124 image(s) found.\n",
      "Output directory set to /Users/jayrambhiya/Desktop/DSCI 552/Final Project/dataverse_files/dataverse_hirise_v3/augmented_training_data/."
     ]
    },
    {
     "name": "stderr",
     "output_type": "stream",
     "text": [
      "Processing <PIL.Image.Image image mode=L size=269x269 at 0x2834BE510>: 100%|█| 1\n"
     ]
    },
    {
     "name": "stdout",
     "output_type": "stream",
     "text": [
      "/Users/jayrambhiya/Desktop/DSCI 552/Final Project/dataverse_files/dataverse_hirise_v3/data/ESP_040959_1355_10240_13543_5120_10240/tiles/background\n",
      "number of images in the source directory: 144\n",
      "Initialised with 144 image(s) found.\n",
      "Output directory set to /Users/jayrambhiya/Desktop/DSCI 552/Final Project/dataverse_files/dataverse_hirise_v3/augmented_training_data/."
     ]
    },
    {
     "name": "stderr",
     "output_type": "stream",
     "text": [
      "Processing <PIL.Image.Image image mode=L size=269x269 at 0x281074850>: 100%|█| 1\n"
     ]
    },
    {
     "name": "stdout",
     "output_type": "stream",
     "text": [
      "/Users/jayrambhiya/Desktop/DSCI 552/Final Project/dataverse_files/dataverse_hirise_v3/data/ESP_041233_2385_40960_46080_15360_20480/tiles/frost\n",
      "number of images in the source directory: 36\n",
      "Initialised with 36 image(s) found.\n",
      "Output directory set to /Users/jayrambhiya/Desktop/DSCI 552/Final Project/dataverse_files/dataverse_hirise_v3/augmented_training_data/."
     ]
    },
    {
     "name": "stderr",
     "output_type": "stream",
     "text": [
      "Processing <PIL.Image.Image image mode=L size=299x299 at 0x2834A9210>: 100%|█| 3\n"
     ]
    },
    {
     "name": "stdout",
     "output_type": "stream",
     "text": [
      "/Users/jayrambhiya/Desktop/DSCI 552/Final Project/dataverse_files/dataverse_hirise_v3/data/ESP_041444_2385_15360_20480_5120_10240/tiles/frost\n",
      "number of images in the source directory: 289\n",
      "Initialised with 289 image(s) found.\n",
      "Output directory set to /Users/jayrambhiya/Desktop/DSCI 552/Final Project/dataverse_files/dataverse_hirise_v3/augmented_training_data/."
     ]
    },
    {
     "name": "stderr",
     "output_type": "stream",
     "text": [
      "Processing <PIL.Image.Image image mode=L size=299x299 at 0x280D96790>: 100%|█| 2\n"
     ]
    },
    {
     "name": "stdout",
     "output_type": "stream",
     "text": [
      "/Users/jayrambhiya/Desktop/DSCI 552/Final Project/dataverse_files/dataverse_hirise_v3/data/ESP_042279_1820_46080_51200_15360_20480/tiles/background\n",
      "number of images in the source directory: 64\n",
      "Initialised with 64 image(s) found.\n",
      "Output directory set to /Users/jayrambhiya/Desktop/DSCI 552/Final Project/dataverse_files/dataverse_hirise_v3/augmented_training_data/."
     ]
    },
    {
     "name": "stderr",
     "output_type": "stream",
     "text": [
      "Processing <PIL.Image.Image image mode=L size=299x299 at 0x281018150>: 100%|█| 6\n"
     ]
    },
    {
     "name": "stdout",
     "output_type": "stream",
     "text": [
      "/Users/jayrambhiya/Desktop/DSCI 552/Final Project/dataverse_files/dataverse_hirise_v3/data/ESP_042279_1820_0_5120_15360_20480/tiles/background\n",
      "number of images in the source directory: 52\n",
      "Initialised with 52 image(s) found.\n",
      "Output directory set to /Users/jayrambhiya/Desktop/DSCI 552/Final Project/dataverse_files/dataverse_hirise_v3/augmented_training_data/."
     ]
    },
    {
     "name": "stderr",
     "output_type": "stream",
     "text": [
      "Processing <PIL.Image.Image image mode=L size=299x299 at 0x280D50150>: 100%|█| 5\n"
     ]
    },
    {
     "name": "stdout",
     "output_type": "stream",
     "text": [
      "/Users/jayrambhiya/Desktop/DSCI 552/Final Project/dataverse_files/dataverse_hirise_v3/data/ESP_042279_1820_5120_10240_0_5120/tiles/background\n",
      "number of images in the source directory: 53\n",
      "Initialised with 53 image(s) found.\n",
      "Output directory set to /Users/jayrambhiya/Desktop/DSCI 552/Final Project/dataverse_files/dataverse_hirise_v3/augmented_training_data/."
     ]
    },
    {
     "name": "stderr",
     "output_type": "stream",
     "text": [
      "Processing <PIL.Image.Image image mode=L size=269x269 at 0x281075B50>: 100%|█| 5\n"
     ]
    },
    {
     "name": "stdout",
     "output_type": "stream",
     "text": [
      "/Users/jayrambhiya/Desktop/DSCI 552/Final Project/dataverse_files/dataverse_hirise_v3/data/ESP_042279_1820_25600_30720_10240_15360/tiles/background\n",
      "number of images in the source directory: 64\n",
      "Initialised with 64 image(s) found.\n",
      "Output directory set to /Users/jayrambhiya/Desktop/DSCI 552/Final Project/dataverse_files/dataverse_hirise_v3/augmented_training_data/."
     ]
    },
    {
     "name": "stderr",
     "output_type": "stream",
     "text": [
      "Processing <PIL.Image.Image image mode=L size=299x299 at 0x283427910>: 100%|█| 6\n"
     ]
    },
    {
     "name": "stdout",
     "output_type": "stream",
     "text": [
      "/Users/jayrambhiya/Desktop/DSCI 552/Final Project/dataverse_files/dataverse_hirise_v3/data/ESP_042279_1820_10240_15360_0_5120/tiles/background\n",
      "number of images in the source directory: 45\n",
      "Initialised with 45 image(s) found.\n",
      "Output directory set to /Users/jayrambhiya/Desktop/DSCI 552/Final Project/dataverse_files/dataverse_hirise_v3/augmented_training_data/."
     ]
    },
    {
     "name": "stderr",
     "output_type": "stream",
     "text": [
      "Processing <PIL.Image.Image image mode=L size=269x269 at 0x281110E10>: 100%|█| 4\n"
     ]
    },
    {
     "name": "stdout",
     "output_type": "stream",
     "text": [
      "/Users/jayrambhiya/Desktop/DSCI 552/Final Project/dataverse_files/dataverse_hirise_v3/data/ESP_042279_1820_35840_40960_5120_10240/tiles/background\n",
      "number of images in the source directory: 64\n",
      "Initialised with 64 image(s) found.\n",
      "Output directory set to /Users/jayrambhiya/Desktop/DSCI 552/Final Project/dataverse_files/dataverse_hirise_v3/augmented_training_data/."
     ]
    },
    {
     "name": "stderr",
     "output_type": "stream",
     "text": [
      "Processing <PIL.Image.Image image mode=L size=269x269 at 0x28348A490>: 100%|█| 6\n"
     ]
    },
    {
     "name": "stdout",
     "output_type": "stream",
     "text": [
      "/Users/jayrambhiya/Desktop/DSCI 552/Final Project/dataverse_files/dataverse_hirise_v3/data/ESP_045865_1825_15360_20480_10240_15360/tiles/background\n",
      "number of images in the source directory: 64\n",
      "Initialised with 64 image(s) found.\n",
      "Output directory set to /Users/jayrambhiya/Desktop/DSCI 552/Final Project/dataverse_files/dataverse_hirise_v3/augmented_training_data/."
     ]
    },
    {
     "name": "stderr",
     "output_type": "stream",
     "text": [
      "Processing <PIL.Image.Image image mode=L size=299x299 at 0x28107DF10>: 100%|█| 6\n"
     ]
    },
    {
     "name": "stdout",
     "output_type": "stream",
     "text": [
      "/Users/jayrambhiya/Desktop/DSCI 552/Final Project/dataverse_files/dataverse_hirise_v3/data/ESP_045865_1825_30720_34926_0_5120/tiles/background\n",
      "number of images in the source directory: 9\n",
      "Initialised with 9 image(s) found.\n",
      "Output directory set to /Users/jayrambhiya/Desktop/DSCI 552/Final Project/dataverse_files/dataverse_hirise_v3/augmented_training_data/."
     ]
    },
    {
     "name": "stderr",
     "output_type": "stream",
     "text": [
      "Processing <PIL.Image.Image image mode=L size=299x299 at 0x281054850>: 100%|█| 9\n"
     ]
    },
    {
     "name": "stdout",
     "output_type": "stream",
     "text": [
      "/Users/jayrambhiya/Desktop/DSCI 552/Final Project/dataverse_files/dataverse_hirise_v3/data/ESP_045865_1825_15360_20480_5120_10240/tiles/background\n",
      "number of images in the source directory: 64\n",
      "Initialised with 64 image(s) found.\n",
      "Output directory set to /Users/jayrambhiya/Desktop/DSCI 552/Final Project/dataverse_files/dataverse_hirise_v3/augmented_training_data/."
     ]
    },
    {
     "name": "stderr",
     "output_type": "stream",
     "text": [
      "Processing <PIL.Image.Image image mode=L size=269x269 at 0x283150AD0>: 100%|█| 6\n"
     ]
    },
    {
     "name": "stdout",
     "output_type": "stream",
     "text": [
      "/Users/jayrambhiya/Desktop/DSCI 552/Final Project/dataverse_files/dataverse_hirise_v3/data/ESP_045865_1825_20480_25600_20480_23601/tiles/background\n",
      "number of images in the source directory: 23\n",
      "Initialised with 23 image(s) found.\n",
      "Output directory set to /Users/jayrambhiya/Desktop/DSCI 552/Final Project/dataverse_files/dataverse_hirise_v3/augmented_training_data/."
     ]
    },
    {
     "name": "stderr",
     "output_type": "stream",
     "text": [
      "Processing <PIL.Image.Image image mode=L size=299x299 at 0x283453450>: 100%|█| 2\n"
     ]
    },
    {
     "name": "stdout",
     "output_type": "stream",
     "text": [
      "/Users/jayrambhiya/Desktop/DSCI 552/Final Project/dataverse_files/dataverse_hirise_v3/data/ESP_045865_1825_10240_15360_5120_10240/tiles/background\n",
      "number of images in the source directory: 64\n",
      "Initialised with 64 image(s) found.\n",
      "Output directory set to /Users/jayrambhiya/Desktop/DSCI 552/Final Project/dataverse_files/dataverse_hirise_v3/augmented_training_data/."
     ]
    },
    {
     "name": "stderr",
     "output_type": "stream",
     "text": [
      "Processing <PIL.Image.Image image mode=L size=299x299 at 0x2811406D0>: 100%|█| 6\n"
     ]
    },
    {
     "name": "stdout",
     "output_type": "stream",
     "text": [
      "/Users/jayrambhiya/Desktop/DSCI 552/Final Project/dataverse_files/dataverse_hirise_v3/data/ESP_045865_1825_30720_34926_5120_10240/tiles/background\n",
      "number of images in the source directory: 48\n",
      "Initialised with 48 image(s) found.\n",
      "Output directory set to /Users/jayrambhiya/Desktop/DSCI 552/Final Project/dataverse_files/dataverse_hirise_v3/augmented_training_data/."
     ]
    },
    {
     "name": "stderr",
     "output_type": "stream",
     "text": [
      "Processing <PIL.Image.Image image mode=L size=299x299 at 0x11A927890>: 100%|█| 4\n"
     ]
    },
    {
     "name": "stdout",
     "output_type": "stream",
     "text": [
      "/Users/jayrambhiya/Desktop/DSCI 552/Final Project/dataverse_files/dataverse_hirise_v3/data/ESP_054143_2230_15360_20480_0_5120/tiles/background\n",
      "number of images in the source directory: 153\n",
      "Initialised with 153 image(s) found.\n",
      "Output directory set to /Users/jayrambhiya/Desktop/DSCI 552/Final Project/dataverse_files/dataverse_hirise_v3/augmented_training_data/."
     ]
    },
    {
     "name": "stderr",
     "output_type": "stream",
     "text": [
      "Processing <PIL.Image.Image image mode=L size=269x269 at 0x281057350>: 100%|█| 1\n"
     ]
    },
    {
     "name": "stdout",
     "output_type": "stream",
     "text": [
      "/Users/jayrambhiya/Desktop/DSCI 552/Final Project/dataverse_files/dataverse_hirise_v3/data/ESP_054143_2230_10240_15360_0_5120/tiles/background\n",
      "number of images in the source directory: 194\n",
      "Initialised with 194 image(s) found.\n",
      "Output directory set to /Users/jayrambhiya/Desktop/DSCI 552/Final Project/dataverse_files/dataverse_hirise_v3/augmented_training_data/."
     ]
    },
    {
     "name": "stderr",
     "output_type": "stream",
     "text": [
      "Processing <PIL.Image.Image image mode=L size=299x299 at 0x172735C10>: 100%|█| 1\n"
     ]
    },
    {
     "name": "stdout",
     "output_type": "stream",
     "text": [
      "/Users/jayrambhiya/Desktop/DSCI 552/Final Project/dataverse_files/dataverse_hirise_v3/data/ESP_055293_2370_0_5120_0_5120/tiles/background\n",
      "number of images in the source directory: 25\n",
      "Initialised with 25 image(s) found.\n",
      "Output directory set to /Users/jayrambhiya/Desktop/DSCI 552/Final Project/dataverse_files/dataverse_hirise_v3/augmented_training_data/."
     ]
    },
    {
     "name": "stderr",
     "output_type": "stream",
     "text": [
      "Processing <PIL.Image.Image image mode=L size=269x269 at 0x17238C650>: 100%|█| 2\n"
     ]
    },
    {
     "name": "stdout",
     "output_type": "stream",
     "text": [
      "/Users/jayrambhiya/Desktop/DSCI 552/Final Project/dataverse_files/dataverse_hirise_v3/data/ESP_055293_2370_5120_10240_0_5120/tiles/background\n",
      "number of images in the source directory: 52\n",
      "Initialised with 52 image(s) found.\n",
      "Output directory set to /Users/jayrambhiya/Desktop/DSCI 552/Final Project/dataverse_files/dataverse_hirise_v3/augmented_training_data/."
     ]
    },
    {
     "name": "stderr",
     "output_type": "stream",
     "text": [
      "Processing <PIL.Image.Image image mode=L size=269x269 at 0x282C3C810>: 100%|█| 5\n"
     ]
    },
    {
     "name": "stdout",
     "output_type": "stream",
     "text": [
      "/Users/jayrambhiya/Desktop/DSCI 552/Final Project/dataverse_files/dataverse_hirise_v3/data/ESP_055293_2370_20480_25600_20480_25600/tiles/background\n",
      "number of images in the source directory: 64\n",
      "Initialised with 64 image(s) found.\n",
      "Output directory set to /Users/jayrambhiya/Desktop/DSCI 552/Final Project/dataverse_files/dataverse_hirise_v3/augmented_training_data/."
     ]
    },
    {
     "name": "stderr",
     "output_type": "stream",
     "text": [
      "Processing <PIL.Image.Image image mode=L size=299x299 at 0x1722F1190>: 100%|█| 6"
     ]
    },
    {
     "name": "stdout",
     "output_type": "stream",
     "text": [
      "/Users/jayrambhiya/Desktop/DSCI 552/Final Project/dataverse_files/dataverse_hirise_v3/data/ESP_055293_2370_20480_25600_5120_10240/tiles/background\n",
      "number of images in the source directory: 64\n"
     ]
    },
    {
     "name": "stderr",
     "output_type": "stream",
     "text": [
      "\n"
     ]
    },
    {
     "name": "stdout",
     "output_type": "stream",
     "text": [
      "Initialised with 64 image(s) found.\n",
      "Output directory set to /Users/jayrambhiya/Desktop/DSCI 552/Final Project/dataverse_files/dataverse_hirise_v3/augmented_training_data/."
     ]
    },
    {
     "name": "stderr",
     "output_type": "stream",
     "text": [
      "Processing <PIL.Image.Image image mode=L size=299x299 at 0x28110E690>: 100%|█| 6\n"
     ]
    },
    {
     "name": "stdout",
     "output_type": "stream",
     "text": [
      "/Users/jayrambhiya/Desktop/DSCI 552/Final Project/dataverse_files/dataverse_hirise_v3/data/ESP_057638_2230_15360_20480_5120_10240/tiles/frost\n",
      "number of images in the source directory: 64\n",
      "Initialised with 64 image(s) found.\n",
      "Output directory set to /Users/jayrambhiya/Desktop/DSCI 552/Final Project/dataverse_files/dataverse_hirise_v3/augmented_training_data/."
     ]
    },
    {
     "name": "stderr",
     "output_type": "stream",
     "text": [
      "Processing <PIL.Image.Image image mode=L size=299x299 at 0x281142C90>: 100%|█| 6\n"
     ]
    },
    {
     "name": "stdout",
     "output_type": "stream",
     "text": [
      "/Users/jayrambhiya/Desktop/DSCI 552/Final Project/dataverse_files/dataverse_hirise_v3/data/ESP_057638_2230_25600_30720_0_5120/tiles/frost\n",
      "number of images in the source directory: 16\n",
      "Initialised with 16 image(s) found.\n",
      "Output directory set to /Users/jayrambhiya/Desktop/DSCI 552/Final Project/dataverse_files/dataverse_hirise_v3/augmented_training_data/."
     ]
    },
    {
     "name": "stderr",
     "output_type": "stream",
     "text": [
      "Processing <PIL.Image.Image image mode=L size=269x269 at 0x281120FD0>: 100%|█| 1\n"
     ]
    },
    {
     "name": "stdout",
     "output_type": "stream",
     "text": [
      "/Users/jayrambhiya/Desktop/DSCI 552/Final Project/dataverse_files/dataverse_hirise_v3/data/ESP_057638_2230_15360_20480_0_5120/tiles/frost\n",
      "number of images in the source directory: 30\n",
      "Initialised with 30 image(s) found.\n",
      "Output directory set to /Users/jayrambhiya/Desktop/DSCI 552/Final Project/dataverse_files/dataverse_hirise_v3/augmented_training_data/."
     ]
    },
    {
     "name": "stderr",
     "output_type": "stream",
     "text": [
      "Processing <PIL.Image.Image image mode=L size=299x299 at 0x28348AC90>: 100%|█| 3\n"
     ]
    },
    {
     "name": "stdout",
     "output_type": "stream",
     "text": [
      "/Users/jayrambhiya/Desktop/DSCI 552/Final Project/dataverse_files/dataverse_hirise_v3/data/ESP_057638_2230_30720_35840_5120_10240/tiles/frost\n",
      "number of images in the source directory: 64\n",
      "Initialised with 64 image(s) found.\n",
      "Output directory set to /Users/jayrambhiya/Desktop/DSCI 552/Final Project/dataverse_files/dataverse_hirise_v3/augmented_training_data/."
     ]
    },
    {
     "name": "stderr",
     "output_type": "stream",
     "text": [
      "Processing <PIL.Image.Image image mode=L size=299x299 at 0x281065490>: 100%|█| 6\n"
     ]
    },
    {
     "name": "stdout",
     "output_type": "stream",
     "text": [
      "/Users/jayrambhiya/Desktop/DSCI 552/Final Project/dataverse_files/dataverse_hirise_v3/data/ESP_057638_2230_0_5120_10240_15360/tiles/frost\n",
      "number of images in the source directory: 39\n",
      "Initialised with 39 image(s) found.\n",
      "Output directory set to /Users/jayrambhiya/Desktop/DSCI 552/Final Project/dataverse_files/dataverse_hirise_v3/augmented_training_data/."
     ]
    },
    {
     "name": "stderr",
     "output_type": "stream",
     "text": [
      "Processing <PIL.Image.Image image mode=L size=269x269 at 0x28340F3D0>: 100%|█| 3\n"
     ]
    },
    {
     "name": "stdout",
     "output_type": "stream",
     "text": [
      "/Users/jayrambhiya/Desktop/DSCI 552/Final Project/dataverse_files/dataverse_hirise_v3/data/ESP_057638_2230_10240_15360_10240_15360/tiles/frost\n",
      "number of images in the source directory: 46\n",
      "Initialised with 46 image(s) found.\n",
      "Output directory set to /Users/jayrambhiya/Desktop/DSCI 552/Final Project/dataverse_files/dataverse_hirise_v3/augmented_training_data/."
     ]
    },
    {
     "name": "stderr",
     "output_type": "stream",
     "text": [
      "Processing <PIL.Image.Image image mode=L size=269x269 at 0x28343A750>: 100%|█| 4\n"
     ]
    },
    {
     "name": "stdout",
     "output_type": "stream",
     "text": [
      "/Users/jayrambhiya/Desktop/DSCI 552/Final Project/dataverse_files/dataverse_hirise_v3/data/ESP_057638_2230_25600_30720_20480_25600/tiles/frost\n",
      "number of images in the source directory: 52\n",
      "Initialised with 52 image(s) found.\n",
      "Output directory set to /Users/jayrambhiya/Desktop/DSCI 552/Final Project/dataverse_files/dataverse_hirise_v3/augmented_training_data/."
     ]
    },
    {
     "name": "stderr",
     "output_type": "stream",
     "text": [
      "Processing <PIL.Image.Image image mode=L size=299x299 at 0x28107D290>: 100%|█| 5\n"
     ]
    },
    {
     "name": "stdout",
     "output_type": "stream",
     "text": [
      "/Users/jayrambhiya/Desktop/DSCI 552/Final Project/dataverse_files/dataverse_hirise_v3/data/ESP_058046_2385_30720_35840_15360_17036/tiles/frost\n",
      "number of images in the source directory: 57\n",
      "Initialised with 57 image(s) found.\n",
      "Output directory set to /Users/jayrambhiya/Desktop/DSCI 552/Final Project/dataverse_files/dataverse_hirise_v3/augmented_training_data/."
     ]
    },
    {
     "name": "stderr",
     "output_type": "stream",
     "text": [
      "Processing <PIL.Image.Image image mode=L size=299x299 at 0x172303ED0>: 100%|█| 5\n"
     ]
    },
    {
     "name": "stdout",
     "output_type": "stream",
     "text": [
      "/Users/jayrambhiya/Desktop/DSCI 552/Final Project/dataverse_files/dataverse_hirise_v3/data/ESP_058710_2450_30720_35840_5120_10240/tiles/frost\n",
      "number of images in the source directory: 203\n",
      "Initialised with 203 image(s) found.\n",
      "Output directory set to /Users/jayrambhiya/Desktop/DSCI 552/Final Project/dataverse_files/dataverse_hirise_v3/augmented_training_data/."
     ]
    },
    {
     "name": "stderr",
     "output_type": "stream",
     "text": [
      "Processing <PIL.Image.Image image mode=L size=299x299 at 0x28106EA10>: 100%|█| 2\n"
     ]
    },
    {
     "name": "stdout",
     "output_type": "stream",
     "text": [
      "/Users/jayrambhiya/Desktop/DSCI 552/Final Project/dataverse_files/dataverse_hirise_v3/data/ESP_058722_2370_5120_10240_0_5120/tiles/frost\n",
      "number of images in the source directory: 44\n",
      "Initialised with 44 image(s) found.\n",
      "Output directory set to /Users/jayrambhiya/Desktop/DSCI 552/Final Project/dataverse_files/dataverse_hirise_v3/augmented_training_data/."
     ]
    },
    {
     "name": "stderr",
     "output_type": "stream",
     "text": [
      "Processing <PIL.Image.Image image mode=L size=269x269 at 0x28388FE90>: 100%|█| 4\n"
     ]
    },
    {
     "name": "stdout",
     "output_type": "stream",
     "text": [
      "/Users/jayrambhiya/Desktop/DSCI 552/Final Project/dataverse_files/dataverse_hirise_v3/data/ESP_058722_2370_5120_10240_5120_10240/tiles/frost\n",
      "number of images in the source directory: 49\n",
      "Initialised with 49 image(s) found.\n",
      "Output directory set to /Users/jayrambhiya/Desktop/DSCI 552/Final Project/dataverse_files/dataverse_hirise_v3/augmented_training_data/."
     ]
    },
    {
     "name": "stderr",
     "output_type": "stream",
     "text": [
      "Processing <PIL.Image.Image image mode=L size=299x299 at 0x280C6B0D0>: 100%|█| 4\n"
     ]
    },
    {
     "name": "stdout",
     "output_type": "stream",
     "text": [
      "/Users/jayrambhiya/Desktop/DSCI 552/Final Project/dataverse_files/dataverse_hirise_v3/data/ESP_058933_2370_30720_35840_20480_25600/tiles/frost\n",
      "number of images in the source directory: 64\n",
      "Initialised with 64 image(s) found.\n",
      "Output directory set to /Users/jayrambhiya/Desktop/DSCI 552/Final Project/dataverse_files/dataverse_hirise_v3/augmented_training_data/."
     ]
    },
    {
     "name": "stderr",
     "output_type": "stream",
     "text": [
      "Processing <PIL.Image.Image image mode=L size=299x299 at 0x282BA2E10>: 100%|█| 6\n"
     ]
    },
    {
     "name": "stdout",
     "output_type": "stream",
     "text": [
      "/Users/jayrambhiya/Desktop/DSCI 552/Final Project/dataverse_files/dataverse_hirise_v3/data/ESP_058933_2370_15360_20480_5120_10240/tiles/frost\n",
      "number of images in the source directory: 38\n",
      "Initialised with 38 image(s) found.\n",
      "Output directory set to /Users/jayrambhiya/Desktop/DSCI 552/Final Project/dataverse_files/dataverse_hirise_v3/augmented_training_data/."
     ]
    },
    {
     "name": "stderr",
     "output_type": "stream",
     "text": [
      "Processing <PIL.Image.Image image mode=L size=299x299 at 0x28106C1D0>: 100%|█| 3\n"
     ]
    },
    {
     "name": "stdout",
     "output_type": "stream",
     "text": [
      "/Users/jayrambhiya/Desktop/DSCI 552/Final Project/dataverse_files/dataverse_hirise_v3/data/ESP_059259_2385_5120_10240_10240_15360/tiles/frost\n",
      "number of images in the source directory: 153\n",
      "Initialised with 153 image(s) found.\n",
      "Output directory set to /Users/jayrambhiya/Desktop/DSCI 552/Final Project/dataverse_files/dataverse_hirise_v3/augmented_training_data/."
     ]
    },
    {
     "name": "stderr",
     "output_type": "stream",
     "text": [
      "Processing <PIL.Image.Image image mode=L size=299x299 at 0x28346D5D0>: 100%|█| 1\n"
     ]
    },
    {
     "name": "stdout",
     "output_type": "stream",
     "text": [
      "/Users/jayrambhiya/Desktop/DSCI 552/Final Project/dataverse_files/dataverse_hirise_v3/data/ESP_059277_2450_25600_30720_10240_15360/tiles/frost\n",
      "number of images in the source directory: 205\n",
      "Initialised with 205 image(s) found.\n",
      "Output directory set to /Users/jayrambhiya/Desktop/DSCI 552/Final Project/dataverse_files/dataverse_hirise_v3/augmented_training_data/."
     ]
    },
    {
     "name": "stderr",
     "output_type": "stream",
     "text": [
      "Processing <PIL.Image.Image image mode=L size=269x269 at 0x2834A91D0>: 100%|█| 2\n"
     ]
    },
    {
     "name": "stdout",
     "output_type": "stream",
     "text": [
      "/Users/jayrambhiya/Desktop/DSCI 552/Final Project/dataverse_files/dataverse_hirise_v3/data/ESP_059277_2450_0_5120_5120_10240/tiles/frost\n",
      "number of images in the source directory: 224\n",
      "Initialised with 224 image(s) found.\n",
      "Output directory set to /Users/jayrambhiya/Desktop/DSCI 552/Final Project/dataverse_files/dataverse_hirise_v3/augmented_training_data/."
     ]
    },
    {
     "name": "stderr",
     "output_type": "stream",
     "text": [
      "Processing <PIL.Image.Image image mode=L size=269x269 at 0x28388CE50>: 100%|█| 2\n"
     ]
    },
    {
     "name": "stdout",
     "output_type": "stream",
     "text": [
      "/Users/jayrambhiya/Desktop/DSCI 552/Final Project/dataverse_files/dataverse_hirise_v3/data/ESP_059470_2385_15360_20480_10240_15360/tiles/frost\n",
      "number of images in the source directory: 191\n",
      "Initialised with 191 image(s) found.\n",
      "Output directory set to /Users/jayrambhiya/Desktop/DSCI 552/Final Project/dataverse_files/dataverse_hirise_v3/augmented_training_data/."
     ]
    },
    {
     "name": "stderr",
     "output_type": "stream",
     "text": [
      "Processing <PIL.Image.Image image mode=L size=299x299 at 0x2824A71D0>: 100%|█| 1\n"
     ]
    },
    {
     "name": "stdout",
     "output_type": "stream",
     "text": [
      "/Users/jayrambhiya/Desktop/DSCI 552/Final Project/dataverse_files/dataverse_hirise_v3/data/ESP_059500_2370_10240_15360_20480_25600/tiles/frost\n",
      "number of images in the source directory: 57\n",
      "Initialised with 57 image(s) found.\n",
      "Output directory set to /Users/jayrambhiya/Desktop/DSCI 552/Final Project/dataverse_files/dataverse_hirise_v3/augmented_training_data/."
     ]
    },
    {
     "name": "stderr",
     "output_type": "stream",
     "text": [
      "Processing <PIL.Image.Image image mode=L size=299x299 at 0x11B6B8950>: 100%|█| 5\n"
     ]
    },
    {
     "name": "stdout",
     "output_type": "stream",
     "text": [
      "/Users/jayrambhiya/Desktop/DSCI 552/Final Project/dataverse_files/dataverse_hirise_v3/data/ESP_059500_2370_10240_15360_15360_20480/tiles/frost\n",
      "number of images in the source directory: 38\n",
      "Initialised with 38 image(s) found.\n",
      "Output directory set to /Users/jayrambhiya/Desktop/DSCI 552/Final Project/dataverse_files/dataverse_hirise_v3/augmented_training_data/."
     ]
    },
    {
     "name": "stderr",
     "output_type": "stream",
     "text": [
      "Processing <PIL.Image.Image image mode=L size=299x299 at 0x28106F1D0>: 100%|█| 3\n"
     ]
    },
    {
     "name": "stdout",
     "output_type": "stream",
     "text": [
      "/Users/jayrambhiya/Desktop/DSCI 552/Final Project/dataverse_files/dataverse_hirise_v3/data/ESP_059500_2370_5120_10240_15360_20480/tiles/frost\n",
      "number of images in the source directory: 44\n",
      "Initialised with 44 image(s) found.\n",
      "Output directory set to /Users/jayrambhiya/Desktop/DSCI 552/Final Project/dataverse_files/dataverse_hirise_v3/augmented_training_data/."
     ]
    },
    {
     "name": "stderr",
     "output_type": "stream",
     "text": [
      "Processing <PIL.Image.Image image mode=L size=299x299 at 0x176A278D0>: 100%|█| 4\n"
     ]
    },
    {
     "name": "stdout",
     "output_type": "stream",
     "text": [
      "/Users/jayrambhiya/Desktop/DSCI 552/Final Project/dataverse_files/dataverse_hirise_v3/data/ESP_059500_2370_25600_30720_5120_10240/tiles/frost\n",
      "number of images in the source directory: 40\n",
      "Initialised with 40 image(s) found.\n",
      "Output directory set to /Users/jayrambhiya/Desktop/DSCI 552/Final Project/dataverse_files/dataverse_hirise_v3/augmented_training_data/."
     ]
    },
    {
     "name": "stderr",
     "output_type": "stream",
     "text": [
      "Processing <PIL.Image.Image image mode=L size=269x269 at 0x281057E10>: 100%|█| 4\n"
     ]
    },
    {
     "name": "stdout",
     "output_type": "stream",
     "text": [
      "/Users/jayrambhiya/Desktop/DSCI 552/Final Project/dataverse_files/dataverse_hirise_v3/data/ESP_059500_2370_20480_25600_5120_10240/tiles/frost\n",
      "number of images in the source directory: 64\n",
      "Initialised with 64 image(s) found.\n",
      "Output directory set to /Users/jayrambhiya/Desktop/DSCI 552/Final Project/dataverse_files/dataverse_hirise_v3/augmented_training_data/."
     ]
    },
    {
     "name": "stderr",
     "output_type": "stream",
     "text": [
      "Processing <PIL.Image.Image image mode=L size=269x269 at 0x11A8D3850>: 100%|█| 6\n"
     ]
    },
    {
     "name": "stdout",
     "output_type": "stream",
     "text": [
      "/Users/jayrambhiya/Desktop/DSCI 552/Final Project/dataverse_files/dataverse_hirise_v3/data/ESP_060055_2450_15360_20480_10240_15360/tiles/frost\n",
      "number of images in the source directory: 231\n",
      "Initialised with 231 image(s) found.\n",
      "Output directory set to /Users/jayrambhiya/Desktop/DSCI 552/Final Project/dataverse_files/dataverse_hirise_v3/augmented_training_data/."
     ]
    },
    {
     "name": "stderr",
     "output_type": "stream",
     "text": [
      "Processing <PIL.Image.Image image mode=L size=269x269 at 0x281081D90>: 100%|█| 2\n"
     ]
    },
    {
     "name": "stdout",
     "output_type": "stream",
     "text": [
      "/Users/jayrambhiya/Desktop/DSCI 552/Final Project/dataverse_files/dataverse_hirise_v3/data/ESP_060332_2450_5120_10240_5120_10240/tiles/frost\n",
      "number of images in the source directory: 4\n",
      "Initialised with 4 image(s) found.\n",
      "Output directory set to /Users/jayrambhiya/Desktop/DSCI 552/Final Project/dataverse_files/dataverse_hirise_v3/augmented_training_data/."
     ]
    },
    {
     "name": "stderr",
     "output_type": "stream",
     "text": [
      "Processing <PIL.Image.Image image mode=L size=269x269 at 0x1722F2E10>: 100%|█| 4\n"
     ]
    },
    {
     "name": "stdout",
     "output_type": "stream",
     "text": [
      "/Users/jayrambhiya/Desktop/DSCI 552/Final Project/dataverse_files/dataverse_hirise_v3/data/ESP_061741_2435_10240_15360_10240_15360/tiles/background\n",
      "number of images in the source directory: 64\n",
      "Initialised with 64 image(s) found.\n",
      "Output directory set to /Users/jayrambhiya/Desktop/DSCI 552/Final Project/dataverse_files/dataverse_hirise_v3/augmented_training_data/."
     ]
    },
    {
     "name": "stderr",
     "output_type": "stream",
     "text": [
      "Processing <PIL.Image.Image image mode=L size=269x269 at 0x11B6C2690>: 100%|█| 6\n"
     ]
    },
    {
     "name": "stdout",
     "output_type": "stream",
     "text": [
      "/Users/jayrambhiya/Desktop/DSCI 552/Final Project/dataverse_files/dataverse_hirise_v3/data/ESP_061741_2435_5120_10240_10240_15360/tiles/background\n",
      "number of images in the source directory: 64\n",
      "Initialised with 64 image(s) found.\n",
      "Output directory set to /Users/jayrambhiya/Desktop/DSCI 552/Final Project/dataverse_files/dataverse_hirise_v3/augmented_training_data/."
     ]
    },
    {
     "name": "stderr",
     "output_type": "stream",
     "text": [
      "Processing <PIL.Image.Image image mode=L size=269x269 at 0x2838163D0>: 100%|█| 6\n"
     ]
    },
    {
     "name": "stdout",
     "output_type": "stream",
     "text": [
      "/Users/jayrambhiya/Desktop/DSCI 552/Final Project/dataverse_files/dataverse_hirise_v3/data/ESP_061741_2435_0_5120_20480_25600/tiles/background\n",
      "number of images in the source directory: 55\n",
      "Initialised with 55 image(s) found.\n",
      "Output directory set to /Users/jayrambhiya/Desktop/DSCI 552/Final Project/dataverse_files/dataverse_hirise_v3/augmented_training_data/."
     ]
    },
    {
     "name": "stderr",
     "output_type": "stream",
     "text": [
      "Processing <PIL.Image.Image image mode=L size=299x299 at 0x280CEC1D0>: 100%|█| 5\n"
     ]
    },
    {
     "name": "stdout",
     "output_type": "stream",
     "text": [
      "/Users/jayrambhiya/Desktop/DSCI 552/Final Project/dataverse_files/dataverse_hirise_v3/data/ESP_061741_2435_15360_20480_15360_20480/tiles/background\n",
      "number of images in the source directory: 64\n",
      "Initialised with 64 image(s) found.\n",
      "Output directory set to /Users/jayrambhiya/Desktop/DSCI 552/Final Project/dataverse_files/dataverse_hirise_v3/augmented_training_data/."
     ]
    },
    {
     "name": "stderr",
     "output_type": "stream",
     "text": [
      "Processing <PIL.Image.Image image mode=L size=269x269 at 0x280CEC1D0>: 100%|█| 6\n"
     ]
    },
    {
     "name": "stdout",
     "output_type": "stream",
     "text": [
      "/Users/jayrambhiya/Desktop/DSCI 552/Final Project/dataverse_files/dataverse_hirise_v3/data/ESP_061741_2435_0_5120_0_5120/tiles/background\n",
      "number of images in the source directory: 16\n",
      "Initialised with 16 image(s) found.\n",
      "Output directory set to /Users/jayrambhiya/Desktop/DSCI 552/Final Project/dataverse_files/dataverse_hirise_v3/augmented_training_data/."
     ]
    },
    {
     "name": "stderr",
     "output_type": "stream",
     "text": [
      "Processing <PIL.Image.Image image mode=L size=299x299 at 0x283852B10>: 100%|█| 1\n"
     ]
    },
    {
     "name": "stdout",
     "output_type": "stream",
     "text": [
      "/Users/jayrambhiya/Desktop/DSCI 552/Final Project/dataverse_files/dataverse_hirise_v3/data/ESP_061741_2435_15360_20480_25600_29685/tiles/background\n",
      "number of images in the source directory: 35\n",
      "Initialised with 35 image(s) found.\n",
      "Output directory set to /Users/jayrambhiya/Desktop/DSCI 552/Final Project/dataverse_files/dataverse_hirise_v3/augmented_training_data/."
     ]
    },
    {
     "name": "stderr",
     "output_type": "stream",
     "text": [
      "Processing <PIL.Image.Image image mode=L size=269x269 at 0x1722FD0D0>: 100%|█| 3\n"
     ]
    },
    {
     "name": "stdout",
     "output_type": "stream",
     "text": [
      "/Users/jayrambhiya/Desktop/DSCI 552/Final Project/dataverse_files/dataverse_hirise_v3/data/ESP_061741_2435_15360_20480_0_5120/tiles/background\n",
      "number of images in the source directory: 25\n",
      "Initialised with 25 image(s) found.\n",
      "Output directory set to /Users/jayrambhiya/Desktop/DSCI 552/Final Project/dataverse_files/dataverse_hirise_v3/augmented_training_data/."
     ]
    },
    {
     "name": "stderr",
     "output_type": "stream",
     "text": [
      "Processing <PIL.Image.Image image mode=L size=299x299 at 0x282F82B50>: 100%|█| 2\n"
     ]
    },
    {
     "name": "stdout",
     "output_type": "stream",
     "text": [
      "/Users/jayrambhiya/Desktop/DSCI 552/Final Project/dataverse_files/dataverse_hirise_v3/data/ESP_061741_2435_15360_20480_5120_10240/tiles/background\n",
      "number of images in the source directory: 64\n",
      "Initialised with 64 image(s) found.\n",
      "Output directory set to /Users/jayrambhiya/Desktop/DSCI 552/Final Project/dataverse_files/dataverse_hirise_v3/augmented_training_data/."
     ]
    },
    {
     "name": "stderr",
     "output_type": "stream",
     "text": [
      "Processing <PIL.Image.Image image mode=L size=269x269 at 0x281177F50>: 100%|█| 6\n"
     ]
    },
    {
     "name": "stdout",
     "output_type": "stream",
     "text": [
      "/Users/jayrambhiya/Desktop/DSCI 552/Final Project/dataverse_files/dataverse_hirise_v3/data/ESP_062177_2370_35840_40353_10240_15360/tiles/background\n",
      "number of images in the source directory: 47\n",
      "Initialised with 47 image(s) found.\n",
      "Output directory set to /Users/jayrambhiya/Desktop/DSCI 552/Final Project/dataverse_files/dataverse_hirise_v3/augmented_training_data/."
     ]
    },
    {
     "name": "stderr",
     "output_type": "stream",
     "text": [
      "Processing <PIL.Image.Image image mode=L size=299x299 at 0x28106C1D0>: 100%|█| 4\n"
     ]
    },
    {
     "name": "stdout",
     "output_type": "stream",
     "text": [
      "/Users/jayrambhiya/Desktop/DSCI 552/Final Project/dataverse_files/dataverse_hirise_v3/data/ESP_062177_2370_35840_40353_5120_10240/tiles/background\n",
      "number of images in the source directory: 53\n",
      "Initialised with 53 image(s) found.\n",
      "Output directory set to /Users/jayrambhiya/Desktop/DSCI 552/Final Project/dataverse_files/dataverse_hirise_v3/augmented_training_data/."
     ]
    },
    {
     "name": "stderr",
     "output_type": "stream",
     "text": [
      "Processing <PIL.Image.Image image mode=L size=269x269 at 0x28106FFD0>: 100%|█| 5\n"
     ]
    },
    {
     "name": "stdout",
     "output_type": "stream",
     "text": [
      "/Users/jayrambhiya/Desktop/DSCI 552/Final Project/dataverse_files/dataverse_hirise_v3/data/ESP_062177_2370_10240_15360_5120_10240/tiles/background\n",
      "number of images in the source directory: 64\n",
      "Initialised with 64 image(s) found.\n",
      "Output directory set to /Users/jayrambhiya/Desktop/DSCI 552/Final Project/dataverse_files/dataverse_hirise_v3/augmented_training_data/."
     ]
    },
    {
     "name": "stderr",
     "output_type": "stream",
     "text": [
      "Processing <PIL.Image.Image image mode=L size=269x269 at 0x1722F9810>: 100%|█| 6\n"
     ]
    },
    {
     "name": "stdout",
     "output_type": "stream",
     "text": [
      "/Users/jayrambhiya/Desktop/DSCI 552/Final Project/dataverse_files/dataverse_hirise_v3/data/ESP_062177_2370_15360_20480_10240_15360/tiles/background\n",
      "number of images in the source directory: 64\n",
      "Initialised with 64 image(s) found.\n",
      "Output directory set to /Users/jayrambhiya/Desktop/DSCI 552/Final Project/dataverse_files/dataverse_hirise_v3/augmented_training_data/."
     ]
    },
    {
     "name": "stderr",
     "output_type": "stream",
     "text": [
      "Processing <PIL.Image.Image image mode=L size=269x269 at 0x283817E50>: 100%|█| 6\n"
     ]
    },
    {
     "name": "stdout",
     "output_type": "stream",
     "text": [
      "/Users/jayrambhiya/Desktop/DSCI 552/Final Project/dataverse_files/dataverse_hirise_v3/data/ESP_062521_2450_10240_15360_15360_20480/tiles/background\n",
      "number of images in the source directory: 64\n",
      "Initialised with 64 image(s) found.\n",
      "Output directory set to /Users/jayrambhiya/Desktop/DSCI 552/Final Project/dataverse_files/dataverse_hirise_v3/augmented_training_data/."
     ]
    },
    {
     "name": "stderr",
     "output_type": "stream",
     "text": [
      "Processing <PIL.Image.Image image mode=L size=299x299 at 0x281108150>: 100%|█| 6\n"
     ]
    },
    {
     "name": "stdout",
     "output_type": "stream",
     "text": [
      "/Users/jayrambhiya/Desktop/DSCI 552/Final Project/dataverse_files/dataverse_hirise_v3/data/ESP_062521_2450_0_5120_5120_10240/tiles/background\n",
      "number of images in the source directory: 29\n",
      "Initialised with 29 image(s) found.\n",
      "Output directory set to /Users/jayrambhiya/Desktop/DSCI 552/Final Project/dataverse_files/dataverse_hirise_v3/augmented_training_data/."
     ]
    },
    {
     "name": "stderr",
     "output_type": "stream",
     "text": [
      "Processing <PIL.Image.Image image mode=L size=299x299 at 0x281062610>: 100%|█| 2\n"
     ]
    },
    {
     "name": "stdout",
     "output_type": "stream",
     "text": [
      "/Users/jayrambhiya/Desktop/DSCI 552/Final Project/dataverse_files/dataverse_hirise_v3/data/ESP_062521_2450_25600_30720_10240_15360/tiles/background\n",
      "number of images in the source directory: 64\n",
      "Initialised with 64 image(s) found.\n",
      "Output directory set to /Users/jayrambhiya/Desktop/DSCI 552/Final Project/dataverse_files/dataverse_hirise_v3/augmented_training_data/."
     ]
    },
    {
     "name": "stderr",
     "output_type": "stream",
     "text": [
      "Processing <PIL.Image.Image image mode=L size=269x269 at 0x281066E50>: 100%|█| 6\n"
     ]
    },
    {
     "name": "stdout",
     "output_type": "stream",
     "text": [
      "/Users/jayrambhiya/Desktop/DSCI 552/Final Project/dataverse_files/dataverse_hirise_v3/data/ESP_062521_2450_15360_20480_0_5120/tiles/background\n",
      "number of images in the source directory: 28\n",
      "Initialised with 28 image(s) found.\n",
      "Output directory set to /Users/jayrambhiya/Desktop/DSCI 552/Final Project/dataverse_files/dataverse_hirise_v3/augmented_training_data/."
     ]
    },
    {
     "name": "stderr",
     "output_type": "stream",
     "text": [
      "Processing <PIL.Image.Image image mode=L size=269x269 at 0x283489010>: 100%|█| 2\n"
     ]
    },
    {
     "name": "stdout",
     "output_type": "stream",
     "text": [
      "/Users/jayrambhiya/Desktop/DSCI 552/Final Project/dataverse_files/dataverse_hirise_v3/data/ESP_062521_2450_5120_10240_20480_25600/tiles/background\n",
      "number of images in the source directory: 64\n",
      "Initialised with 64 image(s) found.\n",
      "Output directory set to /Users/jayrambhiya/Desktop/DSCI 552/Final Project/dataverse_files/dataverse_hirise_v3/augmented_training_data/."
     ]
    },
    {
     "name": "stderr",
     "output_type": "stream",
     "text": [
      "Processing <PIL.Image.Image image mode=L size=299x299 at 0x28340FD90>: 100%|█| 6\n"
     ]
    },
    {
     "name": "stdout",
     "output_type": "stream",
     "text": [
      "/Users/jayrambhiya/Desktop/DSCI 552/Final Project/dataverse_files/dataverse_hirise_v3/data/ESP_062521_2450_5120_10240_10240_15360/tiles/background\n",
      "number of images in the source directory: 64\n",
      "Initialised with 64 image(s) found.\n",
      "Output directory set to /Users/jayrambhiya/Desktop/DSCI 552/Final Project/dataverse_files/dataverse_hirise_v3/augmented_training_data/."
     ]
    },
    {
     "name": "stderr",
     "output_type": "stream",
     "text": [
      "Processing <PIL.Image.Image image mode=L size=299x299 at 0x2838175D0>: 100%|█| 6"
     ]
    },
    {
     "name": "stdout",
     "output_type": "stream",
     "text": [
      "/Users/jayrambhiya/Desktop/DSCI 552/Final Project/dataverse_files/dataverse_hirise_v3/data/ESP_062521_2450_35840_40632_10240_15360/tiles/background\n",
      "number of images in the source directory: 51\n"
     ]
    },
    {
     "name": "stderr",
     "output_type": "stream",
     "text": [
      "\n"
     ]
    },
    {
     "name": "stdout",
     "output_type": "stream",
     "text": [
      "Initialised with 51 image(s) found.\n",
      "Output directory set to /Users/jayrambhiya/Desktop/DSCI 552/Final Project/dataverse_files/dataverse_hirise_v3/augmented_training_data/."
     ]
    },
    {
     "name": "stderr",
     "output_type": "stream",
     "text": [
      "Processing <PIL.Image.Image image mode=L size=269x269 at 0x17251BB50>: 100%|█| 5\n"
     ]
    },
    {
     "name": "stdout",
     "output_type": "stream",
     "text": [
      "/Users/jayrambhiya/Desktop/DSCI 552/Final Project/dataverse_files/dataverse_hirise_v3/data/ESP_062521_2450_20480_25600_20480_25600/tiles/background\n",
      "number of images in the source directory: 64\n",
      "Initialised with 64 image(s) found.\n",
      "Output directory set to /Users/jayrambhiya/Desktop/DSCI 552/Final Project/dataverse_files/dataverse_hirise_v3/augmented_training_data/."
     ]
    },
    {
     "name": "stderr",
     "output_type": "stream",
     "text": [
      "Processing <PIL.Image.Image image mode=L size=269x269 at 0x28348AED0>: 100%|█| 6\n"
     ]
    },
    {
     "name": "stdout",
     "output_type": "stream",
     "text": [
      "/Users/jayrambhiya/Desktop/DSCI 552/Final Project/dataverse_files/dataverse_hirise_v3/data/ESP_062583_2230_15360_20480_10240_15360/tiles/background\n",
      "number of images in the source directory: 64\n",
      "Initialised with 64 image(s) found.\n",
      "Output directory set to /Users/jayrambhiya/Desktop/DSCI 552/Final Project/dataverse_files/dataverse_hirise_v3/augmented_training_data/."
     ]
    },
    {
     "name": "stderr",
     "output_type": "stream",
     "text": [
      "Processing <PIL.Image.Image image mode=L size=269x269 at 0x282880C50>: 100%|█| 6\n"
     ]
    },
    {
     "name": "stdout",
     "output_type": "stream",
     "text": [
      "/Users/jayrambhiya/Desktop/DSCI 552/Final Project/dataverse_files/dataverse_hirise_v3/data/ESP_062583_2230_30720_35840_5120_10240/tiles/background\n",
      "number of images in the source directory: 64\n",
      "Initialised with 64 image(s) found.\n",
      "Output directory set to /Users/jayrambhiya/Desktop/DSCI 552/Final Project/dataverse_files/dataverse_hirise_v3/augmented_training_data/."
     ]
    },
    {
     "name": "stderr",
     "output_type": "stream",
     "text": [
      "Processing <PIL.Image.Image image mode=L size=269x269 at 0x282E07E50>: 100%|█| 6\n"
     ]
    },
    {
     "name": "stdout",
     "output_type": "stream",
     "text": [
      "/Users/jayrambhiya/Desktop/DSCI 552/Final Project/dataverse_files/dataverse_hirise_v3/data/ESP_065354_2440_10240_15360_10240_15360/tiles/frost\n",
      "number of images in the source directory: 246\n",
      "Initialised with 246 image(s) found.\n",
      "Output directory set to /Users/jayrambhiya/Desktop/DSCI 552/Final Project/dataverse_files/dataverse_hirise_v3/augmented_training_data/."
     ]
    },
    {
     "name": "stderr",
     "output_type": "stream",
     "text": [
      "Processing <PIL.Image.Image image mode=L size=269x269 at 0x280DBCF50>: 100%|█| 2\n"
     ]
    },
    {
     "name": "stdout",
     "output_type": "stream",
     "text": [
      "/Users/jayrambhiya/Desktop/DSCI 552/Final Project/dataverse_files/dataverse_hirise_v3/data/ESP_065354_2440_15360_20299_0_5120/tiles/frost\n",
      "number of images in the source directory: 121\n",
      "Initialised with 121 image(s) found.\n",
      "Output directory set to /Users/jayrambhiya/Desktop/DSCI 552/Final Project/dataverse_files/dataverse_hirise_v3/augmented_training_data/."
     ]
    },
    {
     "name": "stderr",
     "output_type": "stream",
     "text": [
      "Processing <PIL.Image.Image image mode=L size=299x299 at 0x281120C10>: 100%|█| 1\n"
     ]
    },
    {
     "name": "stdout",
     "output_type": "stream",
     "text": [
      "/Users/jayrambhiya/Desktop/DSCI 552/Final Project/dataverse_files/dataverse_hirise_v3/data/ESP_066104_2230_51200_56320_15360_20480/tiles/frost\n",
      "number of images in the source directory: 64\n",
      "Initialised with 64 image(s) found.\n",
      "Output directory set to /Users/jayrambhiya/Desktop/DSCI 552/Final Project/dataverse_files/dataverse_hirise_v3/augmented_training_data/."
     ]
    },
    {
     "name": "stderr",
     "output_type": "stream",
     "text": [
      "Processing <PIL.Image.Image image mode=L size=299x299 at 0x11CD35890>: 100%|█| 6\n"
     ]
    },
    {
     "name": "stdout",
     "output_type": "stream",
     "text": [
      "/Users/jayrambhiya/Desktop/DSCI 552/Final Project/dataverse_files/dataverse_hirise_v3/data/ESP_066104_2230_56320_61440_20480_25600/tiles/frost\n",
      "number of images in the source directory: 41\n",
      "Initialised with 41 image(s) found.\n",
      "Output directory set to /Users/jayrambhiya/Desktop/DSCI 552/Final Project/dataverse_files/dataverse_hirise_v3/augmented_training_data/."
     ]
    },
    {
     "name": "stderr",
     "output_type": "stream",
     "text": [
      "Processing <PIL.Image.Image image mode=L size=299x299 at 0x280D42B10>: 100%|█| 4\n"
     ]
    },
    {
     "name": "stdout",
     "output_type": "stream",
     "text": [
      "/Users/jayrambhiya/Desktop/DSCI 552/Final Project/dataverse_files/dataverse_hirise_v3/data/ESP_066104_2230_40960_46080_5120_10240/tiles/frost\n",
      "number of images in the source directory: 56\n",
      "Initialised with 56 image(s) found.\n",
      "Output directory set to /Users/jayrambhiya/Desktop/DSCI 552/Final Project/dataverse_files/dataverse_hirise_v3/augmented_training_data/."
     ]
    },
    {
     "name": "stderr",
     "output_type": "stream",
     "text": [
      "Processing <PIL.Image.Image image mode=L size=299x299 at 0x1723C31D0>: 100%|█| 5\n"
     ]
    },
    {
     "name": "stdout",
     "output_type": "stream",
     "text": [
      "/Users/jayrambhiya/Desktop/DSCI 552/Final Project/dataverse_files/dataverse_hirise_v3/data/ESP_066104_2230_10240_15360_15360_20480/tiles/frost\n",
      "number of images in the source directory: 49\n",
      "Initialised with 49 image(s) found.\n",
      "Output directory set to /Users/jayrambhiya/Desktop/DSCI 552/Final Project/dataverse_files/dataverse_hirise_v3/augmented_training_data/."
     ]
    },
    {
     "name": "stderr",
     "output_type": "stream",
     "text": [
      "Processing <PIL.Image.Image image mode=L size=269x269 at 0x282BA2DD0>: 100%|█| 4\n"
     ]
    },
    {
     "name": "stdout",
     "output_type": "stream",
     "text": [
      "/Users/jayrambhiya/Desktop/DSCI 552/Final Project/dataverse_files/dataverse_hirise_v3/data/ESP_066104_2230_25600_30720_15360_20480/tiles/frost\n",
      "number of images in the source directory: 49\n",
      "Initialised with 49 image(s) found.\n",
      "Output directory set to /Users/jayrambhiya/Desktop/DSCI 552/Final Project/dataverse_files/dataverse_hirise_v3/augmented_training_data/."
     ]
    },
    {
     "name": "stderr",
     "output_type": "stream",
     "text": [
      "Processing <PIL.Image.Image image mode=L size=299x299 at 0x282BA2FD0>: 100%|█| 4\n"
     ]
    },
    {
     "name": "stdout",
     "output_type": "stream",
     "text": [
      "/Users/jayrambhiya/Desktop/DSCI 552/Final Project/dataverse_files/dataverse_hirise_v3/data/ESP_066446_2385_15360_20480_0_5120/tiles/frost\n",
      "number of images in the source directory: 516\n",
      "Initialised with 516 image(s) found.\n",
      "Output directory set to /Users/jayrambhiya/Desktop/DSCI 552/Final Project/dataverse_files/dataverse_hirise_v3/augmented_training_data/."
     ]
    },
    {
     "name": "stderr",
     "output_type": "stream",
     "text": [
      "Processing <PIL.Image.Image image mode=L size=299x299 at 0x2807F2D10>: 100%|█| 5\n"
     ]
    },
    {
     "name": "stdout",
     "output_type": "stream",
     "text": [
      "/Users/jayrambhiya/Desktop/DSCI 552/Final Project/dataverse_files/dataverse_hirise_v3/data/ESP_066476_2370_20480_25600_0_5120/tiles/frost\n",
      "number of images in the source directory: 59\n",
      "Initialised with 59 image(s) found.\n",
      "Output directory set to /Users/jayrambhiya/Desktop/DSCI 552/Final Project/dataverse_files/dataverse_hirise_v3/augmented_training_data/."
     ]
    },
    {
     "name": "stderr",
     "output_type": "stream",
     "text": [
      "Processing <PIL.Image.Image image mode=L size=299x299 at 0x281106B50>: 100%|█| 5\n"
     ]
    },
    {
     "name": "stdout",
     "output_type": "stream",
     "text": [
      "/Users/jayrambhiya/Desktop/DSCI 552/Final Project/dataverse_files/dataverse_hirise_v3/data/ESP_066476_2370_0_5120_5120_10240/tiles/frost\n",
      "number of images in the source directory: 248\n",
      "Initialised with 248 image(s) found.\n",
      "Output directory set to /Users/jayrambhiya/Desktop/DSCI 552/Final Project/dataverse_files/dataverse_hirise_v3/augmented_training_data/."
     ]
    },
    {
     "name": "stderr",
     "output_type": "stream",
     "text": [
      "Processing <PIL.Image.Image image mode=L size=269x269 at 0x280D76010>: 100%|█| 2\n"
     ]
    },
    {
     "name": "stdout",
     "output_type": "stream",
     "text": [
      "/Users/jayrambhiya/Desktop/DSCI 552/Final Project/dataverse_files/dataverse_hirise_v3/data/ESP_066805_2440_35840_40960_5120_10240/tiles/frost\n",
      "number of images in the source directory: 220\n",
      "Initialised with 220 image(s) found.\n",
      "Output directory set to /Users/jayrambhiya/Desktop/DSCI 552/Final Project/dataverse_files/dataverse_hirise_v3/augmented_training_data/."
     ]
    },
    {
     "name": "stderr",
     "output_type": "stream",
     "text": [
      "Processing <PIL.Image.Image image mode=L size=269x269 at 0x283443E10>: 100%|█| 2\n"
     ]
    },
    {
     "name": "stdout",
     "output_type": "stream",
     "text": [
      "/Users/jayrambhiya/Desktop/DSCI 552/Final Project/dataverse_files/dataverse_hirise_v3/data/ESP_066805_2440_10240_15360_0_5120/tiles/frost\n",
      "number of images in the source directory: 176\n",
      "Initialised with 176 image(s) found.\n",
      "Output directory set to /Users/jayrambhiya/Desktop/DSCI 552/Final Project/dataverse_files/dataverse_hirise_v3/augmented_training_data/."
     ]
    },
    {
     "name": "stderr",
     "output_type": "stream",
     "text": [
      "Processing <PIL.Image.Image image mode=L size=269x269 at 0x155E52650>: 100%|█| 1\n"
     ]
    },
    {
     "name": "stdout",
     "output_type": "stream",
     "text": [
      "/Users/jayrambhiya/Desktop/DSCI 552/Final Project/dataverse_files/dataverse_hirise_v3/data/ESP_066819_2370_10240_15360_5120_10240/tiles/frost\n",
      "number of images in the source directory: 220\n",
      "Initialised with 220 image(s) found.\n",
      "Output directory set to /Users/jayrambhiya/Desktop/DSCI 552/Final Project/dataverse_files/dataverse_hirise_v3/augmented_training_data/."
     ]
    },
    {
     "name": "stderr",
     "output_type": "stream",
     "text": [
      "Processing <PIL.Image.Image image mode=L size=269x269 at 0x2834E4B10>: 100%|█| 2\n"
     ]
    },
    {
     "name": "stdout",
     "output_type": "stream",
     "text": [
      "/Users/jayrambhiya/Desktop/DSCI 552/Final Project/dataverse_files/dataverse_hirise_v3/data/ESP_066819_2370_35840_40960_10240_15360/tiles/frost\n",
      "number of images in the source directory: 41\n",
      "Initialised with 41 image(s) found.\n",
      "Output directory set to /Users/jayrambhiya/Desktop/DSCI 552/Final Project/dataverse_files/dataverse_hirise_v3/augmented_training_data/."
     ]
    },
    {
     "name": "stderr",
     "output_type": "stream",
     "text": [
      "Processing <PIL.Image.Image image mode=L size=269x269 at 0x2811427D0>: 100%|█| 4\n"
     ]
    },
    {
     "name": "stdout",
     "output_type": "stream",
     "text": [
      "/Users/jayrambhiya/Desktop/DSCI 552/Final Project/dataverse_files/dataverse_hirise_v3/data/ESP_066935_2230_15360_20480_0_5120/tiles/background\n",
      "number of images in the source directory: 35\n",
      "Initialised with 35 image(s) found.\n",
      "Output directory set to /Users/jayrambhiya/Desktop/DSCI 552/Final Project/dataverse_files/dataverse_hirise_v3/augmented_training_data/."
     ]
    },
    {
     "name": "stderr",
     "output_type": "stream",
     "text": [
      "Processing <PIL.Image.Image image mode=L size=299x299 at 0x28268FE50>: 100%|█| 3\n"
     ]
    },
    {
     "name": "stdout",
     "output_type": "stream",
     "text": [
      "/Users/jayrambhiya/Desktop/DSCI 552/Final Project/dataverse_files/dataverse_hirise_v3/data/ESP_066935_2230_46080_51200_5120_10240/tiles/background\n",
      "number of images in the source directory: 42\n",
      "Initialised with 42 image(s) found.\n",
      "Output directory set to /Users/jayrambhiya/Desktop/DSCI 552/Final Project/dataverse_files/dataverse_hirise_v3/augmented_training_data/."
     ]
    },
    {
     "name": "stderr",
     "output_type": "stream",
     "text": [
      "Processing <PIL.Image.Image image mode=L size=269x269 at 0x17253A790>: 100%|█| 4\n"
     ]
    },
    {
     "name": "stdout",
     "output_type": "stream",
     "text": [
      "/Users/jayrambhiya/Desktop/DSCI 552/Final Project/dataverse_files/dataverse_hirise_v3/data/ESP_067084_2450_10240_15360_10240_15360/tiles/frost\n",
      "number of images in the source directory: 259\n",
      "Initialised with 259 image(s) found.\n",
      "Output directory set to /Users/jayrambhiya/Desktop/DSCI 552/Final Project/dataverse_files/dataverse_hirise_v3/augmented_training_data/."
     ]
    },
    {
     "name": "stderr",
     "output_type": "stream",
     "text": [
      "Processing <PIL.Image.Image image mode=L size=299x299 at 0x2811238D0>: 100%|█| 2\n"
     ]
    },
    {
     "name": "stdout",
     "output_type": "stream",
     "text": [
      "/Users/jayrambhiya/Desktop/DSCI 552/Final Project/dataverse_files/dataverse_hirise_v3/data/ESP_067216_2450_20480_25600_15360_18135/tiles/frost\n",
      "number of images in the source directory: 70\n",
      "Initialised with 70 image(s) found.\n",
      "Output directory set to /Users/jayrambhiya/Desktop/DSCI 552/Final Project/dataverse_files/dataverse_hirise_v3/augmented_training_data/."
     ]
    },
    {
     "name": "stderr",
     "output_type": "stream",
     "text": [
      "Processing <PIL.Image.Image image mode=L size=269x269 at 0x172515210>: 100%|█| 7\n"
     ]
    },
    {
     "name": "stdout",
     "output_type": "stream",
     "text": [
      "/Users/jayrambhiya/Desktop/DSCI 552/Final Project/dataverse_files/dataverse_hirise_v3/data/ESP_067228_1820_0_5120_0_5120/tiles/background\n",
      "number of images in the source directory: 29\n",
      "Initialised with 29 image(s) found.\n",
      "Output directory set to /Users/jayrambhiya/Desktop/DSCI 552/Final Project/dataverse_files/dataverse_hirise_v3/augmented_training_data/."
     ]
    },
    {
     "name": "stderr",
     "output_type": "stream",
     "text": [
      "Processing <PIL.Image.Image image mode=L size=269x269 at 0x176FA7A10>: 100%|█| 2\n"
     ]
    },
    {
     "name": "stdout",
     "output_type": "stream",
     "text": [
      "/Users/jayrambhiya/Desktop/DSCI 552/Final Project/dataverse_files/dataverse_hirise_v3/data/ESP_067228_1820_10240_15360_0_5120/tiles/background\n",
      "number of images in the source directory: 44\n",
      "Initialised with 44 image(s) found.\n",
      "Output directory set to /Users/jayrambhiya/Desktop/DSCI 552/Final Project/dataverse_files/dataverse_hirise_v3/augmented_training_data/."
     ]
    },
    {
     "name": "stderr",
     "output_type": "stream",
     "text": [
      "Processing <PIL.Image.Image image mode=L size=269x269 at 0x28341CB10>: 100%|█| 4\n"
     ]
    },
    {
     "name": "stdout",
     "output_type": "stream",
     "text": [
      "/Users/jayrambhiya/Desktop/DSCI 552/Final Project/dataverse_files/dataverse_hirise_v3/data/ESP_067228_1820_5120_10240_5120_10240/tiles/background\n",
      "number of images in the source directory: 64\n",
      "Initialised with 64 image(s) found.\n",
      "Output directory set to /Users/jayrambhiya/Desktop/DSCI 552/Final Project/dataverse_files/dataverse_hirise_v3/augmented_training_data/."
     ]
    },
    {
     "name": "stderr",
     "output_type": "stream",
     "text": [
      "Processing <PIL.Image.Image image mode=L size=299x299 at 0x283443C90>: 100%|█| 6\n"
     ]
    },
    {
     "name": "stdout",
     "output_type": "stream",
     "text": [
      "/Users/jayrambhiya/Desktop/DSCI 552/Final Project/dataverse_files/dataverse_hirise_v3/data/ESP_067228_1820_20480_25600_10240_15360/tiles/background\n",
      "number of images in the source directory: 64\n",
      "Initialised with 64 image(s) found.\n",
      "Output directory set to /Users/jayrambhiya/Desktop/DSCI 552/Final Project/dataverse_files/dataverse_hirise_v3/augmented_training_data/."
     ]
    },
    {
     "name": "stderr",
     "output_type": "stream",
     "text": [
      "Processing <PIL.Image.Image image mode=L size=269x269 at 0x280D81ED0>: 100%|█| 6\n"
     ]
    },
    {
     "name": "stdout",
     "output_type": "stream",
     "text": [
      "/Users/jayrambhiya/Desktop/DSCI 552/Final Project/dataverse_files/dataverse_hirise_v3/data/ESP_067228_1820_25600_30720_5120_10240/tiles/background\n",
      "number of images in the source directory: 64\n",
      "Initialised with 64 image(s) found.\n",
      "Output directory set to /Users/jayrambhiya/Desktop/DSCI 552/Final Project/dataverse_files/dataverse_hirise_v3/augmented_training_data/."
     ]
    },
    {
     "name": "stderr",
     "output_type": "stream",
     "text": [
      "Processing <PIL.Image.Image image mode=L size=269x269 at 0x28341EC50>: 100%|█| 6\n"
     ]
    },
    {
     "name": "stdout",
     "output_type": "stream",
     "text": [
      "/Users/jayrambhiya/Desktop/DSCI 552/Final Project/dataverse_files/dataverse_hirise_v3/data/ESP_067228_1820_15360_20480_0_5120/tiles/background\n",
      "number of images in the source directory: 36\n",
      "Initialised with 36 image(s) found.\n",
      "Output directory set to /Users/jayrambhiya/Desktop/DSCI 552/Final Project/dataverse_files/dataverse_hirise_v3/augmented_training_data/."
     ]
    },
    {
     "name": "stderr",
     "output_type": "stream",
     "text": [
      "Processing <PIL.Image.Image image mode=L size=269x269 at 0x282880BD0>: 100%|█| 3\n"
     ]
    },
    {
     "name": "stdout",
     "output_type": "stream",
     "text": [
      "/Users/jayrambhiya/Desktop/DSCI 552/Final Project/dataverse_files/dataverse_hirise_v3/data/ESP_067360_2370_51200_56320_5120_10240/tiles/frost\n",
      "number of images in the source directory: 55\n",
      "Initialised with 55 image(s) found.\n",
      "Output directory set to /Users/jayrambhiya/Desktop/DSCI 552/Final Project/dataverse_files/dataverse_hirise_v3/augmented_training_data/."
     ]
    },
    {
     "name": "stderr",
     "output_type": "stream",
     "text": [
      "Processing <PIL.Image.Image image mode=L size=269x269 at 0x17238E550>: 100%|█| 5\n"
     ]
    },
    {
     "name": "stdout",
     "output_type": "stream",
     "text": [
      "/Users/jayrambhiya/Desktop/DSCI 552/Final Project/dataverse_files/dataverse_hirise_v3/data/ESP_067360_2370_35840_40960_5120_10240/tiles/frost\n",
      "number of images in the source directory: 47\n",
      "Initialised with 47 image(s) found.\n",
      "Output directory set to /Users/jayrambhiya/Desktop/DSCI 552/Final Project/dataverse_files/dataverse_hirise_v3/augmented_training_data/."
     ]
    },
    {
     "name": "stderr",
     "output_type": "stream",
     "text": [
      "Processing <PIL.Image.Image image mode=L size=299x299 at 0x28341DDD0>: 100%|█| 4\n"
     ]
    },
    {
     "name": "stdout",
     "output_type": "stream",
     "text": [
      "/Users/jayrambhiya/Desktop/DSCI 552/Final Project/dataverse_files/dataverse_hirise_v3/data/ESP_067691_2450_35840_40316_15360_20480/tiles/frost\n",
      "number of images in the source directory: 29\n",
      "Initialised with 29 image(s) found.\n",
      "Output directory set to /Users/jayrambhiya/Desktop/DSCI 552/Final Project/dataverse_files/dataverse_hirise_v3/augmented_training_data/."
     ]
    },
    {
     "name": "stderr",
     "output_type": "stream",
     "text": [
      "Processing <PIL.Image.Image image mode=L size=269x269 at 0x157AE1ED0>: 100%|█| 2\n"
     ]
    },
    {
     "name": "stdout",
     "output_type": "stream",
     "text": [
      "/Users/jayrambhiya/Desktop/DSCI 552/Final Project/dataverse_files/dataverse_hirise_v3/data/ESP_067691_2450_20480_25600_10240_15360/tiles/frost\n",
      "number of images in the source directory: 57\n",
      "Initialised with 57 image(s) found.\n",
      "Output directory set to /Users/jayrambhiya/Desktop/DSCI 552/Final Project/dataverse_files/dataverse_hirise_v3/augmented_training_data/."
     ]
    },
    {
     "name": "stderr",
     "output_type": "stream",
     "text": [
      "Processing <PIL.Image.Image image mode=L size=299x299 at 0x282C3D8D0>: 100%|█| 5\n"
     ]
    },
    {
     "name": "stdout",
     "output_type": "stream",
     "text": [
      "/Users/jayrambhiya/Desktop/DSCI 552/Final Project/dataverse_files/dataverse_hirise_v3/data/ESP_068046_2370_20480_25600_5120_10240/tiles/frost\n",
      "number of images in the source directory: 49\n",
      "Initialised with 49 image(s) found.\n",
      "Output directory set to /Users/jayrambhiya/Desktop/DSCI 552/Final Project/dataverse_files/dataverse_hirise_v3/augmented_training_data/."
     ]
    },
    {
     "name": "stderr",
     "output_type": "stream",
     "text": [
      "Processing <PIL.Image.Image image mode=L size=269x269 at 0x169E83C50>: 100%|█| 4\n"
     ]
    },
    {
     "name": "stdout",
     "output_type": "stream",
     "text": [
      "/Users/jayrambhiya/Desktop/DSCI 552/Final Project/dataverse_files/dataverse_hirise_v3/data/ESP_068046_2370_20480_25600_0_5120/tiles/frost\n",
      "number of images in the source directory: 13\n",
      "Initialised with 13 image(s) found.\n",
      "Output directory set to /Users/jayrambhiya/Desktop/DSCI 552/Final Project/dataverse_files/dataverse_hirise_v3/augmented_training_data/."
     ]
    },
    {
     "name": "stderr",
     "output_type": "stream",
     "text": [
      "Processing <PIL.Image.Image image mode=L size=269x269 at 0x280C51DD0>: 100%|█| 1\n"
     ]
    },
    {
     "name": "stdout",
     "output_type": "stream",
     "text": [
      "/Users/jayrambhiya/Desktop/DSCI 552/Final Project/dataverse_files/dataverse_hirise_v3/data/ESP_068046_2370_40960_42900_5120_10240/tiles/frost\n",
      "number of images in the source directory: 6\n",
      "Initialised with 6 image(s) found.\n",
      "Output directory set to /Users/jayrambhiya/Desktop/DSCI 552/Final Project/dataverse_files/dataverse_hirise_v3/augmented_training_data/."
     ]
    },
    {
     "name": "stderr",
     "output_type": "stream",
     "text": [
      "Processing <PIL.Image.Image image mode=L size=299x299 at 0x283440C10>: 100%|█| 6\n"
     ]
    },
    {
     "name": "stdout",
     "output_type": "stream",
     "text": [
      "/Users/jayrambhiya/Desktop/DSCI 552/Final Project/dataverse_files/dataverse_hirise_v3/data/ESP_068362_2440_0_5120_5120_10240/tiles/frost\n",
      "number of images in the source directory: 218\n",
      "Initialised with 218 image(s) found.\n",
      "Output directory set to /Users/jayrambhiya/Desktop/DSCI 552/Final Project/dataverse_files/dataverse_hirise_v3/augmented_training_data/."
     ]
    },
    {
     "name": "stderr",
     "output_type": "stream",
     "text": [
      "Processing <PIL.Image.Image image mode=L size=299x299 at 0x280C51DD0>: 100%|█| 2\n"
     ]
    },
    {
     "name": "stdout",
     "output_type": "stream",
     "text": [
      "/Users/jayrambhiya/Desktop/DSCI 552/Final Project/dataverse_files/dataverse_hirise_v3/data/ESP_068362_2440_10240_15360_10240_15360/tiles/frost\n",
      "number of images in the source directory: 247\n",
      "Initialised with 247 image(s) found.\n",
      "Output directory set to /Users/jayrambhiya/Desktop/DSCI 552/Final Project/dataverse_files/dataverse_hirise_v3/augmented_training_data/."
     ]
    },
    {
     "name": "stderr",
     "output_type": "stream",
     "text": [
      "Processing <PIL.Image.Image image mode=L size=269x269 at 0x282F5EA10>: 100%|█| 2\n"
     ]
    },
    {
     "name": "stdout",
     "output_type": "stream",
     "text": [
      "/Users/jayrambhiya/Desktop/DSCI 552/Final Project/dataverse_files/dataverse_hirise_v3/data/ESP_069365_2440_10240_15360_10240_15360/tiles/frost\n",
      "number of images in the source directory: 3\n",
      "Initialised with 3 image(s) found.\n",
      "Output directory set to /Users/jayrambhiya/Desktop/DSCI 552/Final Project/dataverse_files/dataverse_hirise_v3/augmented_training_data/."
     ]
    },
    {
     "name": "stderr",
     "output_type": "stream",
     "text": [
      "Processing <PIL.Image.Image image mode=L size=299x299 at 0x28340FE90>: 100%|█| 3\n"
     ]
    },
    {
     "name": "stdout",
     "output_type": "stream",
     "text": [
      "/Users/jayrambhiya/Desktop/DSCI 552/Final Project/dataverse_files/dataverse_hirise_v3/data/ESP_071080_2370_35840_37235_5120_10240/tiles/background\n",
      "number of images in the source directory: 11\n",
      "Initialised with 11 image(s) found.\n",
      "Output directory set to /Users/jayrambhiya/Desktop/DSCI 552/Final Project/dataverse_files/dataverse_hirise_v3/augmented_training_data/."
     ]
    },
    {
     "name": "stderr",
     "output_type": "stream",
     "text": [
      "Processing <PIL.Image.Image image mode=L size=299x299 at 0x172515510>: 100%|█| 1\n"
     ]
    },
    {
     "name": "stdout",
     "output_type": "stream",
     "text": [
      "/Users/jayrambhiya/Desktop/DSCI 552/Final Project/dataverse_files/dataverse_hirise_v3/data/ESP_071080_2370_15360_20480_5120_10240/tiles/background\n",
      "number of images in the source directory: 64\n",
      "Initialised with 64 image(s) found.\n",
      "Output directory set to /Users/jayrambhiya/Desktop/DSCI 552/Final Project/dataverse_files/dataverse_hirise_v3/augmented_training_data/."
     ]
    },
    {
     "name": "stderr",
     "output_type": "stream",
     "text": [
      "Processing <PIL.Image.Image image mode=L size=269x269 at 0x28264BDD0>: 100%|█| 6\n"
     ]
    },
    {
     "name": "stdout",
     "output_type": "stream",
     "text": [
      "/Users/jayrambhiya/Desktop/DSCI 552/Final Project/dataverse_files/dataverse_hirise_v3/data/ESP_071080_2370_10240_15360_15360_20480/tiles/background\n",
      "number of images in the source directory: 64\n",
      "Initialised with 64 image(s) found.\n",
      "Output directory set to /Users/jayrambhiya/Desktop/DSCI 552/Final Project/dataverse_files/dataverse_hirise_v3/augmented_training_data/."
     ]
    },
    {
     "name": "stderr",
     "output_type": "stream",
     "text": [
      "Processing <PIL.Image.Image image mode=L size=269x269 at 0x280D50350>: 100%|█| 6\n"
     ]
    },
    {
     "name": "stdout",
     "output_type": "stream",
     "text": [
      "/Users/jayrambhiya/Desktop/DSCI 552/Final Project/dataverse_files/dataverse_hirise_v3/data/ESP_071080_2370_25600_30720_15360_20480/tiles/background\n",
      "number of images in the source directory: 64\n",
      "Initialised with 64 image(s) found.\n",
      "Output directory set to /Users/jayrambhiya/Desktop/DSCI 552/Final Project/dataverse_files/dataverse_hirise_v3/augmented_training_data/."
     ]
    },
    {
     "name": "stderr",
     "output_type": "stream",
     "text": [
      "Processing <PIL.Image.Image image mode=L size=299x299 at 0x11B691CD0>: 100%|█| 6\n"
     ]
    },
    {
     "name": "stdout",
     "output_type": "stream",
     "text": [
      "/Users/jayrambhiya/Desktop/DSCI 552/Final Project/dataverse_files/dataverse_hirise_v3/data/ESP_071635_2450_30720_35840_25600_30720/tiles/background\n",
      "number of images in the source directory: 64\n",
      "Initialised with 64 image(s) found.\n",
      "Output directory set to /Users/jayrambhiya/Desktop/DSCI 552/Final Project/dataverse_files/dataverse_hirise_v3/augmented_training_data/."
     ]
    },
    {
     "name": "stderr",
     "output_type": "stream",
     "text": [
      "Processing <PIL.Image.Image image mode=L size=299x299 at 0x2807F22D0>: 100%|█| 6\n"
     ]
    },
    {
     "name": "stdout",
     "output_type": "stream",
     "text": [
      "/Users/jayrambhiya/Desktop/DSCI 552/Final Project/dataverse_files/dataverse_hirise_v3/data/ESP_071635_2450_25600_30720_5120_10240/tiles/background\n",
      "number of images in the source directory: 64\n",
      "Initialised with 64 image(s) found.\n",
      "Output directory set to /Users/jayrambhiya/Desktop/DSCI 552/Final Project/dataverse_files/dataverse_hirise_v3/augmented_training_data/."
     ]
    },
    {
     "name": "stderr",
     "output_type": "stream",
     "text": [
      "Processing <PIL.Image.Image image mode=L size=299x299 at 0x11B67D4D0>: 100%|█| 6\n"
     ]
    },
    {
     "name": "stdout",
     "output_type": "stream",
     "text": [
      "/Users/jayrambhiya/Desktop/DSCI 552/Final Project/dataverse_files/dataverse_hirise_v3/data/ESP_071635_2450_0_5120_10240_15360/tiles/background\n",
      "number of images in the source directory: 40\n",
      "Initialised with 40 image(s) found.\n",
      "Output directory set to /Users/jayrambhiya/Desktop/DSCI 552/Final Project/dataverse_files/dataverse_hirise_v3/augmented_training_data/."
     ]
    },
    {
     "name": "stderr",
     "output_type": "stream",
     "text": [
      "Processing <PIL.Image.Image image mode=L size=269x269 at 0x281140D90>: 100%|█| 4\n"
     ]
    },
    {
     "name": "stdout",
     "output_type": "stream",
     "text": [
      "/Users/jayrambhiya/Desktop/DSCI 552/Final Project/dataverse_files/dataverse_hirise_v3/data/ESP_071635_2450_25600_30720_20480_25600/tiles/background\n",
      "number of images in the source directory: 64\n",
      "Initialised with 64 image(s) found.\n",
      "Output directory set to /Users/jayrambhiya/Desktop/DSCI 552/Final Project/dataverse_files/dataverse_hirise_v3/augmented_training_data/."
     ]
    },
    {
     "name": "stderr",
     "output_type": "stream",
     "text": [
      "Processing <PIL.Image.Image image mode=L size=269x269 at 0x17253D0D0>: 100%|█| 6\n"
     ]
    },
    {
     "name": "stdout",
     "output_type": "stream",
     "text": [
      "/Users/jayrambhiya/Desktop/DSCI 552/Final Project/dataverse_files/dataverse_hirise_v3/data/ESP_071635_2450_15360_20480_15360_20480/tiles/background\n",
      "number of images in the source directory: 64\n",
      "Initialised with 64 image(s) found.\n",
      "Output directory set to /Users/jayrambhiya/Desktop/DSCI 552/Final Project/dataverse_files/dataverse_hirise_v3/augmented_training_data/."
     ]
    },
    {
     "name": "stderr",
     "output_type": "stream",
     "text": [
      "Processing <PIL.Image.Image image mode=L size=299x299 at 0x1727A4FD0>: 100%|█| 6\n"
     ]
    },
    {
     "name": "stdout",
     "output_type": "stream",
     "text": [
      "/Users/jayrambhiya/Desktop/DSCI 552/Final Project/dataverse_files/dataverse_hirise_v3/data/ESP_071635_2450_0_5120_15360_20480/tiles/background\n",
      "number of images in the source directory: 48\n",
      "Initialised with 48 image(s) found.\n",
      "Output directory set to /Users/jayrambhiya/Desktop/DSCI 552/Final Project/dataverse_files/dataverse_hirise_v3/augmented_training_data/."
     ]
    },
    {
     "name": "stderr",
     "output_type": "stream",
     "text": [
      "Processing <PIL.Image.Image image mode=L size=299x299 at 0x281122FD0>: 100%|█| 4\n"
     ]
    },
    {
     "name": "stdout",
     "output_type": "stream",
     "text": [
      "/Users/jayrambhiya/Desktop/DSCI 552/Final Project/dataverse_files/dataverse_hirise_v3/data/ESP_071635_2450_20480_25600_25600_30720/tiles/background\n",
      "number of images in the source directory: 52\n",
      "Initialised with 52 image(s) found.\n",
      "Output directory set to /Users/jayrambhiya/Desktop/DSCI 552/Final Project/dataverse_files/dataverse_hirise_v3/augmented_training_data/."
     ]
    },
    {
     "name": "stderr",
     "output_type": "stream",
     "text": [
      "Processing <PIL.Image.Image image mode=L size=269x269 at 0x2811438D0>: 100%|█| 5\n"
     ]
    },
    {
     "name": "stdout",
     "output_type": "stream",
     "text": [
      "/Users/jayrambhiya/Desktop/DSCI 552/Final Project/dataverse_files/dataverse_hirise_v3/data/ESP_072193_1845_0_5120_5120_10240/tiles/background\n",
      "number of images in the source directory: 264\n",
      "Initialised with 264 image(s) found.\n",
      "Output directory set to /Users/jayrambhiya/Desktop/DSCI 552/Final Project/dataverse_files/dataverse_hirise_v3/augmented_training_data/."
     ]
    },
    {
     "name": "stderr",
     "output_type": "stream",
     "text": [
      "Processing <PIL.Image.Image image mode=L size=299x299 at 0x2834E4910>: 100%|█| 2\n"
     ]
    },
    {
     "name": "stdout",
     "output_type": "stream",
     "text": [
      "/Users/jayrambhiya/Desktop/DSCI 552/Final Project/dataverse_files/dataverse_hirise_v3/data/ESP_072193_1845_15360_20480_0_5120/tiles/background\n",
      "number of images in the source directory: 165\n",
      "Initialised with 165 image(s) found.\n",
      "Output directory set to /Users/jayrambhiya/Desktop/DSCI 552/Final Project/dataverse_files/dataverse_hirise_v3/augmented_training_data/."
     ]
    },
    {
     "name": "stderr",
     "output_type": "stream",
     "text": [
      "Processing <PIL.Image.Image image mode=L size=269x269 at 0x11A927890>: 100%|█| 1\n"
     ]
    },
    {
     "name": "stdout",
     "output_type": "stream",
     "text": [
      "/Users/jayrambhiya/Desktop/DSCI 552/Final Project/dataverse_files/dataverse_hirise_v3/data/ESP_072193_1845_5120_10240_5120_10240/tiles/background\n",
      "number of images in the source directory: 289\n",
      "Initialised with 289 image(s) found.\n",
      "Output directory set to /Users/jayrambhiya/Desktop/DSCI 552/Final Project/dataverse_files/dataverse_hirise_v3/augmented_training_data/."
     ]
    },
    {
     "name": "stderr",
     "output_type": "stream",
     "text": [
      "Processing <PIL.Image.Image image mode=L size=269x269 at 0x172313010>: 100%|█| 2\n"
     ]
    },
    {
     "name": "stdout",
     "output_type": "stream",
     "text": [
      "/Users/jayrambhiya/Desktop/DSCI 552/Final Project/dataverse_files/dataverse_hirise_v3/data/ESP_072193_1845_10240_15360_10240_13642/tiles/background\n",
      "number of images in the source directory: 82\n",
      "Initialised with 82 image(s) found.\n",
      "Output directory set to /Users/jayrambhiya/Desktop/DSCI 552/Final Project/dataverse_files/dataverse_hirise_v3/augmented_training_data/."
     ]
    },
    {
     "name": "stderr",
     "output_type": "stream",
     "text": [
      "Processing <PIL.Image.Image image mode=L size=269x269 at 0x11A927890>: 100%|█| 8\n"
     ]
    },
    {
     "name": "stdout",
     "output_type": "stream",
     "text": [
      "/Users/jayrambhiya/Desktop/DSCI 552/Final Project/dataverse_files/dataverse_hirise_v3/data/ESP_072193_1845_25600_28976_5120_10240/tiles/background\n",
      "number of images in the source directory: 156\n",
      "Initialised with 156 image(s) found.\n",
      "Output directory set to /Users/jayrambhiya/Desktop/DSCI 552/Final Project/dataverse_files/dataverse_hirise_v3/augmented_training_data/."
     ]
    },
    {
     "name": "stderr",
     "output_type": "stream",
     "text": [
      "Processing <PIL.Image.Image image mode=L size=299x299 at 0x28340FCD0>: 100%|█| 1\n"
     ]
    },
    {
     "name": "stdout",
     "output_type": "stream",
     "text": [
      "/Users/jayrambhiya/Desktop/DSCI 552/Final Project/dataverse_files/dataverse_hirise_v3/data/ESP_072193_1845_10240_15360_0_5120/tiles/background\n",
      "number of images in the source directory: 201\n",
      "Initialised with 201 image(s) found.\n",
      "Output directory set to /Users/jayrambhiya/Desktop/DSCI 552/Final Project/dataverse_files/dataverse_hirise_v3/augmented_training_data/."
     ]
    },
    {
     "name": "stderr",
     "output_type": "stream",
     "text": [
      "Processing <PIL.Image.Image image mode=L size=299x299 at 0x282BA2790>: 100%|█| 2\n"
     ]
    },
    {
     "name": "stdout",
     "output_type": "stream",
     "text": [
      "/Users/jayrambhiya/Desktop/DSCI 552/Final Project/dataverse_files/dataverse_hirise_v3/data/ESP_072569_1320_0_5120_5120_10240/tiles/frost\n",
      "number of images in the source directory: 6\n",
      "Initialised with 6 image(s) found.\n",
      "Output directory set to /Users/jayrambhiya/Desktop/DSCI 552/Final Project/dataverse_files/dataverse_hirise_v3/augmented_training_data/."
     ]
    },
    {
     "name": "stderr",
     "output_type": "stream",
     "text": [
      "Processing <PIL.Image.Image image mode=L size=299x299 at 0x282B99B10>: 100%|█| 6\n"
     ]
    },
    {
     "name": "stdout",
     "output_type": "stream",
     "text": [
      "/Users/jayrambhiya/Desktop/DSCI 552/Final Project/dataverse_files/dataverse_hirise_v3/data/ESP_072569_1320_5120_10240_5120_10240/tiles/frost\n",
      "number of images in the source directory: 8\n",
      "Initialised with 8 image(s) found.\n",
      "Output directory set to /Users/jayrambhiya/Desktop/DSCI 552/Final Project/dataverse_files/dataverse_hirise_v3/augmented_training_data/."
     ]
    },
    {
     "name": "stderr",
     "output_type": "stream",
     "text": [
      "Processing <PIL.Image.Image image mode=L size=269x269 at 0x2807F2D10>: 100%|█| 8\n"
     ]
    },
    {
     "name": "stdout",
     "output_type": "stream",
     "text": [
      "/Users/jayrambhiya/Desktop/DSCI 552/Final Project/dataverse_files/dataverse_hirise_v3/data/ESP_072569_1320_5120_10240_0_5120/tiles/frost\n",
      "number of images in the source directory: 4\n",
      "Initialised with 4 image(s) found.\n",
      "Output directory set to /Users/jayrambhiya/Desktop/DSCI 552/Final Project/dataverse_files/dataverse_hirise_v3/augmented_training_data/."
     ]
    },
    {
     "name": "stderr",
     "output_type": "stream",
     "text": [
      "Processing <PIL.Image.Image image mode=L size=299x299 at 0x281112290>: 100%|█| 4\n"
     ]
    },
    {
     "name": "stdout",
     "output_type": "stream",
     "text": [
      "/Users/jayrambhiya/Desktop/DSCI 552/Final Project/dataverse_files/dataverse_hirise_v3/data/ESP_073664_1205_15360_20480_5120_10240/tiles/frost\n",
      "number of images in the source directory: 65\n",
      "Initialised with 65 image(s) found.\n",
      "Output directory set to /Users/jayrambhiya/Desktop/DSCI 552/Final Project/dataverse_files/dataverse_hirise_v3/augmented_training_data/."
     ]
    },
    {
     "name": "stderr",
     "output_type": "stream",
     "text": [
      "Processing <PIL.Image.Image image mode=L size=269x269 at 0x2810E8BD0>: 100%|█| 6\n"
     ]
    },
    {
     "name": "stdout",
     "output_type": "stream",
     "text": [
      "/Users/jayrambhiya/Desktop/DSCI 552/Final Project/dataverse_files/dataverse_hirise_v3/data/ESP_073664_1205_5120_10240_5120_10240/tiles/frost\n",
      "number of images in the source directory: 47\n",
      "Initialised with 47 image(s) found.\n",
      "Output directory set to /Users/jayrambhiya/Desktop/DSCI 552/Final Project/dataverse_files/dataverse_hirise_v3/augmented_training_data/."
     ]
    },
    {
     "name": "stderr",
     "output_type": "stream",
     "text": [
      "Processing <PIL.Image.Image image mode=L size=299x299 at 0x172539290>: 100%|█| 4\n"
     ]
    },
    {
     "name": "stdout",
     "output_type": "stream",
     "text": [
      "/Users/jayrambhiya/Desktop/DSCI 552/Final Project/dataverse_files/dataverse_hirise_v3/data/ESP_073664_1205_0_5120_0_5120/tiles/frost\n",
      "number of images in the source directory: 10\n",
      "Initialised with 10 image(s) found.\n",
      "Output directory set to /Users/jayrambhiya/Desktop/DSCI 552/Final Project/dataverse_files/dataverse_hirise_v3/augmented_training_data/."
     ]
    },
    {
     "name": "stderr",
     "output_type": "stream",
     "text": [
      "Processing <PIL.Image.Image image mode=L size=299x299 at 0x283438B10>: 100%|█| 1\n"
     ]
    },
    {
     "name": "stdout",
     "output_type": "stream",
     "text": [
      "/Users/jayrambhiya/Desktop/DSCI 552/Final Project/dataverse_files/dataverse_hirise_v3/data/ESP_073664_1205_10240_15360_5120_10240/tiles/frost\n",
      "number of images in the source directory: 68\n",
      "Initialised with 68 image(s) found.\n",
      "Output directory set to /Users/jayrambhiya/Desktop/DSCI 552/Final Project/dataverse_files/dataverse_hirise_v3/augmented_training_data/."
     ]
    },
    {
     "name": "stderr",
     "output_type": "stream",
     "text": [
      "Processing <PIL.Image.Image image mode=L size=269x269 at 0x281102F50>: 100%|█| 6\n"
     ]
    },
    {
     "name": "stdout",
     "output_type": "stream",
     "text": [
      "/Users/jayrambhiya/Desktop/DSCI 552/Final Project/dataverse_files/dataverse_hirise_v3/data/PSP_002033_1325_15360_20480_5120_10240/tiles/frost\n",
      "number of images in the source directory: 5\n",
      "Initialised with 5 image(s) found.\n",
      "Output directory set to /Users/jayrambhiya/Desktop/DSCI 552/Final Project/dataverse_files/dataverse_hirise_v3/augmented_training_data/."
     ]
    },
    {
     "name": "stderr",
     "output_type": "stream",
     "text": [
      "Processing <PIL.Image.Image image mode=L size=269x269 at 0x281103250>: 100%|█| 5\n"
     ]
    },
    {
     "name": "stdout",
     "output_type": "stream",
     "text": [
      "/Users/jayrambhiya/Desktop/DSCI 552/Final Project/dataverse_files/dataverse_hirise_v3/data/PSP_002033_1325_10240_15360_10240_15360/tiles/frost\n",
      "number of images in the source directory: 6\n",
      "Initialised with 6 image(s) found.\n",
      "Output directory set to /Users/jayrambhiya/Desktop/DSCI 552/Final Project/dataverse_files/dataverse_hirise_v3/augmented_training_data/."
     ]
    },
    {
     "name": "stderr",
     "output_type": "stream",
     "text": [
      "Processing <PIL.Image.Image image mode=L size=299x299 at 0x281103C10>: 100%|█| 6\n"
     ]
    },
    {
     "name": "stdout",
     "output_type": "stream",
     "text": [
      "/Users/jayrambhiya/Desktop/DSCI 552/Final Project/dataverse_files/dataverse_hirise_v3/data/PSP_002033_1325_15360_20480_10240_15360/tiles/frost\n",
      "number of images in the source directory: 6\n",
      "Initialised with 6 image(s) found.\n",
      "Output directory set to /Users/jayrambhiya/Desktop/DSCI 552/Final Project/dataverse_files/dataverse_hirise_v3/augmented_training_data/."
     ]
    },
    {
     "name": "stderr",
     "output_type": "stream",
     "text": [
      "Processing <PIL.Image.Image image mode=L size=299x299 at 0x172538990>: 100%|█| 6\n"
     ]
    },
    {
     "name": "stdout",
     "output_type": "stream",
     "text": [
      "/Users/jayrambhiya/Desktop/DSCI 552/Final Project/dataverse_files/dataverse_hirise_v3/data/PSP_002033_1325_10240_15360_5120_10240/tiles/frost\n",
      "number of images in the source directory: 13\n",
      "Initialised with 13 image(s) found.\n",
      "Output directory set to /Users/jayrambhiya/Desktop/DSCI 552/Final Project/dataverse_files/dataverse_hirise_v3/augmented_training_data/."
     ]
    },
    {
     "name": "stderr",
     "output_type": "stream",
     "text": [
      "Processing <PIL.Image.Image image mode=L size=299x299 at 0x2834BE510>: 100%|█| 1\n"
     ]
    },
    {
     "name": "stdout",
     "output_type": "stream",
     "text": [
      "/Users/jayrambhiya/Desktop/DSCI 552/Final Project/dataverse_files/dataverse_hirise_v3/data/PSP_002904_1255_25600_30720_15360_20480/tiles/frost\n",
      "number of images in the source directory: 13\n",
      "Initialised with 13 image(s) found.\n",
      "Output directory set to /Users/jayrambhiya/Desktop/DSCI 552/Final Project/dataverse_files/dataverse_hirise_v3/augmented_training_data/."
     ]
    },
    {
     "name": "stderr",
     "output_type": "stream",
     "text": [
      "Processing <PIL.Image.Image image mode=L size=269x269 at 0x281102650>: 100%|█| 1\n"
     ]
    },
    {
     "name": "stdout",
     "output_type": "stream",
     "text": [
      "/Users/jayrambhiya/Desktop/DSCI 552/Final Project/dataverse_files/dataverse_hirise_v3/data/PSP_002904_1255_20480_25600_5120_10240/tiles/frost\n",
      "number of images in the source directory: 19\n",
      "Initialised with 19 image(s) found.\n",
      "Output directory set to /Users/jayrambhiya/Desktop/DSCI 552/Final Project/dataverse_files/dataverse_hirise_v3/augmented_training_data/."
     ]
    },
    {
     "name": "stderr",
     "output_type": "stream",
     "text": [
      "Processing <PIL.Image.Image image mode=L size=299x299 at 0x280CEF0D0>: 100%|█| 1\n"
     ]
    },
    {
     "name": "stdout",
     "output_type": "stream",
     "text": [
      "/Users/jayrambhiya/Desktop/DSCI 552/Final Project/dataverse_files/dataverse_hirise_v3/data/PSP_002904_1255_25600_30720_5120_10240/tiles/frost\n",
      "number of images in the source directory: 62\n",
      "Initialised with 62 image(s) found.\n",
      "Output directory set to /Users/jayrambhiya/Desktop/DSCI 552/Final Project/dataverse_files/dataverse_hirise_v3/augmented_training_data/."
     ]
    },
    {
     "name": "stderr",
     "output_type": "stream",
     "text": [
      "Processing <PIL.Image.Image image mode=L size=269x269 at 0x28106F1D0>: 100%|█| 6\n"
     ]
    },
    {
     "name": "stdout",
     "output_type": "stream",
     "text": [
      "/Users/jayrambhiya/Desktop/DSCI 552/Final Project/dataverse_files/dataverse_hirise_v3/data/PSP_002904_1255_25600_30720_10240_15360/tiles/frost\n",
      "number of images in the source directory: 45\n",
      "Initialised with 45 image(s) found.\n",
      "Output directory set to /Users/jayrambhiya/Desktop/DSCI 552/Final Project/dataverse_files/dataverse_hirise_v3/augmented_training_data/."
     ]
    },
    {
     "name": "stderr",
     "output_type": "stream",
     "text": [
      "Processing <PIL.Image.Image image mode=L size=269x269 at 0x172301450>: 100%|█| 4\n"
     ]
    },
    {
     "name": "stdout",
     "output_type": "stream",
     "text": [
      "/Users/jayrambhiya/Desktop/DSCI 552/Final Project/dataverse_files/dataverse_hirise_v3/data/PSP_008120_2465_61440_66560_0_5120/tiles/frost\n",
      "number of images in the source directory: 28\n",
      "Initialised with 28 image(s) found.\n",
      "Output directory set to /Users/jayrambhiya/Desktop/DSCI 552/Final Project/dataverse_files/dataverse_hirise_v3/augmented_training_data/."
     ]
    },
    {
     "name": "stderr",
     "output_type": "stream",
     "text": [
      "Processing <PIL.Image.Image image mode=L size=299x299 at 0x11A9257D0>: 100%|█| 2\n"
     ]
    },
    {
     "name": "stdout",
     "output_type": "stream",
     "text": [
      "/Users/jayrambhiya/Desktop/DSCI 552/Final Project/dataverse_files/dataverse_hirise_v3/data/PSP_008120_2465_66560_71680_0_5120/tiles/frost\n",
      "number of images in the source directory: 40\n",
      "Initialised with 40 image(s) found.\n",
      "Output directory set to /Users/jayrambhiya/Desktop/DSCI 552/Final Project/dataverse_files/dataverse_hirise_v3/augmented_training_data/."
     ]
    },
    {
     "name": "stderr",
     "output_type": "stream",
     "text": [
      "Processing <PIL.Image.Image image mode=L size=269x269 at 0x169E82490>: 100%|█| 4\n"
     ]
    },
    {
     "name": "stdout",
     "output_type": "stream",
     "text": [
      "/Users/jayrambhiya/Desktop/DSCI 552/Final Project/dataverse_files/dataverse_hirise_v3/data/PSP_008120_2465_10240_15360_35840_40960/tiles/frost\n",
      "number of images in the source directory: 5\n",
      "Initialised with 5 image(s) found.\n",
      "Output directory set to /Users/jayrambhiya/Desktop/DSCI 552/Final Project/dataverse_files/dataverse_hirise_v3/augmented_training_data/."
     ]
    },
    {
     "name": "stderr",
     "output_type": "stream",
     "text": [
      "Processing <PIL.Image.Image image mode=L size=269x269 at 0x2834E51D0>: 100%|█| 5\n"
     ]
    },
    {
     "name": "stdout",
     "output_type": "stream",
     "text": [
      "/Users/jayrambhiya/Desktop/DSCI 552/Final Project/dataverse_files/dataverse_hirise_v3/data/PSP_008120_2465_66560_71680_5120_10240/tiles/frost\n",
      "number of images in the source directory: 82\n",
      "Initialised with 82 image(s) found.\n",
      "Output directory set to /Users/jayrambhiya/Desktop/DSCI 552/Final Project/dataverse_files/dataverse_hirise_v3/augmented_training_data/."
     ]
    },
    {
     "name": "stderr",
     "output_type": "stream",
     "text": [
      "Processing <PIL.Image.Image image mode=L size=299x299 at 0x28106F910>: 100%|█| 8\n"
     ]
    },
    {
     "name": "stdout",
     "output_type": "stream",
     "text": [
      "/Users/jayrambhiya/Desktop/DSCI 552/Final Project/dataverse_files/dataverse_hirise_v3/data/PSP_009721_2370_30720_35840_20480_25600/tiles/background\n",
      "number of images in the source directory: 64\n",
      "Initialised with 64 image(s) found.\n",
      "Output directory set to /Users/jayrambhiya/Desktop/DSCI 552/Final Project/dataverse_files/dataverse_hirise_v3/augmented_training_data/."
     ]
    },
    {
     "name": "stderr",
     "output_type": "stream",
     "text": [
      "Processing <PIL.Image.Image image mode=L size=269x269 at 0x172539290>: 100%|█| 6\n"
     ]
    },
    {
     "name": "stdout",
     "output_type": "stream",
     "text": [
      "/Users/jayrambhiya/Desktop/DSCI 552/Final Project/dataverse_files/dataverse_hirise_v3/data/PSP_009721_2370_56320_58625_10240_15360/tiles/background\n",
      "number of images in the source directory: 19\n",
      "Initialised with 19 image(s) found.\n",
      "Output directory set to /Users/jayrambhiya/Desktop/DSCI 552/Final Project/dataverse_files/dataverse_hirise_v3/augmented_training_data/."
     ]
    },
    {
     "name": "stderr",
     "output_type": "stream",
     "text": [
      "Processing <PIL.Image.Image image mode=L size=299x299 at 0x283151390>: 100%|█| 1\n"
     ]
    },
    {
     "name": "stdout",
     "output_type": "stream",
     "text": [
      "/Users/jayrambhiya/Desktop/DSCI 552/Final Project/dataverse_files/dataverse_hirise_v3/data/PSP_009721_2370_30720_35840_5120_10240/tiles/background\n",
      "number of images in the source directory: 64\n",
      "Initialised with 64 image(s) found.\n",
      "Output directory set to /Users/jayrambhiya/Desktop/DSCI 552/Final Project/dataverse_files/dataverse_hirise_v3/augmented_training_data/."
     ]
    },
    {
     "name": "stderr",
     "output_type": "stream",
     "text": [
      "Processing <PIL.Image.Image image mode=L size=269x269 at 0x172539290>: 100%|█| 6\n"
     ]
    }
   ],
   "source": [
    "\n",
    "# read all the filenames from train_source_images.txt\n",
    "with open('./train_source_images.txt', 'r') as f:\n",
    "    train_source_images_names = [line.strip() for line in f.readlines()]\n",
    "\n",
    "# read all the folders names in data/ that start with the names in train_source_images_names \n",
    "train_source_images_folders = []\n",
    "for starts_with in train_source_images_names:\n",
    "    train_source_images_folders.extend([folder for folder in os.listdir('./data') if folder.startswith(starts_with)])\n",
    "\n",
    "# print(train_source_images_folders)\n",
    "\n",
    "\n",
    "# now find corresponding labels for each folder in the train_source_images_folders\n",
    "train_source = []\n",
    "\n",
    "for folder in train_source_images_folders:\n",
    "    # the name of the folder inside data/tiles is the label of the imag\n",
    "    # go to data/folder/tiles and get the name of the folder inside\n",
    "\n",
    "    # get the name of the folder inside data/folder/tiles which does not start with .\n",
    "    for label in os.listdir('./data/' + folder + '/tiles'):\n",
    "        if not label.startswith('.'):\n",
    "            train_source.append((folder, label))\n",
    "\n",
    "print(train_source)\n",
    "\n",
    "# do the same for val_source_images.txt\n",
    "with open('./val_source_images.txt', 'r') as f:\n",
    "    val_source_images_names = [line.strip() for line in f.readlines()]\n",
    "\n",
    "val_source_images_folders = []\n",
    "for starts_with in val_source_images_names:\n",
    "    val_source_images_folders.extend([folder for folder in os.listdir('./data') if folder.startswith(starts_with)])\n",
    "\n",
    "val_source = []\n",
    "\n",
    "for folder in val_source_images_folders:\n",
    "    for label in os.listdir('./data/' + folder + '/tiles'):\n",
    "        if not label.startswith('.'):\n",
    "            val_source.append((folder, label))\n",
    "\n",
    "print(val_source)\n",
    "\n",
    "# create a new directory to save the augmented images and labels\n",
    "augmented_training_dir = Path('./augmented_training_data')\n",
    "# if the directory already exists, delete it and create a new one\n",
    "if augmented_training_dir.exists():\n",
    "    shutil.rmtree(augmented_training_dir)\n",
    "augmented_training_dir.mkdir(parents=True, exist_ok=True)\n",
    "\n",
    "#create subdirectories for frost and background\n",
    "frost_dir = augmented_training_dir / Path('frost')\n",
    "frost_dir.mkdir(parents=True, exist_ok=True)\n",
    "background_dir = augmented_training_dir / Path('background')\n",
    "background_dir.mkdir(parents=True, exist_ok=True)\n",
    "\n",
    "source = \"/Users/jayrambhiya/Desktop/DSCI 552/Final Project/dataverse_files/dataverse_hirise_v3/data/\"\n",
    "op = \"/Users/jayrambhiya/Desktop/DSCI 552/Final Project/dataverse_files/dataverse_hirise_v3/augmented_training_data/\"\n",
    "processed = 0\n",
    "\n",
    "for t in train_source:\n",
    "    # create a new directory for each image\n",
    "    label = t[1]\n",
    "    augmented_training_dir = Path('./augmented_training_data/' + label)\n",
    "\n",
    "    source_dir = Path(source + t[0] + '/tiles/' + label + '/')\n",
    "    print(source_dir)\n",
    "    # how many images in the source directory\n",
    "    print('number of images in the source directory:', len(os.listdir(source_dir)))\n",
    "\n",
    "    processed += len(os.listdir(source_dir))\n",
    "    pipeline = augmentor.Pipeline(source_dir, output_directory=op)\n",
    "    pipeline.rotate(probability=0.5, max_left_rotation=10, max_right_rotation=10)\n",
    "    pipeline.zoom(probability=0.5, min_factor=1.1, max_factor=1.6)\n",
    "    pipeline.crop_random(probability=0.5, percentage_area=0.9)\n",
    "    pipeline.flip_left_right(probability=0.5)\n",
    "    pipeline.flip_top_bottom(probability=0.5)\n",
    "    pipeline.random_contrast(probability=0.5, min_factor=0.75, max_factor=1.5)\n",
    "    pipeline.random_brightness(probability=0.5, min_factor=0.75, max_factor=1.5)\n",
    "    pipeline.sample(len(os.listdir(source_dir)))"
   ]
  },
  {
   "cell_type": "code",
   "execution_count": 14,
   "metadata": {},
   "outputs": [
    {
     "name": "stdout",
     "output_type": "stream",
     "text": [
      "Found 29679 files belonging to 2 classes.\n"
     ]
    }
   ],
   "source": [
    "# make all images rgb\n",
    "import cv2\n",
    "\n",
    "for img in os.listdir('./augmented_training_data'):\n",
    "    if img.endswith('.png'):\n",
    "        image = cv2.imread('./augmented_training_data/' + img)\n",
    "        image = cv2.cvtColor(image, cv2.COLOR_BGR2RGB)\n",
    "        cv2.imwrite('./augmented_training_data/' + img, image)\n",
    "\n",
    "# segregate the images in the augmented training set into frost and background based on the name of the image\n",
    "for img in os.listdir('./augmented_training_data'):\n",
    "    if img.startswith('frost'):\n",
    "        shutil.move('./augmented_training_data/' + img, './augmented_training_data/frost')\n",
    "    elif img.startswith('background'):\n",
    "        shutil.move('./augmented_training_data/' + img, './augmented_training_data/background')\n",
    "\n",
    "import os\n",
    "import tensorflow as tf\n",
    "\n",
    "max_width = 299\n",
    "max_height = 299\n",
    "\n",
    "training_images = tf.keras.preprocessing.image_dataset_from_directory(\n",
    "    './augmented_training_data',\n",
    "    color_mode=\"rgb\",\n",
    "    batch_size=32,\n",
    "    image_size=(max_height, max_width),\n",
    "    shuffle=True,\n",
    "    labels='inferred',\n",
    "    class_names=None\n",
    ")"
   ]
  },
  {
   "cell_type": "code",
   "execution_count": 15,
   "metadata": {
    "ExecuteTime": {
     "end_time": "2023-12-10T18:52:37.560183Z",
     "start_time": "2023-12-10T18:52:37.555962Z"
    }
   },
   "outputs": [],
   "source": [
    "# repeat the same for validation data\n",
    "augmented_val_dir = Path('./augmented_val_data')\n",
    "# if the directory already exists, delete it and create a new one\n",
    "if augmented_val_dir.exists():\n",
    "    shutil.rmtree(augmented_val_dir)\n",
    "augmented_val_dir.mkdir(parents=True, exist_ok=True)\n",
    "\n",
    "#create subdirectories for frost and background\n",
    "frost_dir = augmented_val_dir / Path('frost')\n",
    "frost_dir.mkdir(parents=True, exist_ok=True)\n",
    "background_dir = augmented_val_dir / Path('background')\n",
    "background_dir.mkdir(parents=True, exist_ok=True)\n"
   ]
  },
  {
   "cell_type": "code",
   "execution_count": 16,
   "metadata": {
    "ExecuteTime": {
     "end_time": "2023-12-10T18:52:40.766771Z",
     "start_time": "2023-12-10T18:52:37.559279Z"
    }
   },
   "outputs": [],
   "source": [
    "\n",
    "source = \"/Users/jayrambhiya/Desktop/DSCI 552/Final Project/dataverse_files/dataverse_hirise_v3/data/\"\n",
    "op = \"/Users/jayrambhiya/Desktop/DSCI 552/Final Project/dataverse_files/dataverse_hirise_v3/augmented_val_data/\"\n",
    "\n",
    "#move the images from data/ to augmented_val_data/ which match with names in val_source_images.txt\n",
    "val_source_images_folders = []\n",
    "for starts_with in val_source_images_names:\n",
    "    val_source_images_folders.extend([folder for folder in os.listdir('./data') if folder.startswith(starts_with)])\n",
    "\n",
    "# read all validation images from data/ if the folder name matches with the names in val_source_images.txt and move them to augmented_val_data/\n",
    "for folder in val_source_images_folders:\n",
    "    #open data/folder/tiles/frost or data/folder/tiles/background and move all images to augmented_val_data/frost or augmented_val_data/background\n",
    "    for label in os.listdir('./data/' + folder + '/tiles'):\n",
    "        if not label.startswith('.'):\n",
    "            for img in os.listdir('./data/' + folder + '/tiles/' + label):\n",
    "                if img.endswith('.png'):\n",
    "                    shutil.copy('./data/' + folder + '/tiles/' + label + '/' + img, './augmented_val_data/' + label)\n",
    "\n"
   ]
  },
  {
   "cell_type": "code",
   "execution_count": 17,
   "metadata": {
    "ExecuteTime": {
     "end_time": "2023-12-10T18:52:40.998249Z",
     "start_time": "2023-12-10T18:52:40.768033Z"
    }
   },
   "outputs": [
    {
     "name": "stdout",
     "output_type": "stream",
     "text": [
      "Found 11286 files belonging to 2 classes.\n"
     ]
    }
   ],
   "source": [
    "\n",
    "validation_images = tf.keras.preprocessing.image_dataset_from_directory(\n",
    "    './augmented_val_data',\n",
    "    color_mode=\"rgb\",\n",
    "    batch_size=32,\n",
    "    image_size=(max_height, max_width),\n",
    "    shuffle=True,\n",
    "    labels='inferred',\n",
    "    class_names=None\n",
    ")\n",
    "\n",
    "\n"
   ]
  },
  {
   "cell_type": "code",
   "execution_count": 21,
   "metadata": {
    "ExecuteTime": {
     "end_time": "2023-12-10T18:52:58.740356Z",
     "start_time": "2023-12-10T18:52:54.439952Z"
    }
   },
   "outputs": [
    {
     "name": "stdout",
     "output_type": "stream",
     "text": [
      "Found 12823 files belonging to 2 classes.\n"
     ]
    }
   ],
   "source": [
    "# read Test Data\n",
    "# repeat the same for validation data\n",
    "augmented_val_dir = Path('./testing_data')\n",
    "# if the directory already exists, delete it and create a new one\n",
    "if augmented_val_dir.exists():\n",
    "    shutil.rmtree(augmented_val_dir)\n",
    "augmented_val_dir.mkdir(parents=True, exist_ok=True)\n",
    "\n",
    "#create subdirectories for frost and background\n",
    "frost_dir = augmented_val_dir / Path('frost')\n",
    "frost_dir.mkdir(parents=True, exist_ok=True)\n",
    "background_dir = augmented_val_dir / Path('background')\n",
    "background_dir.mkdir(parents=True, exist_ok=True)\n",
    "\n",
    "# do the same for val_source_images.txt\n",
    "with open('./test_source_images.txt', 'r') as f:\n",
    "    val_source_images_names = [line.strip() for line in f.readlines()]\n",
    "#move the images from data/ to augmented_val_data/ which match with names in val_source_images.txt\n",
    "val_source_images_folders = []\n",
    "for starts_with in val_source_images_names:\n",
    "    val_source_images_folders.extend([folder for folder in os.listdir('./data') if folder.startswith(starts_with)])\n",
    "\n",
    "# read all validation images from data/ if the folder name matches with the names in val_source_images.txt and move them to augmented_val_data/\n",
    "for folder in val_source_images_folders:\n",
    "    #open data/folder/tiles/frost or data/folder/tiles/background and move all images to augmented_val_data/frost or augmented_val_data/background\n",
    "    for label in os.listdir('./data/' + folder + '/tiles'):\n",
    "        if not label.startswith('.'):\n",
    "            for img in os.listdir('./data/' + folder + '/tiles/' + label):\n",
    "                if img.endswith('.png'):\n",
    "                    shutil.copy('./data/' + folder + '/tiles/' + label + '/' + img, './testing_data/' + label)\n",
    "\n",
    "testing_images = tf.keras.preprocessing.image_dataset_from_directory(\n",
    "    './testing_data',\n",
    "    color_mode=\"rgb\",\n",
    "    batch_size=32,\n",
    "    image_size=(max_height, max_width),\n",
    "    shuffle=True,\n",
    "    labels='inferred',\n",
    "    class_names=None\n",
    ")"
   ]
  },
  {
   "cell_type": "code",
   "execution_count": 18,
   "metadata": {},
   "outputs": [],
   "source": [
    "\n",
    "\n",
    "model = keras.Sequential()\n",
    "\n",
    "model.add(layers.Conv2D(32, (3, 3), activation='relu', input_shape=(299, 299, 3)))\n",
    "model.add(layers.MaxPooling2D((2, 2)))\n",
    "model.add(layers.Conv2D(64, (3, 3), activation='relu'))\n",
    "model.add(layers.MaxPooling2D((2, 2)))\n",
    "model.add(layers.Conv2D(128, (3, 3), activation='relu'))\n",
    "model.add(layers.Flatten())\n",
    "model.add(layers.Dense(128, activation='relu'))\n",
    "model.add(layers.Dropout(0.3))\n",
    "model.add(layers.Dense(2, activation='softmax'))\n",
    "model.compile(optimizer='adam',\n",
    "              loss=tf.keras.losses.SparseCategoricalCrossentropy(from_logits=True),\n",
    "              metrics=['accuracy'])"
   ]
  },
  {
   "cell_type": "code",
   "execution_count": 19,
   "metadata": {},
   "outputs": [
    {
     "name": "stdout",
     "output_type": "stream",
     "text": [
      "<class 'tensorflow.python.data.ops.prefetch_op._PrefetchDataset'>\n",
      "<class 'tensorflow.python.data.ops.prefetch_op._PrefetchDataset'>\n"
     ]
    }
   ],
   "source": [
    "print(type(training_images))\n",
    "print(type(validation_images))"
   ]
  },
  {
   "cell_type": "code",
   "execution_count": 20,
   "metadata": {},
   "outputs": [
    {
     "name": "stdout",
     "output_type": "stream",
     "text": [
      "(32, 299, 299, 3) <class 'tensorflow.python.framework.ops.EagerTensor'>\n",
      "(32, 299, 299, 3) <class 'tensorflow.python.framework.ops.EagerTensor'>\n"
     ]
    }
   ],
   "source": [
    "for image_batch, labels_batch in training_images:\n",
    "    print(image_batch.shape, type(image_batch))\n",
    "    break\n",
    "for image_batch, labels_batch in validation_images:\n",
    "    print(image_batch.shape, type(image_batch))\n",
    "    break"
   ]
  },
  {
   "cell_type": "code",
   "execution_count": 38,
   "metadata": {},
   "outputs": [],
   "source": [
    "early_stopping = tf.keras.callbacks.EarlyStopping(monitor='val_loss', patience=2)"
   ]
  },
  {
   "cell_type": "code",
   "execution_count": 39,
   "metadata": {},
   "outputs": [
    {
     "name": "stdout",
     "output_type": "stream",
     "text": [
      "Epoch 1/20\n",
      "928/928 [==============================] - 2525s 3s/step - loss: 20.8813 - accuracy: 0.5856 - val_loss: 0.7656 - val_accuracy: 0.3218\n",
      "Epoch 2/20\n",
      "928/928 [==============================] - 2304s 2s/step - loss: 0.6777 - accuracy: 0.5878 - val_loss: 0.7688 - val_accuracy: 0.3218\n",
      "Epoch 3/20\n",
      "928/928 [==============================] - 1953s 2s/step - loss: 0.6777 - accuracy: 0.5878 - val_loss: 0.7698 - val_accuracy: 0.3218\n"
     ]
    },
    {
     "data": {
      "text/plain": [
       "<keras.src.callbacks.History at 0x15bd01710>"
      ]
     },
     "execution_count": 39,
     "metadata": {},
     "output_type": "execute_result"
    }
   ],
   "source": [
    "\n",
    "model.fit(training_images, epochs=20, validation_data=validation_images, verbose=1,callbacks=[early_stopping])\n"
   ]
  },
  {
   "cell_type": "code",
   "execution_count": 40,
   "metadata": {},
   "outputs": [],
   "source": [
    "# save the model\n",
    "model.save('model.h5')\n"
   ]
  },
  {
   "cell_type": "code",
   "execution_count": 41,
   "metadata": {},
   "outputs": [
    {
     "data": {
      "image/png": "[encoded data removed]",
      "text/plain": [
       "<Figure size 640x480 with 1 Axes>"
      ]
     },
     "metadata": {},
     "output_type": "display_data"
    }
   ],
   "source": [
    "import matplotlib.pyplot as plt\n",
    "\n",
    "plt.plot(model.history.history['loss'])\n",
    "plt.plot(model.history.history['val_loss'])\n",
    "plt.title('Model Loss for CNN')\n",
    "plt.ylabel('Loss')\n",
    "plt.xlabel('Epoch')\n",
    "plt.legend(['Train', 'Validation'], loc='upper left')\n",
    "plt.show()"
   ]
  },
  {
   "cell_type": "code",
   "execution_count": 42,
   "metadata": {
    "ExecuteTime": {
     "end_time": "2023-12-10T02:19:29.192953Z",
     "start_time": "2023-12-10T02:18:12.022671Z"
    }
   },
   "outputs": [
    {
     "name": "stdout",
     "output_type": "stream",
     "text": [
      "1/1 [==============================] - 0s 335ms/step\n",
      "1/1 [==============================] - 0s 312ms/step\n",
      "1/1 [==============================] - 0s 320ms/step\n",
      "1/1 [==============================] - 0s 312ms/step\n",
      "1/1 [==============================] - 0s 313ms/step\n",
      "1/1 [==============================] - 0s 351ms/step\n",
      "1/1 [==============================] - 0s 309ms/step\n",
      "1/1 [==============================] - 0s 324ms/step\n",
      "1/1 [==============================] - 0s 322ms/step\n",
      "1/1 [==============================] - 0s 329ms/step\n",
      "1/1 [==============================] - 0s 333ms/step\n",
      "1/1 [==============================] - 0s 321ms/step\n",
      "1/1 [==============================] - 0s 318ms/step\n",
      "1/1 [==============================] - 0s 318ms/step\n",
      "1/1 [==============================] - 0s 311ms/step\n",
      "1/1 [==============================] - 0s 301ms/step\n",
      "1/1 [==============================] - 0s 307ms/step\n",
      "1/1 [==============================] - 0s 306ms/step\n",
      "1/1 [==============================] - 0s 308ms/step\n",
      "1/1 [==============================] - 0s 304ms/step\n",
      "1/1 [==============================] - 0s 304ms/step\n",
      "1/1 [==============================] - 0s 314ms/step\n",
      "1/1 [==============================] - 0s 302ms/step\n",
      "1/1 [==============================] - 0s 304ms/step\n",
      "1/1 [==============================] - 0s 307ms/step\n",
      "1/1 [==============================] - 0s 304ms/step\n",
      "1/1 [==============================] - 0s 308ms/step\n",
      "1/1 [==============================] - 0s 310ms/step\n",
      "1/1 [==============================] - 0s 336ms/step\n",
      "1/1 [==============================] - 0s 309ms/step\n",
      "1/1 [==============================] - 0s 302ms/step\n",
      "1/1 [==============================] - 0s 308ms/step\n",
      "1/1 [==============================] - 0s 303ms/step\n",
      "1/1 [==============================] - 0s 304ms/step\n",
      "1/1 [==============================] - 0s 308ms/step\n",
      "1/1 [==============================] - 0s 311ms/step\n",
      "1/1 [==============================] - 0s 319ms/step\n",
      "1/1 [==============================] - 0s 312ms/step\n",
      "1/1 [==============================] - 0s 305ms/step\n",
      "1/1 [==============================] - 0s 305ms/step\n",
      "1/1 [==============================] - 0s 304ms/step\n",
      "1/1 [==============================] - 0s 318ms/step\n",
      "1/1 [==============================] - 0s 304ms/step\n",
      "1/1 [==============================] - 0s 303ms/step\n",
      "1/1 [==============================] - 0s 312ms/step\n",
      "1/1 [==============================] - 0s 310ms/step\n",
      "1/1 [==============================] - 0s 304ms/step\n",
      "1/1 [==============================] - 0s 304ms/step\n",
      "1/1 [==============================] - 0s 313ms/step\n",
      "1/1 [==============================] - 0s 306ms/step\n",
      "1/1 [==============================] - 0s 303ms/step\n",
      "1/1 [==============================] - 0s 302ms/step\n",
      "1/1 [==============================] - 0s 304ms/step\n",
      "1/1 [==============================] - 0s 308ms/step\n",
      "1/1 [==============================] - 0s 318ms/step\n",
      "1/1 [==============================] - 0s 302ms/step\n",
      "1/1 [==============================] - 0s 309ms/step\n",
      "1/1 [==============================] - 0s 312ms/step\n",
      "1/1 [==============================] - 0s 310ms/step\n",
      "1/1 [==============================] - 0s 318ms/step\n",
      "1/1 [==============================] - 0s 317ms/step\n",
      "1/1 [==============================] - 0s 302ms/step\n",
      "1/1 [==============================] - 0s 317ms/step\n",
      "1/1 [==============================] - 0s 305ms/step\n",
      "1/1 [==============================] - 0s 306ms/step\n",
      "1/1 [==============================] - 0s 302ms/step\n",
      "1/1 [==============================] - 0s 326ms/step\n",
      "1/1 [==============================] - 0s 314ms/step\n",
      "1/1 [==============================] - 0s 312ms/step\n",
      "1/1 [==============================] - 0s 313ms/step\n",
      "1/1 [==============================] - 0s 298ms/step\n",
      "1/1 [==============================] - 0s 321ms/step\n",
      "1/1 [==============================] - 0s 319ms/step\n",
      "1/1 [==============================] - 0s 309ms/step\n",
      "1/1 [==============================] - 0s 316ms/step\n",
      "1/1 [==============================] - 0s 303ms/step\n",
      "1/1 [==============================] - 0s 302ms/step\n",
      "1/1 [==============================] - 0s 313ms/step\n",
      "1/1 [==============================] - 0s 309ms/step\n",
      "1/1 [==============================] - 0s 300ms/step\n",
      "1/1 [==============================] - 0s 316ms/step\n",
      "1/1 [==============================] - 0s 318ms/step\n",
      "1/1 [==============================] - 0s 310ms/step\n",
      "1/1 [==============================] - 0s 314ms/step\n",
      "1/1 [==============================] - 0s 316ms/step\n",
      "1/1 [==============================] - 0s 296ms/step\n",
      "1/1 [==============================] - 0s 309ms/step\n",
      "1/1 [==============================] - 0s 319ms/step\n",
      "1/1 [==============================] - 0s 305ms/step\n",
      "1/1 [==============================] - 0s 304ms/step\n",
      "1/1 [==============================] - 0s 307ms/step\n",
      "1/1 [==============================] - 0s 303ms/step\n",
      "1/1 [==============================] - 0s 309ms/step\n",
      "1/1 [==============================] - 0s 311ms/step\n",
      "1/1 [==============================] - 0s 307ms/step\n",
      "1/1 [==============================] - 0s 313ms/step\n",
      "1/1 [==============================] - 0s 315ms/step\n",
      "1/1 [==============================] - 0s 306ms/step\n",
      "1/1 [==============================] - 0s 306ms/step\n",
      "1/1 [==============================] - 0s 316ms/step\n",
      "1/1 [==============================] - 0s 305ms/step\n",
      "1/1 [==============================] - 0s 300ms/step\n",
      "1/1 [==============================] - 0s 317ms/step\n",
      "1/1 [==============================] - 0s 313ms/step\n",
      "1/1 [==============================] - 0s 313ms/step\n",
      "1/1 [==============================] - 0s 306ms/step\n",
      "1/1 [==============================] - 0s 314ms/step\n",
      "1/1 [==============================] - 0s 311ms/step\n",
      "1/1 [==============================] - 0s 315ms/step\n",
      "1/1 [==============================] - 0s 296ms/step\n",
      "1/1 [==============================] - 0s 303ms/step\n",
      "1/1 [==============================] - 0s 301ms/step\n",
      "1/1 [==============================] - 0s 308ms/step\n",
      "1/1 [==============================] - 0s 305ms/step\n",
      "1/1 [==============================] - 0s 302ms/step\n",
      "1/1 [==============================] - 0s 306ms/step\n",
      "1/1 [==============================] - 0s 302ms/step\n",
      "1/1 [==============================] - 0s 297ms/step\n",
      "1/1 [==============================] - 0s 313ms/step\n",
      "1/1 [==============================] - 0s 299ms/step\n",
      "1/1 [==============================] - 0s 310ms/step\n",
      "1/1 [==============================] - 0s 302ms/step\n",
      "1/1 [==============================] - 0s 312ms/step\n",
      "1/1 [==============================] - 0s 307ms/step\n",
      "1/1 [==============================] - 0s 305ms/step\n",
      "1/1 [==============================] - 0s 301ms/step\n",
      "1/1 [==============================] - 0s 301ms/step\n",
      "1/1 [==============================] - 0s 309ms/step\n",
      "1/1 [==============================] - 0s 308ms/step\n",
      "1/1 [==============================] - 0s 314ms/step\n",
      "1/1 [==============================] - 0s 312ms/step\n",
      "1/1 [==============================] - 0s 302ms/step\n",
      "1/1 [==============================] - 0s 313ms/step\n",
      "1/1 [==============================] - 0s 304ms/step\n",
      "1/1 [==============================] - 0s 312ms/step\n",
      "1/1 [==============================] - 0s 306ms/step\n",
      "1/1 [==============================] - 0s 306ms/step\n",
      "1/1 [==============================] - 0s 304ms/step\n",
      "1/1 [==============================] - 0s 309ms/step\n",
      "1/1 [==============================] - 0s 303ms/step\n",
      "1/1 [==============================] - 0s 300ms/step\n",
      "1/1 [==============================] - 0s 303ms/step\n",
      "1/1 [==============================] - 0s 302ms/step\n",
      "1/1 [==============================] - 0s 303ms/step\n",
      "1/1 [==============================] - 0s 314ms/step\n",
      "1/1 [==============================] - 0s 305ms/step\n",
      "1/1 [==============================] - 0s 304ms/step\n",
      "1/1 [==============================] - 0s 306ms/step\n",
      "1/1 [==============================] - 0s 307ms/step\n",
      "1/1 [==============================] - 0s 312ms/step\n",
      "1/1 [==============================] - 0s 311ms/step\n",
      "1/1 [==============================] - 0s 305ms/step\n",
      "1/1 [==============================] - 0s 300ms/step\n",
      "1/1 [==============================] - 0s 307ms/step\n"
     ]
    },
    {
     "name": "stdout",
     "output_type": "stream",
     "text": [
      "1/1 [==============================] - 0s 309ms/step\n",
      "1/1 [==============================] - 0s 299ms/step\n",
      "1/1 [==============================] - 0s 315ms/step\n",
      "1/1 [==============================] - 0s 301ms/step\n",
      "1/1 [==============================] - 0s 300ms/step\n",
      "1/1 [==============================] - 0s 303ms/step\n",
      "1/1 [==============================] - 0s 307ms/step\n",
      "1/1 [==============================] - 0s 300ms/step\n",
      "1/1 [==============================] - 0s 312ms/step\n",
      "1/1 [==============================] - 0s 305ms/step\n",
      "1/1 [==============================] - 0s 303ms/step\n",
      "1/1 [==============================] - 0s 307ms/step\n",
      "1/1 [==============================] - 0s 301ms/step\n",
      "1/1 [==============================] - 0s 311ms/step\n",
      "1/1 [==============================] - 0s 312ms/step\n",
      "1/1 [==============================] - 0s 303ms/step\n",
      "1/1 [==============================] - 0s 313ms/step\n",
      "1/1 [==============================] - 0s 307ms/step\n",
      "1/1 [==============================] - 0s 305ms/step\n",
      "1/1 [==============================] - 0s 301ms/step\n",
      "1/1 [==============================] - 0s 304ms/step\n",
      "1/1 [==============================] - 0s 305ms/step\n",
      "1/1 [==============================] - 0s 304ms/step\n",
      "1/1 [==============================] - 0s 308ms/step\n",
      "1/1 [==============================] - 0s 312ms/step\n",
      "1/1 [==============================] - 0s 297ms/step\n",
      "1/1 [==============================] - 0s 307ms/step\n",
      "1/1 [==============================] - 0s 305ms/step\n",
      "1/1 [==============================] - 0s 315ms/step\n",
      "1/1 [==============================] - 0s 300ms/step\n",
      "1/1 [==============================] - 0s 306ms/step\n",
      "1/1 [==============================] - 0s 305ms/step\n",
      "1/1 [==============================] - 0s 306ms/step\n",
      "1/1 [==============================] - 0s 298ms/step\n",
      "1/1 [==============================] - 0s 304ms/step\n",
      "1/1 [==============================] - 0s 314ms/step\n",
      "1/1 [==============================] - 0s 333ms/step\n",
      "1/1 [==============================] - 0s 363ms/step\n",
      "1/1 [==============================] - 0s 339ms/step\n",
      "1/1 [==============================] - 0s 377ms/step\n",
      "1/1 [==============================] - 0s 367ms/step\n",
      "1/1 [==============================] - 0s 367ms/step\n",
      "1/1 [==============================] - 0s 345ms/step\n",
      "1/1 [==============================] - 0s 329ms/step\n",
      "1/1 [==============================] - 0s 326ms/step\n",
      "1/1 [==============================] - 0s 331ms/step\n",
      "1/1 [==============================] - 0s 326ms/step\n",
      "1/1 [==============================] - 0s 330ms/step\n",
      "1/1 [==============================] - 0s 319ms/step\n",
      "1/1 [==============================] - 0s 315ms/step\n",
      "1/1 [==============================] - 0s 318ms/step\n",
      "1/1 [==============================] - 0s 307ms/step\n",
      "1/1 [==============================] - 0s 311ms/step\n",
      "1/1 [==============================] - 0s 306ms/step\n",
      "1/1 [==============================] - 0s 303ms/step\n",
      "1/1 [==============================] - 0s 302ms/step\n",
      "1/1 [==============================] - 0s 304ms/step\n",
      "1/1 [==============================] - 0s 301ms/step\n",
      "1/1 [==============================] - 0s 310ms/step\n",
      "1/1 [==============================] - 0s 306ms/step\n",
      "1/1 [==============================] - 0s 308ms/step\n",
      "1/1 [==============================] - 0s 309ms/step\n",
      "1/1 [==============================] - 0s 314ms/step\n",
      "1/1 [==============================] - 0s 310ms/step\n",
      "1/1 [==============================] - 0s 313ms/step\n",
      "1/1 [==============================] - 0s 315ms/step\n",
      "1/1 [==============================] - 0s 317ms/step\n",
      "1/1 [==============================] - 0s 319ms/step\n",
      "1/1 [==============================] - 0s 313ms/step\n",
      "1/1 [==============================] - 0s 326ms/step\n",
      "1/1 [==============================] - 0s 325ms/step\n",
      "1/1 [==============================] - 0s 316ms/step\n",
      "1/1 [==============================] - 0s 318ms/step\n",
      "1/1 [==============================] - 0s 324ms/step\n",
      "1/1 [==============================] - 0s 321ms/step\n",
      "1/1 [==============================] - 0s 312ms/step\n",
      "1/1 [==============================] - 0s 313ms/step\n",
      "1/1 [==============================] - 0s 307ms/step\n",
      "1/1 [==============================] - 0s 308ms/step\n",
      "1/1 [==============================] - 0s 307ms/step\n",
      "1/1 [==============================] - 0s 309ms/step\n",
      "1/1 [==============================] - 0s 308ms/step\n",
      "1/1 [==============================] - 0s 311ms/step\n",
      "1/1 [==============================] - 0s 312ms/step\n",
      "1/1 [==============================] - 0s 316ms/step\n",
      "1/1 [==============================] - 0s 319ms/step\n",
      "1/1 [==============================] - 0s 313ms/step\n",
      "1/1 [==============================] - 0s 319ms/step\n",
      "1/1 [==============================] - 0s 311ms/step\n",
      "1/1 [==============================] - 0s 309ms/step\n",
      "1/1 [==============================] - 0s 314ms/step\n",
      "1/1 [==============================] - 0s 309ms/step\n",
      "1/1 [==============================] - 0s 314ms/step\n",
      "1/1 [==============================] - 0s 317ms/step\n",
      "1/1 [==============================] - 0s 311ms/step\n",
      "1/1 [==============================] - 0s 315ms/step\n",
      "1/1 [==============================] - 0s 309ms/step\n",
      "1/1 [==============================] - 0s 317ms/step\n",
      "1/1 [==============================] - 0s 318ms/step\n",
      "1/1 [==============================] - 0s 312ms/step\n",
      "1/1 [==============================] - 0s 313ms/step\n",
      "1/1 [==============================] - 0s 320ms/step\n",
      "1/1 [==============================] - 0s 314ms/step\n",
      "1/1 [==============================] - 0s 308ms/step\n",
      "1/1 [==============================] - 0s 309ms/step\n",
      "1/1 [==============================] - 0s 303ms/step\n",
      "1/1 [==============================] - 0s 310ms/step\n",
      "1/1 [==============================] - 0s 316ms/step\n",
      "1/1 [==============================] - 0s 313ms/step\n",
      "1/1 [==============================] - 0s 313ms/step\n",
      "1/1 [==============================] - 0s 319ms/step\n",
      "1/1 [==============================] - 0s 303ms/step\n",
      "1/1 [==============================] - 0s 309ms/step\n",
      "1/1 [==============================] - 0s 307ms/step\n",
      "1/1 [==============================] - 0s 307ms/step\n",
      "1/1 [==============================] - 0s 308ms/step\n",
      "1/1 [==============================] - 0s 312ms/step\n",
      "1/1 [==============================] - 0s 314ms/step\n",
      "1/1 [==============================] - 0s 317ms/step\n",
      "1/1 [==============================] - 0s 317ms/step\n",
      "1/1 [==============================] - 0s 315ms/step\n",
      "1/1 [==============================] - 0s 326ms/step\n",
      "1/1 [==============================] - 0s 325ms/step\n",
      "1/1 [==============================] - 0s 317ms/step\n",
      "1/1 [==============================] - 0s 317ms/step\n",
      "1/1 [==============================] - 0s 312ms/step\n",
      "1/1 [==============================] - 0s 319ms/step\n",
      "1/1 [==============================] - 0s 312ms/step\n",
      "1/1 [==============================] - 0s 311ms/step\n",
      "1/1 [==============================] - 0s 312ms/step\n",
      "1/1 [==============================] - 0s 311ms/step\n",
      "1/1 [==============================] - 0s 316ms/step\n",
      "1/1 [==============================] - 0s 349ms/step\n",
      "1/1 [==============================] - 0s 333ms/step\n",
      "1/1 [==============================] - 0s 385ms/step\n",
      "1/1 [==============================] - 0s 313ms/step\n",
      "1/1 [==============================] - 0s 330ms/step\n",
      "1/1 [==============================] - 0s 320ms/step\n",
      "1/1 [==============================] - 0s 319ms/step\n",
      "1/1 [==============================] - 0s 326ms/step\n",
      "1/1 [==============================] - 0s 325ms/step\n",
      "1/1 [==============================] - 0s 325ms/step\n",
      "1/1 [==============================] - 0s 322ms/step\n",
      "1/1 [==============================] - 0s 328ms/step\n",
      "1/1 [==============================] - 0s 336ms/step\n",
      "1/1 [==============================] - 0s 335ms/step\n",
      "1/1 [==============================] - 0s 349ms/step\n",
      "1/1 [==============================] - 0s 348ms/step\n",
      "1/1 [==============================] - 0s 353ms/step\n",
      "1/1 [==============================] - 0s 345ms/step\n",
      "1/1 [==============================] - 0s 337ms/step\n",
      "1/1 [==============================] - 0s 334ms/step\n",
      "1/1 [==============================] - 0s 334ms/step\n",
      "1/1 [==============================] - 0s 344ms/step\n"
     ]
    },
    {
     "name": "stdout",
     "output_type": "stream",
     "text": [
      "1/1 [==============================] - 0s 349ms/step\n",
      "1/1 [==============================] - 0s 345ms/step\n",
      "1/1 [==============================] - 0s 348ms/step\n",
      "1/1 [==============================] - 0s 344ms/step\n",
      "1/1 [==============================] - 0s 350ms/step\n",
      "1/1 [==============================] - 0s 333ms/step\n",
      "1/1 [==============================] - 0s 342ms/step\n",
      "1/1 [==============================] - 0s 351ms/step\n",
      "1/1 [==============================] - 0s 345ms/step\n",
      "1/1 [==============================] - 0s 338ms/step\n",
      "1/1 [==============================] - 0s 323ms/step\n",
      "1/1 [==============================] - 0s 324ms/step\n",
      "1/1 [==============================] - 0s 323ms/step\n",
      "1/1 [==============================] - 0s 320ms/step\n",
      "1/1 [==============================] - 0s 322ms/step\n",
      "1/1 [==============================] - 0s 317ms/step\n",
      "1/1 [==============================] - 0s 321ms/step\n",
      "1/1 [==============================] - 0s 319ms/step\n",
      "1/1 [==============================] - 0s 331ms/step\n",
      "1/1 [==============================] - 0s 330ms/step\n",
      "1/1 [==============================] - 0s 313ms/step\n",
      "1/1 [==============================] - 0s 312ms/step\n",
      "1/1 [==============================] - 0s 313ms/step\n",
      "1/1 [==============================] - 0s 315ms/step\n",
      "1/1 [==============================] - 0s 315ms/step\n",
      "1/1 [==============================] - 0s 318ms/step\n",
      "1/1 [==============================] - 0s 321ms/step\n",
      "1/1 [==============================] - 0s 318ms/step\n",
      "1/1 [==============================] - 0s 319ms/step\n",
      "1/1 [==============================] - 0s 305ms/step\n",
      "1/1 [==============================] - 0s 310ms/step\n",
      "1/1 [==============================] - 0s 313ms/step\n",
      "1/1 [==============================] - 0s 310ms/step\n",
      "1/1 [==============================] - 0s 319ms/step\n",
      "1/1 [==============================] - 0s 317ms/step\n",
      "1/1 [==============================] - 0s 312ms/step\n",
      "1/1 [==============================] - 0s 319ms/step\n",
      "1/1 [==============================] - 0s 315ms/step\n",
      "1/1 [==============================] - 0s 340ms/step\n",
      "1/1 [==============================] - 0s 368ms/step\n",
      "1/1 [==============================] - 0s 367ms/step\n",
      "1/1 [==============================] - 0s 313ms/step\n",
      "1/1 [==============================] - 0s 311ms/step\n",
      "1/1 [==============================] - 0s 312ms/step\n",
      "1/1 [==============================] - 0s 317ms/step\n",
      "1/1 [==============================] - 0s 319ms/step\n",
      "1/1 [==============================] - 0s 309ms/step\n",
      "1/1 [==============================] - 0s 319ms/step\n",
      "1/1 [==============================] - 0s 320ms/step\n",
      "1/1 [==============================] - 0s 321ms/step\n",
      "1/1 [==============================] - 0s 316ms/step\n",
      "1/1 [==============================] - 0s 323ms/step\n",
      "1/1 [==============================] - 0s 317ms/step\n",
      "1/1 [==============================] - 0s 298ms/step\n",
      "1/1 [==============================] - 0s 310ms/step\n",
      "1/1 [==============================] - 0s 309ms/step\n",
      "1/1 [==============================] - 0s 313ms/step\n",
      "1/1 [==============================] - 0s 307ms/step\n",
      "1/1 [==============================] - 0s 314ms/step\n",
      "1/1 [==============================] - 0s 322ms/step\n",
      "1/1 [==============================] - 0s 318ms/step\n",
      "1/1 [==============================] - 0s 316ms/step\n",
      "1/1 [==============================] - 0s 316ms/step\n",
      "1/1 [==============================] - 0s 325ms/step\n",
      "1/1 [==============================] - 0s 317ms/step\n",
      "1/1 [==============================] - 0s 305ms/step\n",
      "1/1 [==============================] - 0s 312ms/step\n",
      "1/1 [==============================] - 0s 312ms/step\n",
      "1/1 [==============================] - 0s 302ms/step\n",
      "1/1 [==============================] - 0s 311ms/step\n",
      "1/1 [==============================] - 0s 314ms/step\n",
      "1/1 [==============================] - 0s 315ms/step\n",
      "1/1 [==============================] - 0s 318ms/step\n",
      "1/1 [==============================] - 0s 322ms/step\n",
      "1/1 [==============================] - 0s 320ms/step\n",
      "1/1 [==============================] - 0s 320ms/step\n",
      "1/1 [==============================] - 0s 319ms/step\n",
      "1/1 [==============================] - 0s 310ms/step\n",
      "1/1 [==============================] - 0s 314ms/step\n",
      "1/1 [==============================] - 0s 313ms/step\n",
      "1/1 [==============================] - 0s 303ms/step\n",
      "1/1 [==============================] - 0s 319ms/step\n",
      "1/1 [==============================] - 0s 315ms/step\n",
      "1/1 [==============================] - 0s 316ms/step\n",
      "1/1 [==============================] - 0s 334ms/step\n",
      "1/1 [==============================] - 0s 325ms/step\n",
      "1/1 [==============================] - 0s 327ms/step\n",
      "1/1 [==============================] - 0s 335ms/step\n",
      "1/1 [==============================] - 0s 321ms/step\n",
      "1/1 [==============================] - 0s 313ms/step\n",
      "1/1 [==============================] - 0s 318ms/step\n",
      "1/1 [==============================] - 0s 313ms/step\n",
      "1/1 [==============================] - 0s 254ms/step\n"
     ]
    }
   ],
   "source": [
    "# initialize an empty tensor to store the labels\n",
    "precision = tf.keras.metrics.Precision()\n",
    "recall = tf.keras.metrics.Recall()\n",
    "for image_batch, labels_batch in testing_images:\n",
    "    labels = labels_batch\n",
    "    predictions = tf.math.argmax(model.predict(image_batch), axis=-1)\n",
    "    precision.update_state(labels_batch, predictions)\n",
    "    recall.update_state(labels_batch, predictions)"
   ]
  },
  {
   "cell_type": "code",
   "execution_count": 43,
   "metadata": {
    "ExecuteTime": {
     "end_time": "2023-12-10T02:21:31.528755Z",
     "start_time": "2023-12-10T02:21:31.499827Z"
    }
   },
   "outputs": [
    {
     "name": "stdout",
     "output_type": "stream",
     "text": [
      "Precision:  0.65546286\n",
      "Recall:  1.0\n",
      "F1 Score:  0.7918786660559289\n"
     ]
    }
   ],
   "source": [
    "print('Precision: ', precision.result().numpy())\n",
    "print('Recall: ', recall.result().numpy())\n",
    "f1 = 2 * (precision.result().numpy() * recall.result().numpy()) / (precision.result().numpy() + recall.result().numpy())\n",
    "print('F1 Score: ', f1)"
   ]
  },
  {
   "cell_type": "markdown",
   "metadata": {},
   "source": [
    "# 1.d. Transfer Learning"
   ]
  },
  {
   "cell_type": "code",
   "execution_count": 22,
   "metadata": {
    "ExecuteTime": {
     "end_time": "2023-12-10T18:53:11.161657Z",
     "start_time": "2023-12-10T18:53:08.457339Z"
    }
   },
   "outputs": [
    {
     "name": "stdout",
     "output_type": "stream",
     "text": [
      "Downloading data from https://storage.googleapis.com/tensorflow/keras-applications/resnet/resnet50_weights_tf_dim_ordering_tf_kernels_notop.h5\n",
      "94765736/94765736 [==============================] - 2s 0us/step\n",
      "Downloading data from https://storage.googleapis.com/tensorflow/keras-applications/vgg16/vgg16_weights_tf_dim_ordering_tf_kernels_notop.h5\n",
      "58889256/58889256 [==============================] - 1s 0us/step\n"
     ]
    }
   ],
   "source": [
    " # pre-trained models\n",
    "\n",
    "\n",
    "efficient_net = tf.keras.applications.efficientnet.EfficientNetB0(include_top=False, weights='imagenet',\n",
    "                                                                  input_shape=(299, 299, 3))\n",
    "\n",
    "res_net = tf.keras.applications.resnet50.ResNet50(include_top=False, weights='imagenet', input_shape=(299, 299, 3))\n",
    "\n",
    "vgg16 = tf.keras.applications.vgg16.VGG16(include_top=False, weights='imagenet', input_shape=(299, 299, 3))"
   ]
  },
  {
   "cell_type": "code",
   "execution_count": 23,
   "metadata": {
    "ExecuteTime": {
     "end_time": "2023-12-10T18:53:15.372297Z",
     "start_time": "2023-12-10T18:53:15.367226Z"
    }
   },
   "outputs": [],
   "source": [
    "# freeze all layers except the last one in each model\n",
    "for layer in efficient_net.layers[:-1]:\n",
    "    layer.trainable = False\n",
    "for layer in res_net.layers[:-1]:\n",
    "    layer.trainable = False\n",
    "for layer in vgg16.layers[:-1]:\n",
    "    layer.trainable = False"
   ]
  },
  {
   "cell_type": "code",
   "execution_count": 24,
   "metadata": {
    "ExecuteTime": {
     "end_time": "2023-12-10T18:53:22.453785Z",
     "start_time": "2023-12-10T18:53:21.875725Z"
    }
   },
   "outputs": [],
   "source": [
    "batch_size_new = 8\n",
    "\n",
    "# use ReLU activation functions in the last layer and a softmax layer, along with batch normalization 5 and a dropout rate of 30% as well as ADAM optimizer. Use cross entropy loss.\n",
    "model_efficient_net = tf.keras.Sequential([\n",
    "    efficient_net,\n",
    "    tf.keras.layers.GlobalAveragePooling2D(),\n",
    "    tf.keras.layers.Dense(128, activation='relu', batch_size=batch_size_new),\n",
    "    tf.keras.layers.Dropout(0.3),\n",
    "    tf.keras.layers.Dense(2, activation='softmax', batch_size=batch_size_new)\n",
    "\n",
    "])\n",
    "# set batch size to 8 and use ADAM optimizer \n",
    "model_efficient_net.compile(optimizer='adam',\n",
    "                            loss=tf.keras.losses.SparseCategoricalCrossentropy(from_logits=True),\n",
    "                            metrics=['accuracy'])\n",
    "\n",
    "model_res_net = tf.keras.Sequential([\n",
    "    res_net,\n",
    "    tf.keras.layers.GlobalAveragePooling2D(),\n",
    "    tf.keras.layers.Dense(128, activation='relu', batch_size=batch_size_new),\n",
    "    tf.keras.layers.Dropout(0.3),\n",
    "    tf.keras.layers.Dense(2, activation='softmax', batch_size=batch_size_new)\n",
    "])\n",
    "\n",
    "model_res_net.compile(optimizer='adam',\n",
    "                      loss=tf.keras.losses.SparseCategoricalCrossentropy(from_logits=True),\n",
    "                      metrics=['accuracy'])\n",
    "\n",
    "model_vgg16 = tf.keras.Sequential([\n",
    "    vgg16,\n",
    "    tf.keras.layers.GlobalAveragePooling2D(),\n",
    "    tf.keras.layers.Dense(128, activation='relu', batch_size=batch_size_new),\n",
    "    tf.keras.layers.Dropout(0.3),\n",
    "    tf.keras.layers.Dense(2, activation='softmax', batch_size=batch_size_new)\n",
    "])\n",
    "\n",
    "model_vgg16.compile(optimizer='adam',\n",
    "                    loss=tf.keras.losses.SparseCategoricalCrossentropy(from_logits=True),\n",
    "                    metrics=['accuracy'])"
   ]
  },
  {
   "cell_type": "code",
   "execution_count": 25,
   "metadata": {
    "ExecuteTime": {
     "end_time": "2023-12-10T05:07:33.431161Z",
     "start_time": "2023-12-10T05:07:33.427374Z"
    }
   },
   "outputs": [],
   "source": [
    "# 1.d.iv. Train using the features calculated by networks (EfficientNetB0, ResNet50, and VGG16) for at least 10 epochs (preferably 20 epochs) and perform early stopping using the validation set. Keep the network parameters that have the lowest validation error. Plot the training and validation errors vs. epochs.\n",
    "\n",
    "# early stopping\n",
    "early_stopping = tf.keras.callbacks.EarlyStopping(monitor='val_loss', patience=2)\n"
   ]
  },
  {
   "cell_type": "code",
   "execution_count": 26,
   "metadata": {},
   "outputs": [
    {
     "name": "stdout",
     "output_type": "stream",
     "text": [
      "Epoch 1/10\n",
      "928/928 [==============================] - 1016s 1s/step - loss: 0.2012 - accuracy: 0.9189 - val_loss: 0.3310 - val_accuracy: 0.8391\n",
      "Epoch 2/10\n",
      "928/928 [==============================] - 1030s 1s/step - loss: 0.1219 - accuracy: 0.9530 - val_loss: 0.3061 - val_accuracy: 0.8771\n",
      "Epoch 3/10\n",
      "928/928 [==============================] - 1028s 1s/step - loss: 0.0992 - accuracy: 0.9616 - val_loss: 0.4968 - val_accuracy: 0.8325\n",
      "Epoch 4/10\n",
      "928/928 [==============================] - 1145s 1s/step - loss: 0.0844 - accuracy: 0.9679 - val_loss: 0.5668 - val_accuracy: 0.8361\n"
     ]
    },
    {
     "data": {
      "text/plain": [
       "<keras.src.callbacks.History at 0x2907346d0>"
      ]
     },
     "execution_count": 26,
     "metadata": {},
     "output_type": "execute_result"
    }
   ],
   "source": [
    "# train model_efficient_net\n",
    "model_efficient_net.fit(training_images, epochs=10, validation_data=validation_images, verbose=1, batch_size=batch_size_new,\n",
    "                        callbacks=[early_stopping])"
   ]
  },
  {
   "cell_type": "code",
   "execution_count": 27,
   "metadata": {},
   "outputs": [],
   "source": [
    "model_efficient_net.save(\"model_efficient_net.h5\")"
   ]
  },
  {
   "cell_type": "code",
   "execution_count": 28,
   "metadata": {
    "ExecuteTime": {
     "end_time": "2023-12-10T23:41:09.266034Z",
     "start_time": "2023-12-10T23:41:09.256481Z"
    }
   },
   "outputs": [
    {
     "data": {
      "image/png": "[encoded data removed]",
      "text/plain": [
       "<Figure size 640x480 with 1 Axes>"
      ]
     },
     "metadata": {},
     "output_type": "display_data"
    }
   ],
   "source": [
    "# plot training and validation errors vs. epochs for all three models\n",
    "import matplotlib.pyplot as plt\n",
    "\n",
    "plt.plot(model_efficient_net.history.history['loss'])\n",
    "plt.plot(model_efficient_net.history.history['val_loss'])\n",
    "plt.title('Model Loss for EfficientNetB0')\n",
    "plt.ylabel('Loss')\n",
    "plt.xlabel('Epoch')\n",
    "plt.legend(['Train', 'Validation'], loc='upper left')\n",
    "plt.show()\n"
   ]
  },
  {
   "cell_type": "code",
   "execution_count": 29,
   "metadata": {
    "ExecuteTime": {
     "end_time": "2023-12-10T06:56:39.999538Z",
     "start_time": "2023-12-10T06:54:26.312797Z"
    }
   },
   "outputs": [
    {
     "name": "stdout",
     "output_type": "stream",
     "text": [
      "1/1 [==============================] - 1s 1s/step\n",
      "1/1 [==============================] - 1s 793ms/step\n",
      "1/1 [==============================] - 1s 766ms/step\n",
      "1/1 [==============================] - 1s 743ms/step\n",
      "1/1 [==============================] - 1s 717ms/step\n",
      "1/1 [==============================] - 1s 625ms/step\n",
      "1/1 [==============================] - 1s 630ms/step\n",
      "1/1 [==============================] - 1s 615ms/step\n",
      "1/1 [==============================] - 1s 627ms/step\n",
      "1/1 [==============================] - 1s 616ms/step\n",
      "1/1 [==============================] - 1s 619ms/step\n",
      "1/1 [==============================] - 1s 611ms/step\n",
      "1/1 [==============================] - 1s 619ms/step\n",
      "1/1 [==============================] - 1s 618ms/step\n",
      "1/1 [==============================] - 1s 628ms/step\n",
      "1/1 [==============================] - 1s 627ms/step\n",
      "1/1 [==============================] - 1s 626ms/step\n",
      "1/1 [==============================] - 1s 700ms/step\n",
      "1/1 [==============================] - 1s 823ms/step\n",
      "1/1 [==============================] - 1s 775ms/step\n",
      "1/1 [==============================] - 1s 722ms/step\n",
      "1/1 [==============================] - 1s 743ms/step\n",
      "1/1 [==============================] - 1s 621ms/step\n",
      "1/1 [==============================] - 1s 623ms/step\n",
      "1/1 [==============================] - 1s 693ms/step\n",
      "1/1 [==============================] - 1s 615ms/step\n",
      "1/1 [==============================] - 1s 699ms/step\n",
      "1/1 [==============================] - 1s 702ms/step\n",
      "1/1 [==============================] - 1s 785ms/step\n",
      "1/1 [==============================] - 1s 779ms/step\n",
      "1/1 [==============================] - 1s 703ms/step\n",
      "1/1 [==============================] - 1s 989ms/step\n",
      "1/1 [==============================] - 1s 762ms/step\n",
      "1/1 [==============================] - 1s 753ms/step\n",
      "1/1 [==============================] - 1s 640ms/step\n",
      "1/1 [==============================] - 1s 736ms/step\n",
      "1/1 [==============================] - 1s 717ms/step\n",
      "1/1 [==============================] - 1s 717ms/step\n",
      "1/1 [==============================] - 1s 720ms/step\n",
      "1/1 [==============================] - 1s 704ms/step\n",
      "1/1 [==============================] - 1s 733ms/step\n",
      "1/1 [==============================] - 1s 720ms/step\n",
      "1/1 [==============================] - 1s 706ms/step\n",
      "1/1 [==============================] - 1s 709ms/step\n",
      "1/1 [==============================] - 1s 715ms/step\n",
      "1/1 [==============================] - 1s 722ms/step\n",
      "1/1 [==============================] - 1s 642ms/step\n",
      "1/1 [==============================] - 1s 696ms/step\n",
      "1/1 [==============================] - 1s 683ms/step\n",
      "1/1 [==============================] - 1s 737ms/step\n",
      "1/1 [==============================] - 1s 725ms/step\n",
      "1/1 [==============================] - 1s 729ms/step\n",
      "1/1 [==============================] - 1s 716ms/step\n",
      "1/1 [==============================] - 1s 718ms/step\n",
      "1/1 [==============================] - 1s 748ms/step\n",
      "1/1 [==============================] - 1s 760ms/step\n",
      "1/1 [==============================] - 1s 730ms/step\n",
      "1/1 [==============================] - 1s 748ms/step\n",
      "1/1 [==============================] - 1s 640ms/step\n",
      "1/1 [==============================] - 1s 647ms/step\n",
      "1/1 [==============================] - 1s 634ms/step\n",
      "1/1 [==============================] - 1s 635ms/step\n",
      "1/1 [==============================] - 1s 647ms/step\n",
      "1/1 [==============================] - 1s 651ms/step\n",
      "1/1 [==============================] - 1s 671ms/step\n",
      "1/1 [==============================] - 1s 664ms/step\n",
      "1/1 [==============================] - 1s 730ms/step\n",
      "1/1 [==============================] - 1s 753ms/step\n",
      "1/1 [==============================] - 1s 759ms/step\n",
      "1/1 [==============================] - 1s 745ms/step\n",
      "1/1 [==============================] - 1s 656ms/step\n",
      "1/1 [==============================] - 1s 759ms/step\n",
      "1/1 [==============================] - 1s 744ms/step\n",
      "1/1 [==============================] - 1s 756ms/step\n",
      "1/1 [==============================] - 1s 739ms/step\n",
      "1/1 [==============================] - 1s 740ms/step\n",
      "1/1 [==============================] - 1s 749ms/step\n",
      "1/1 [==============================] - 1s 788ms/step\n",
      "1/1 [==============================] - 1s 772ms/step\n",
      "1/1 [==============================] - 1s 750ms/step\n",
      "1/1 [==============================] - 1s 752ms/step\n",
      "1/1 [==============================] - 1s 756ms/step\n",
      "1/1 [==============================] - 1s 666ms/step\n",
      "1/1 [==============================] - 1s 662ms/step\n",
      "1/1 [==============================] - 1s 658ms/step\n",
      "1/1 [==============================] - 1s 654ms/step\n",
      "1/1 [==============================] - 1s 739ms/step\n",
      "1/1 [==============================] - 1s 746ms/step\n",
      "1/1 [==============================] - 1s 765ms/step\n",
      "1/1 [==============================] - 1s 757ms/step\n",
      "1/1 [==============================] - 1s 752ms/step\n",
      "1/1 [==============================] - 1s 761ms/step\n",
      "1/1 [==============================] - 1s 774ms/step\n",
      "1/1 [==============================] - 1s 779ms/step\n",
      "1/1 [==============================] - 1s 674ms/step\n",
      "1/1 [==============================] - 1s 664ms/step\n",
      "1/1 [==============================] - 1s 672ms/step\n",
      "1/1 [==============================] - 1s 658ms/step\n",
      "1/1 [==============================] - 1s 671ms/step\n",
      "1/1 [==============================] - 1s 693ms/step\n",
      "1/1 [==============================] - 1s 705ms/step\n",
      "1/1 [==============================] - 1s 790ms/step\n",
      "1/1 [==============================] - 1s 708ms/step\n",
      "1/1 [==============================] - 1s 832ms/step\n",
      "1/1 [==============================] - 1s 854ms/step\n",
      "1/1 [==============================] - 1s 810ms/step\n",
      "1/1 [==============================] - 1s 796ms/step\n",
      "1/1 [==============================] - 1s 761ms/step\n",
      "1/1 [==============================] - 1s 674ms/step\n",
      "1/1 [==============================] - 1s 675ms/step\n",
      "1/1 [==============================] - 1s 690ms/step\n",
      "1/1 [==============================] - 1s 683ms/step\n",
      "1/1 [==============================] - 1s 698ms/step\n",
      "1/1 [==============================] - 1s 705ms/step\n",
      "1/1 [==============================] - 1s 699ms/step\n",
      "1/1 [==============================] - 1s 711ms/step\n",
      "1/1 [==============================] - 1s 727ms/step\n",
      "1/1 [==============================] - 1s 790ms/step\n",
      "1/1 [==============================] - 1s 681ms/step\n",
      "1/1 [==============================] - 1s 663ms/step\n",
      "1/1 [==============================] - 1s 677ms/step\n",
      "1/1 [==============================] - 1s 671ms/step\n",
      "1/1 [==============================] - 1s 736ms/step\n",
      "1/1 [==============================] - 1s 894ms/step\n",
      "1/1 [==============================] - 1s 819ms/step\n",
      "1/1 [==============================] - 1s 867ms/step\n",
      "1/1 [==============================] - 1s 769ms/step\n",
      "1/1 [==============================] - 1s 807ms/step\n",
      "1/1 [==============================] - 1s 808ms/step\n",
      "1/1 [==============================] - 1s 788ms/step\n",
      "1/1 [==============================] - 1s 688ms/step\n",
      "1/1 [==============================] - 1s 753ms/step\n",
      "1/1 [==============================] - 1s 676ms/step\n",
      "1/1 [==============================] - 1s 700ms/step\n",
      "1/1 [==============================] - 1s 687ms/step\n",
      "1/1 [==============================] - 1s 757ms/step\n",
      "1/1 [==============================] - 1s 785ms/step\n",
      "1/1 [==============================] - 1s 742ms/step\n",
      "1/1 [==============================] - 1s 774ms/step\n",
      "1/1 [==============================] - 1s 790ms/step\n",
      "1/1 [==============================] - 1s 801ms/step\n",
      "1/1 [==============================] - 1s 787ms/step\n",
      "1/1 [==============================] - 1s 711ms/step\n",
      "1/1 [==============================] - 1s 681ms/step\n",
      "1/1 [==============================] - 1s 807ms/step\n",
      "1/1 [==============================] - 1s 793ms/step\n",
      "1/1 [==============================] - 1s 755ms/step\n",
      "1/1 [==============================] - 1s 787ms/step\n",
      "1/1 [==============================] - 1s 779ms/step\n",
      "1/1 [==============================] - 1s 825ms/step\n",
      "1/1 [==============================] - 1s 799ms/step\n",
      "1/1 [==============================] - 1s 812ms/step\n",
      "1/1 [==============================] - 1s 794ms/step\n",
      "1/1 [==============================] - 1s 821ms/step\n",
      "1/1 [==============================] - 1s 705ms/step\n",
      "1/1 [==============================] - 1s 778ms/step\n",
      "1/1 [==============================] - 1s 761ms/step\n",
      "1/1 [==============================] - 1s 776ms/step\n",
      "1/1 [==============================] - 1s 769ms/step\n",
      "1/1 [==============================] - 1s 789ms/step\n",
      "1/1 [==============================] - 1s 822ms/step\n",
      "1/1 [==============================] - 1s 853ms/step\n",
      "1/1 [==============================] - 1s 848ms/step\n",
      "1/1 [==============================] - 1s 773ms/step\n",
      "1/1 [==============================] - 1s 811ms/step\n",
      "1/1 [==============================] - 1s 788ms/step\n",
      "1/1 [==============================] - 1s 682ms/step\n",
      "1/1 [==============================] - 1s 786ms/step\n",
      "1/1 [==============================] - 1s 786ms/step\n",
      "1/1 [==============================] - 1s 772ms/step\n",
      "1/1 [==============================] - 1s 767ms/step\n",
      "1/1 [==============================] - 1s 776ms/step\n",
      "1/1 [==============================] - 1s 785ms/step\n",
      "1/1 [==============================] - 1s 773ms/step\n",
      "1/1 [==============================] - 1s 773ms/step\n",
      "1/1 [==============================] - 1s 779ms/step\n",
      "1/1 [==============================] - 1s 793ms/step\n",
      "1/1 [==============================] - 1s 823ms/step\n",
      "1/1 [==============================] - 1s 701ms/step\n",
      "1/1 [==============================] - 1s 689ms/step\n",
      "1/1 [==============================] - 1s 685ms/step\n",
      "1/1 [==============================] - 1s 962ms/step\n",
      "1/1 [==============================] - 1s 876ms/step\n",
      "1/1 [==============================] - 1s 814ms/step\n",
      "1/1 [==============================] - 1s 819ms/step\n",
      "1/1 [==============================] - 1s 798ms/step\n",
      "1/1 [==============================] - 1s 840ms/step\n",
      "1/1 [==============================] - 1s 824ms/step\n",
      "1/1 [==============================] - 1s 820ms/step\n",
      "1/1 [==============================] - 1s 789ms/step\n",
      "1/1 [==============================] - 1s 699ms/step\n",
      "1/1 [==============================] - 1s 699ms/step\n",
      "1/1 [==============================] - 1s 698ms/step\n",
      "1/1 [==============================] - 1s 693ms/step\n",
      "1/1 [==============================] - 1s 697ms/step\n",
      "1/1 [==============================] - 1s 714ms/step\n",
      "1/1 [==============================] - 1s 713ms/step\n",
      "1/1 [==============================] - 1s 779ms/step\n",
      "1/1 [==============================] - 1s 785ms/step\n",
      "1/1 [==============================] - 1s 789ms/step\n",
      "1/1 [==============================] - 1s 796ms/step\n",
      "1/1 [==============================] - 1s 784ms/step\n",
      "1/1 [==============================] - 1s 694ms/step\n",
      "1/1 [==============================] - 1s 691ms/step\n",
      "1/1 [==============================] - 1s 690ms/step\n",
      "1/1 [==============================] - 1s 682ms/step\n",
      "1/1 [==============================] - 1s 704ms/step\n",
      "1/1 [==============================] - 1s 689ms/step\n",
      "1/1 [==============================] - 1s 788ms/step\n",
      "1/1 [==============================] - 1s 782ms/step\n",
      "1/1 [==============================] - 1s 779ms/step\n",
      "1/1 [==============================] - 1s 800ms/step\n",
      "1/1 [==============================] - 1s 782ms/step\n",
      "1/1 [==============================] - 1s 775ms/step\n",
      "1/1 [==============================] - 1s 692ms/step\n",
      "1/1 [==============================] - 1s 701ms/step\n",
      "1/1 [==============================] - 1s 686ms/step\n",
      "1/1 [==============================] - 1s 688ms/step\n",
      "1/1 [==============================] - 1s 704ms/step\n",
      "1/1 [==============================] - 1s 692ms/step\n",
      "1/1 [==============================] - 1s 750ms/step\n",
      "1/1 [==============================] - 1s 785ms/step\n",
      "1/1 [==============================] - 1s 778ms/step\n",
      "1/1 [==============================] - 1s 785ms/step\n",
      "1/1 [==============================] - 1s 804ms/step\n",
      "1/1 [==============================] - 1s 791ms/step\n",
      "1/1 [==============================] - 1s 714ms/step\n",
      "1/1 [==============================] - 1s 691ms/step\n",
      "1/1 [==============================] - 1s 697ms/step\n",
      "1/1 [==============================] - 1s 690ms/step\n",
      "1/1 [==============================] - 1s 726ms/step\n",
      "1/1 [==============================] - 1s 796ms/step\n",
      "1/1 [==============================] - 1s 795ms/step\n",
      "1/1 [==============================] - 1s 790ms/step\n",
      "1/1 [==============================] - 1s 770ms/step\n",
      "1/1 [==============================] - 1s 794ms/step\n",
      "1/1 [==============================] - 1s 780ms/step\n",
      "1/1 [==============================] - 1s 813ms/step\n",
      "1/1 [==============================] - 1s 751ms/step\n",
      "1/1 [==============================] - 1s 722ms/step\n",
      "1/1 [==============================] - 1s 814ms/step\n",
      "1/1 [==============================] - 1s 961ms/step\n",
      "1/1 [==============================] - 1s 912ms/step\n",
      "1/1 [==============================] - 1s 828ms/step\n",
      "1/1 [==============================] - 1s 818ms/step\n",
      "1/1 [==============================] - 1s 824ms/step\n",
      "1/1 [==============================] - 1s 826ms/step\n",
      "1/1 [==============================] - 1s 835ms/step\n",
      "1/1 [==============================] - 1s 827ms/step\n",
      "1/1 [==============================] - 1s 830ms/step\n",
      "1/1 [==============================] - 1s 739ms/step\n",
      "1/1 [==============================] - 1s 822ms/step\n",
      "1/1 [==============================] - 1s 783ms/step\n",
      "1/1 [==============================] - 1s 794ms/step\n",
      "1/1 [==============================] - 1s 805ms/step\n",
      "1/1 [==============================] - 1s 798ms/step\n",
      "1/1 [==============================] - 1s 798ms/step\n",
      "1/1 [==============================] - 1s 823ms/step\n",
      "1/1 [==============================] - 1s 802ms/step\n",
      "1/1 [==============================] - 1s 795ms/step\n",
      "1/1 [==============================] - 1s 798ms/step\n",
      "1/1 [==============================] - 1s 812ms/step\n",
      "1/1 [==============================] - 1s 722ms/step\n",
      "1/1 [==============================] - 1s 708ms/step\n",
      "1/1 [==============================] - 1s 723ms/step\n",
      "1/1 [==============================] - 1s 807ms/step\n",
      "1/1 [==============================] - 1s 813ms/step\n",
      "1/1 [==============================] - 1s 789ms/step\n",
      "1/1 [==============================] - 1s 788ms/step\n",
      "1/1 [==============================] - 1s 808ms/step\n",
      "1/1 [==============================] - 1s 803ms/step\n",
      "1/1 [==============================] - 1s 814ms/step\n",
      "1/1 [==============================] - 1s 798ms/step\n",
      "1/1 [==============================] - 1s 818ms/step\n",
      "1/1 [==============================] - 1s 717ms/step\n",
      "1/1 [==============================] - 1s 705ms/step\n",
      "1/1 [==============================] - 1s 708ms/step\n",
      "1/1 [==============================] - 1s 719ms/step\n",
      "1/1 [==============================] - 1s 775ms/step\n",
      "1/1 [==============================] - 1s 784ms/step\n",
      "1/1 [==============================] - 1s 797ms/step\n",
      "1/1 [==============================] - 1s 788ms/step\n",
      "1/1 [==============================] - 1s 796ms/step\n",
      "1/1 [==============================] - 1s 829ms/step\n",
      "1/1 [==============================] - 1s 793ms/step\n",
      "1/1 [==============================] - 1s 803ms/step\n",
      "1/1 [==============================] - 1s 705ms/step\n",
      "1/1 [==============================] - 1s 702ms/step\n",
      "1/1 [==============================] - 1s 704ms/step\n",
      "1/1 [==============================] - 1s 697ms/step\n",
      "1/1 [==============================] - 1s 755ms/step\n",
      "1/1 [==============================] - 1s 808ms/step\n",
      "1/1 [==============================] - 1s 781ms/step\n",
      "1/1 [==============================] - 1s 791ms/step\n",
      "1/1 [==============================] - 1s 823ms/step\n",
      "1/1 [==============================] - 1s 799ms/step\n",
      "1/1 [==============================] - 1s 823ms/step\n",
      "1/1 [==============================] - 1s 819ms/step\n",
      "1/1 [==============================] - 1s 712ms/step\n",
      "1/1 [==============================] - 1s 705ms/step\n",
      "1/1 [==============================] - 1s 698ms/step\n",
      "1/1 [==============================] - 1s 695ms/step\n",
      "1/1 [==============================] - 1s 766ms/step\n",
      "1/1 [==============================] - 1s 799ms/step\n",
      "1/1 [==============================] - 1s 791ms/step\n",
      "1/1 [==============================] - 1s 818ms/step\n",
      "1/1 [==============================] - 1s 805ms/step\n",
      "1/1 [==============================] - 1s 819ms/step\n"
     ]
    },
    {
     "name": "stdout",
     "output_type": "stream",
     "text": [
      "1/1 [==============================] - 1s 782ms/step\n",
      "1/1 [==============================] - 1s 812ms/step\n",
      "1/1 [==============================] - 1s 709ms/step\n",
      "1/1 [==============================] - 1s 699ms/step\n",
      "1/1 [==============================] - 1s 706ms/step\n",
      "1/1 [==============================] - 1s 710ms/step\n",
      "1/1 [==============================] - 1s 786ms/step\n",
      "1/1 [==============================] - 1s 799ms/step\n",
      "1/1 [==============================] - 1s 792ms/step\n",
      "1/1 [==============================] - 1s 808ms/step\n",
      "1/1 [==============================] - 1s 797ms/step\n",
      "1/1 [==============================] - 1s 798ms/step\n",
      "1/1 [==============================] - 1s 798ms/step\n",
      "1/1 [==============================] - 1s 795ms/step\n",
      "1/1 [==============================] - 1s 714ms/step\n",
      "1/1 [==============================] - 1s 711ms/step\n",
      "1/1 [==============================] - 1s 708ms/step\n",
      "1/1 [==============================] - 1s 701ms/step\n",
      "1/1 [==============================] - 1s 804ms/step\n",
      "1/1 [==============================] - 1s 805ms/step\n",
      "1/1 [==============================] - 1s 792ms/step\n",
      "1/1 [==============================] - 1s 781ms/step\n",
      "1/1 [==============================] - 1s 796ms/step\n",
      "1/1 [==============================] - 1s 798ms/step\n",
      "1/1 [==============================] - 1s 810ms/step\n",
      "1/1 [==============================] - 1s 810ms/step\n",
      "1/1 [==============================] - 1s 713ms/step\n",
      "1/1 [==============================] - 1s 702ms/step\n",
      "1/1 [==============================] - 1s 736ms/step\n",
      "1/1 [==============================] - 1s 812ms/step\n",
      "1/1 [==============================] - 1s 812ms/step\n",
      "1/1 [==============================] - 1s 815ms/step\n",
      "1/1 [==============================] - 1s 809ms/step\n",
      "1/1 [==============================] - 1s 811ms/step\n",
      "1/1 [==============================] - 1s 803ms/step\n",
      "1/1 [==============================] - 1s 820ms/step\n",
      "1/1 [==============================] - 1s 977ms/step\n",
      "1/1 [==============================] - 1s 956ms/step\n",
      "1/1 [==============================] - 1s 750ms/step\n",
      "1/1 [==============================] - 1s 723ms/step\n",
      "1/1 [==============================] - 1s 767ms/step\n",
      "1/1 [==============================] - 1s 759ms/step\n",
      "1/1 [==============================] - 1s 771ms/step\n",
      "1/1 [==============================] - 1s 831ms/step\n",
      "1/1 [==============================] - 1s 760ms/step\n",
      "1/1 [==============================] - 1s 805ms/step\n",
      "1/1 [==============================] - 1s 838ms/step\n",
      "1/1 [==============================] - 1s 807ms/step\n",
      "1/1 [==============================] - 1s 816ms/step\n",
      "1/1 [==============================] - 1s 815ms/step\n",
      "1/1 [==============================] - 1s 729ms/step\n",
      "1/1 [==============================] - 1s 715ms/step\n",
      "1/1 [==============================] - 1s 725ms/step\n",
      "1/1 [==============================] - 1s 788ms/step\n",
      "1/1 [==============================] - 1s 803ms/step\n",
      "1/1 [==============================] - 1s 780ms/step\n",
      "1/1 [==============================] - 1s 847ms/step\n",
      "1/1 [==============================] - 1s 781ms/step\n",
      "1/1 [==============================] - 1s 741ms/step\n",
      "1/1 [==============================] - 1s 734ms/step\n",
      "1/1 [==============================] - 1s 773ms/step\n",
      "1/1 [==============================] - 1s 825ms/step\n",
      "1/1 [==============================] - 1s 712ms/step\n",
      "1/1 [==============================] - 1s 770ms/step\n",
      "1/1 [==============================] - 1s 785ms/step\n",
      "1/1 [==============================] - 1s 827ms/step\n",
      "1/1 [==============================] - 1s 813ms/step\n",
      "1/1 [==============================] - 1s 794ms/step\n",
      "1/1 [==============================] - 1s 812ms/step\n",
      "1/1 [==============================] - 1s 786ms/step\n",
      "1/1 [==============================] - 1s 807ms/step\n",
      "1/1 [==============================] - 1s 810ms/step\n",
      "1/1 [==============================] - 1s 817ms/step\n",
      "1/1 [==============================] - 1s 818ms/step\n",
      "1/1 [==============================] - 1s 717ms/step\n",
      "1/1 [==============================] - 1s 701ms/step\n",
      "1/1 [==============================] - 1s 709ms/step\n",
      "1/1 [==============================] - 1s 707ms/step\n",
      "1/1 [==============================] - 1s 783ms/step\n",
      "1/1 [==============================] - 1s 795ms/step\n",
      "1/1 [==============================] - 1s 802ms/step\n",
      "1/1 [==============================] - 1s 805ms/step\n",
      "1/1 [==============================] - 1s 796ms/step\n",
      "1/1 [==============================] - 1s 815ms/step\n",
      "1/1 [==============================] - 1s 807ms/step\n",
      "1/1 [==============================] - 1s 821ms/step\n",
      "1/1 [==============================] - 1s 723ms/step\n",
      "1/1 [==============================] - 1s 704ms/step\n",
      "1/1 [==============================] - 1s 716ms/step\n",
      "1/1 [==============================] - 1s 715ms/step\n",
      "1/1 [==============================] - 1s 722ms/step\n",
      "1/1 [==============================] - 1s 743ms/step\n",
      "1/1 [==============================] - 1s 1s/step\n"
     ]
    }
   ],
   "source": [
    "# precision recall and f1 score \n",
    "precision_efficient_net = tf.keras.metrics.Precision()\n",
    "recall_efficient_net = tf.keras.metrics.Recall()\n",
    "for image_batch, labels_batch in testing_images:\n",
    "    labels = labels_batch\n",
    "    predictions_efficient_net = tf.math.argmax(model_efficient_net.predict(image_batch), axis=-1)\n",
    "    precision_efficient_net.update_state(labels_batch, predictions_efficient_net)\n",
    "    recall_efficient_net.update_state(labels_batch, predictions_efficient_net)"
   ]
  },
  {
   "cell_type": "code",
   "execution_count": 30,
   "metadata": {},
   "outputs": [
    {
     "name": "stdout",
     "output_type": "stream",
     "text": [
      "Precision:  0.9425056\n",
      "Recall:  0.94788814\n",
      "F1 Score:  0.9451892106911362\n"
     ]
    }
   ],
   "source": [
    "print('Precision: ', precision_efficient_net.result().numpy())\n",
    "print('Recall: ', recall_efficient_net.result().numpy())\n",
    "print('F1 Score: ', 2 * (precision_efficient_net.result().numpy() * recall_efficient_net.result().numpy()) / (\n",
    "            precision_efficient_net.result().numpy() + recall_efficient_net.result().numpy()))"
   ]
  },
  {
   "cell_type": "code",
   "execution_count": 31,
   "metadata": {
    "ExecuteTime": {
     "end_time": "2023-12-10T11:14:33.453062Z",
     "start_time": "2023-12-10T06:57:03.983844Z"
    }
   },
   "outputs": [
    {
     "name": "stdout",
     "output_type": "stream",
     "text": [
      "Epoch 1/10\n",
      "928/928 [==============================] - 3102s 3s/step - loss: 0.1498 - accuracy: 0.9405 - val_loss: 0.2453 - val_accuracy: 0.8962\n",
      "Epoch 2/10\n",
      "928/928 [==============================] - 4348s 5s/step - loss: 0.0826 - accuracy: 0.9681 - val_loss: 0.3778 - val_accuracy: 0.8991\n",
      "Epoch 3/10\n",
      "928/928 [==============================] - 4332s 5s/step - loss: 0.0648 - accuracy: 0.9760 - val_loss: 0.4201 - val_accuracy: 0.8829\n"
     ]
    },
    {
     "data": {
      "text/plain": [
       "<keras.src.callbacks.History at 0x158e5aa90>"
      ]
     },
     "execution_count": 31,
     "metadata": {},
     "output_type": "execute_result"
    }
   ],
   "source": [
    "model_res_net.fit(training_images, epochs=10, validation_data=validation_images, verbose=1, batch_size=batch_size_new,\n",
    "                  callbacks=[early_stopping])"
   ]
  },
  {
   "cell_type": "code",
   "execution_count": 32,
   "metadata": {},
   "outputs": [],
   "source": [
    "model_res_net.save(\"model_res_net.h5\")"
   ]
  },
  {
   "cell_type": "code",
   "execution_count": 33,
   "metadata": {
    "ExecuteTime": {
     "end_time": "2023-12-10T11:43:05.757463Z",
     "start_time": "2023-12-10T11:43:05.652713Z"
    }
   },
   "outputs": [
    {
     "data": {
      "image/png": "[encoded data removed]",
      "text/plain": [
       "<Figure size 640x480 with 1 Axes>"
      ]
     },
     "metadata": {},
     "output_type": "display_data"
    }
   ],
   "source": [
    "# plot training and validation errors vs. epochs\n",
    "\n",
    "import matplotlib.pyplot as plt\n",
    "\n",
    "plt.plot(model_res_net.history.history['loss'])\n",
    "plt.plot(model_res_net.history.history['val_loss'])\n",
    "plt.title('Model Loss for ResNet50')\n",
    "plt.ylabel('Loss')\n",
    "plt.xlabel('Epoch')\n",
    "plt.legend(['Train', 'Validation'], loc='upper left')\n",
    "plt.show()\n"
   ]
  },
  {
   "cell_type": "code",
   "execution_count": 34,
   "metadata": {
    "ExecuteTime": {
     "end_time": "2023-12-10T11:49:26.378084Z",
     "start_time": "2023-12-10T11:43:07.879848Z"
    }
   },
   "outputs": [
    {
     "name": "stdout",
     "output_type": "stream",
     "text": [
      "1/1 [==============================] - 4s 4s/step\n",
      "1/1 [==============================] - 3s 3s/step\n",
      "1/1 [==============================] - 3s 3s/step\n",
      "1/1 [==============================] - 3s 3s/step\n",
      "1/1 [==============================] - 4s 4s/step\n",
      "1/1 [==============================] - 3s 3s/step\n",
      "1/1 [==============================] - 3s 3s/step\n",
      "1/1 [==============================] - 3s 3s/step\n",
      "1/1 [==============================] - 3s 3s/step\n",
      "1/1 [==============================] - 3s 3s/step\n",
      "1/1 [==============================] - 3s 3s/step\n",
      "1/1 [==============================] - 3s 3s/step\n",
      "1/1 [==============================] - 3s 3s/step\n",
      "1/1 [==============================] - 3s 3s/step\n",
      "1/1 [==============================] - 4s 4s/step\n",
      "1/1 [==============================] - 3s 3s/step\n",
      "1/1 [==============================] - 3s 3s/step\n",
      "1/1 [==============================] - 3s 3s/step\n",
      "1/1 [==============================] - 3s 3s/step\n",
      "1/1 [==============================] - 3s 3s/step\n",
      "1/1 [==============================] - 3s 3s/step\n",
      "1/1 [==============================] - 3s 3s/step\n",
      "1/1 [==============================] - 3s 3s/step\n",
      "1/1 [==============================] - 3s 3s/step\n",
      "1/1 [==============================] - 3s 3s/step\n",
      "1/1 [==============================] - 3s 3s/step\n",
      "1/1 [==============================] - 3s 3s/step\n",
      "1/1 [==============================] - 3s 3s/step\n",
      "1/1 [==============================] - 3s 3s/step\n",
      "1/1 [==============================] - 3s 3s/step\n",
      "1/1 [==============================] - 3s 3s/step\n",
      "1/1 [==============================] - 3s 3s/step\n",
      "1/1 [==============================] - 3s 3s/step\n",
      "1/1 [==============================] - 3s 3s/step\n",
      "1/1 [==============================] - 3s 3s/step\n",
      "1/1 [==============================] - 3s 3s/step\n",
      "1/1 [==============================] - 3s 3s/step\n",
      "1/1 [==============================] - 3s 3s/step\n",
      "1/1 [==============================] - 3s 3s/step\n",
      "1/1 [==============================] - 3s 3s/step\n",
      "1/1 [==============================] - 3s 3s/step\n",
      "1/1 [==============================] - 3s 3s/step\n",
      "1/1 [==============================] - 4s 4s/step\n",
      "1/1 [==============================] - 5s 5s/step\n",
      "1/1 [==============================] - 4s 4s/step\n",
      "1/1 [==============================] - 4s 4s/step\n",
      "1/1 [==============================] - 4s 4s/step\n",
      "1/1 [==============================] - 3s 3s/step\n",
      "1/1 [==============================] - 3s 3s/step\n",
      "1/1 [==============================] - 4s 4s/step\n",
      "1/1 [==============================] - 4s 4s/step\n",
      "1/1 [==============================] - 4s 4s/step\n",
      "1/1 [==============================] - 4s 4s/step\n",
      "1/1 [==============================] - 4s 4s/step\n",
      "1/1 [==============================] - 4s 4s/step\n",
      "1/1 [==============================] - 3s 3s/step\n",
      "1/1 [==============================] - 4s 4s/step\n",
      "1/1 [==============================] - 4s 4s/step\n",
      "1/1 [==============================] - 4s 4s/step\n",
      "1/1 [==============================] - 3s 3s/step\n",
      "1/1 [==============================] - 3s 3s/step\n",
      "1/1 [==============================] - 4s 4s/step\n",
      "1/1 [==============================] - 3s 3s/step\n",
      "1/1 [==============================] - 3s 3s/step\n",
      "1/1 [==============================] - 3s 3s/step\n",
      "1/1 [==============================] - 3s 3s/step\n",
      "1/1 [==============================] - 3s 3s/step\n",
      "1/1 [==============================] - 3s 3s/step\n",
      "1/1 [==============================] - 3s 3s/step\n",
      "1/1 [==============================] - 3s 3s/step\n",
      "1/1 [==============================] - 3s 3s/step\n",
      "1/1 [==============================] - 3s 3s/step\n",
      "1/1 [==============================] - 3s 3s/step\n",
      "1/1 [==============================] - 3s 3s/step\n",
      "1/1 [==============================] - 3s 3s/step\n",
      "1/1 [==============================] - 3s 3s/step\n",
      "1/1 [==============================] - 3s 3s/step\n",
      "1/1 [==============================] - 3s 3s/step\n",
      "1/1 [==============================] - 3s 3s/step\n",
      "1/1 [==============================] - 3s 3s/step\n",
      "1/1 [==============================] - 4s 4s/step\n",
      "1/1 [==============================] - 4s 4s/step\n",
      "1/1 [==============================] - 3s 3s/step\n",
      "1/1 [==============================] - 3s 3s/step\n",
      "1/1 [==============================] - 3s 3s/step\n",
      "1/1 [==============================] - 3s 3s/step\n",
      "1/1 [==============================] - 3s 3s/step\n",
      "1/1 [==============================] - 3s 3s/step\n",
      "1/1 [==============================] - 3s 3s/step\n",
      "1/1 [==============================] - 3s 3s/step\n",
      "1/1 [==============================] - 3s 3s/step\n",
      "1/1 [==============================] - 4s 4s/step\n",
      "1/1 [==============================] - 3s 3s/step\n",
      "1/1 [==============================] - 3s 3s/step\n",
      "1/1 [==============================] - 4s 4s/step\n",
      "1/1 [==============================] - 4s 4s/step\n",
      "1/1 [==============================] - 4s 4s/step\n",
      "1/1 [==============================] - 4s 4s/step\n",
      "1/1 [==============================] - 4s 4s/step\n",
      "1/1 [==============================] - 4s 4s/step\n",
      "1/1 [==============================] - 4s 4s/step\n",
      "1/1 [==============================] - 4s 4s/step\n",
      "1/1 [==============================] - 4s 4s/step\n",
      "1/1 [==============================] - 4s 4s/step\n",
      "1/1 [==============================] - 4s 4s/step\n",
      "1/1 [==============================] - 4s 4s/step\n",
      "1/1 [==============================] - 4s 4s/step\n",
      "1/1 [==============================] - 4s 4s/step\n",
      "1/1 [==============================] - 4s 4s/step\n",
      "1/1 [==============================] - 4s 4s/step\n",
      "1/1 [==============================] - 3s 3s/step\n",
      "1/1 [==============================] - 3s 3s/step\n",
      "1/1 [==============================] - 3s 3s/step\n",
      "1/1 [==============================] - 3s 3s/step\n",
      "1/1 [==============================] - 3s 3s/step\n",
      "1/1 [==============================] - 3s 3s/step\n",
      "1/1 [==============================] - 3s 3s/step\n",
      "1/1 [==============================] - 3s 3s/step\n",
      "1/1 [==============================] - 3s 3s/step\n",
      "1/1 [==============================] - 3s 3s/step\n",
      "1/1 [==============================] - 3s 3s/step\n",
      "1/1 [==============================] - 3s 3s/step\n",
      "1/1 [==============================] - 3s 3s/step\n",
      "1/1 [==============================] - 3s 3s/step\n",
      "1/1 [==============================] - 3s 3s/step\n",
      "1/1 [==============================] - 3s 3s/step\n",
      "1/1 [==============================] - 4s 4s/step\n",
      "1/1 [==============================] - 4s 4s/step\n",
      "1/1 [==============================] - 3s 3s/step\n",
      "1/1 [==============================] - 3s 3s/step\n",
      "1/1 [==============================] - 3s 3s/step\n",
      "1/1 [==============================] - 3s 3s/step\n",
      "1/1 [==============================] - 3s 3s/step\n",
      "1/1 [==============================] - 3s 3s/step\n",
      "1/1 [==============================] - 3s 3s/step\n",
      "1/1 [==============================] - 3s 3s/step\n",
      "1/1 [==============================] - 3s 3s/step\n",
      "1/1 [==============================] - 3s 3s/step\n",
      "1/1 [==============================] - 3s 3s/step\n",
      "1/1 [==============================] - 3s 3s/step\n",
      "1/1 [==============================] - 3s 3s/step\n",
      "1/1 [==============================] - 3s 3s/step\n",
      "1/1 [==============================] - 3s 3s/step\n",
      "1/1 [==============================] - 3s 3s/step\n",
      "1/1 [==============================] - 3s 3s/step\n",
      "1/1 [==============================] - 3s 3s/step\n",
      "1/1 [==============================] - 4s 4s/step\n",
      "1/1 [==============================] - 4s 4s/step\n",
      "1/1 [==============================] - 4s 4s/step\n",
      "1/1 [==============================] - 4s 4s/step\n",
      "1/1 [==============================] - 4s 4s/step\n",
      "1/1 [==============================] - 4s 4s/step\n",
      "1/1 [==============================] - 3s 3s/step\n",
      "1/1 [==============================] - 3s 3s/step\n",
      "1/1 [==============================] - 3s 3s/step\n",
      "1/1 [==============================] - 3s 3s/step\n",
      "1/1 [==============================] - 3s 3s/step\n",
      "1/1 [==============================] - 3s 3s/step\n",
      "1/1 [==============================] - 3s 3s/step\n",
      "1/1 [==============================] - 3s 3s/step\n",
      "1/1 [==============================] - 3s 3s/step\n",
      "1/1 [==============================] - 3s 3s/step\n",
      "1/1 [==============================] - 3s 3s/step\n"
     ]
    },
    {
     "name": "stdout",
     "output_type": "stream",
     "text": [
      "1/1 [==============================] - 3s 3s/step\n",
      "1/1 [==============================] - 3s 3s/step\n",
      "1/1 [==============================] - 3s 3s/step\n",
      "1/1 [==============================] - 3s 3s/step\n",
      "1/1 [==============================] - 3s 3s/step\n",
      "1/1 [==============================] - 3s 3s/step\n",
      "1/1 [==============================] - 3s 3s/step\n",
      "1/1 [==============================] - 3s 3s/step\n",
      "1/1 [==============================] - 3s 3s/step\n",
      "1/1 [==============================] - 3s 3s/step\n",
      "1/1 [==============================] - 3s 3s/step\n",
      "1/1 [==============================] - 3s 3s/step\n",
      "1/1 [==============================] - 3s 3s/step\n",
      "1/1 [==============================] - 3s 3s/step\n",
      "1/1 [==============================] - 3s 3s/step\n",
      "1/1 [==============================] - 3s 3s/step\n",
      "1/1 [==============================] - 3s 3s/step\n",
      "1/1 [==============================] - 3s 3s/step\n",
      "1/1 [==============================] - 3s 3s/step\n",
      "1/1 [==============================] - 3s 3s/step\n",
      "1/1 [==============================] - 3s 3s/step\n",
      "1/1 [==============================] - 3s 3s/step\n",
      "1/1 [==============================] - 3s 3s/step\n",
      "1/1 [==============================] - 3s 3s/step\n",
      "1/1 [==============================] - 3s 3s/step\n",
      "1/1 [==============================] - 3s 3s/step\n",
      "1/1 [==============================] - 3s 3s/step\n",
      "1/1 [==============================] - 3s 3s/step\n",
      "1/1 [==============================] - 3s 3s/step\n",
      "1/1 [==============================] - 3s 3s/step\n",
      "1/1 [==============================] - 4s 4s/step\n",
      "1/1 [==============================] - 4s 4s/step\n",
      "1/1 [==============================] - 4s 4s/step\n",
      "1/1 [==============================] - 4s 4s/step\n",
      "1/1 [==============================] - 4s 4s/step\n",
      "1/1 [==============================] - 4s 4s/step\n",
      "1/1 [==============================] - 3s 3s/step\n",
      "1/1 [==============================] - 3s 3s/step\n",
      "1/1 [==============================] - 3s 3s/step\n",
      "1/1 [==============================] - 3s 3s/step\n",
      "1/1 [==============================] - 3s 3s/step\n",
      "1/1 [==============================] - 3s 3s/step\n",
      "1/1 [==============================] - 3s 3s/step\n",
      "1/1 [==============================] - 3s 3s/step\n",
      "1/1 [==============================] - 3s 3s/step\n",
      "1/1 [==============================] - 3s 3s/step\n",
      "1/1 [==============================] - 3s 3s/step\n",
      "1/1 [==============================] - 3s 3s/step\n",
      "1/1 [==============================] - 3s 3s/step\n",
      "1/1 [==============================] - 3s 3s/step\n",
      "1/1 [==============================] - 3s 3s/step\n",
      "1/1 [==============================] - 3s 3s/step\n",
      "1/1 [==============================] - 3s 3s/step\n",
      "1/1 [==============================] - 3s 3s/step\n",
      "1/1 [==============================] - 3s 3s/step\n",
      "1/1 [==============================] - 3s 3s/step\n",
      "1/1 [==============================] - 3s 3s/step\n",
      "1/1 [==============================] - 3s 3s/step\n",
      "1/1 [==============================] - 3s 3s/step\n",
      "1/1 [==============================] - 3s 3s/step\n",
      "1/1 [==============================] - 3s 3s/step\n",
      "1/1 [==============================] - 3s 3s/step\n",
      "1/1 [==============================] - 3s 3s/step\n",
      "1/1 [==============================] - 3s 3s/step\n",
      "1/1 [==============================] - 3s 3s/step\n",
      "1/1 [==============================] - 3s 3s/step\n",
      "1/1 [==============================] - 3s 3s/step\n",
      "1/1 [==============================] - 4s 4s/step\n",
      "1/1 [==============================] - 3s 3s/step\n",
      "1/1 [==============================] - 4s 4s/step\n",
      "1/1 [==============================] - 3s 3s/step\n",
      "1/1 [==============================] - 3s 3s/step\n",
      "1/1 [==============================] - 3s 3s/step\n",
      "1/1 [==============================] - 3s 3s/step\n",
      "1/1 [==============================] - 3s 3s/step\n",
      "1/1 [==============================] - 3s 3s/step\n",
      "1/1 [==============================] - 3s 3s/step\n",
      "1/1 [==============================] - 3s 3s/step\n",
      "1/1 [==============================] - 3s 3s/step\n",
      "1/1 [==============================] - 3s 3s/step\n",
      "1/1 [==============================] - 3s 3s/step\n",
      "1/1 [==============================] - 3s 3s/step\n",
      "1/1 [==============================] - 4s 4s/step\n",
      "1/1 [==============================] - 4s 4s/step\n",
      "1/1 [==============================] - 3s 3s/step\n",
      "1/1 [==============================] - 3s 3s/step\n",
      "1/1 [==============================] - 3s 3s/step\n",
      "1/1 [==============================] - 3s 3s/step\n",
      "1/1 [==============================] - 3s 3s/step\n",
      "1/1 [==============================] - 3s 3s/step\n",
      "1/1 [==============================] - 3s 3s/step\n",
      "1/1 [==============================] - 3s 3s/step\n",
      "1/1 [==============================] - 3s 3s/step\n",
      "1/1 [==============================] - 3s 3s/step\n",
      "1/1 [==============================] - 3s 3s/step\n",
      "1/1 [==============================] - 3s 3s/step\n",
      "1/1 [==============================] - 3s 3s/step\n",
      "1/1 [==============================] - 3s 3s/step\n",
      "1/1 [==============================] - 3s 3s/step\n",
      "1/1 [==============================] - 3s 3s/step\n",
      "1/1 [==============================] - 3s 3s/step\n",
      "1/1 [==============================] - 3s 3s/step\n",
      "1/1 [==============================] - 3s 3s/step\n",
      "1/1 [==============================] - 3s 3s/step\n",
      "1/1 [==============================] - 3s 3s/step\n",
      "1/1 [==============================] - 3s 3s/step\n",
      "1/1 [==============================] - 3s 3s/step\n",
      "1/1 [==============================] - 3s 3s/step\n",
      "1/1 [==============================] - 3s 3s/step\n",
      "1/1 [==============================] - 3s 3s/step\n",
      "1/1 [==============================] - 3s 3s/step\n",
      "1/1 [==============================] - 3s 3s/step\n",
      "1/1 [==============================] - 3s 3s/step\n",
      "1/1 [==============================] - 3s 3s/step\n",
      "1/1 [==============================] - 3s 3s/step\n",
      "1/1 [==============================] - 3s 3s/step\n",
      "1/1 [==============================] - 3s 3s/step\n",
      "1/1 [==============================] - 3s 3s/step\n",
      "1/1 [==============================] - 3s 3s/step\n",
      "1/1 [==============================] - 3s 3s/step\n",
      "1/1 [==============================] - 3s 3s/step\n",
      "1/1 [==============================] - 3s 3s/step\n",
      "1/1 [==============================] - 3s 3s/step\n",
      "1/1 [==============================] - 3s 3s/step\n",
      "1/1 [==============================] - 3s 3s/step\n",
      "1/1 [==============================] - 3s 3s/step\n",
      "1/1 [==============================] - 3s 3s/step\n",
      "1/1 [==============================] - 3s 3s/step\n",
      "1/1 [==============================] - 3s 3s/step\n",
      "1/1 [==============================] - 3s 3s/step\n",
      "1/1 [==============================] - 3s 3s/step\n",
      "1/1 [==============================] - 3s 3s/step\n",
      "1/1 [==============================] - 3s 3s/step\n",
      "1/1 [==============================] - 3s 3s/step\n",
      "1/1 [==============================] - 3s 3s/step\n",
      "1/1 [==============================] - 3s 3s/step\n",
      "1/1 [==============================] - 3s 3s/step\n",
      "1/1 [==============================] - 3s 3s/step\n",
      "1/1 [==============================] - 3s 3s/step\n",
      "1/1 [==============================] - 3s 3s/step\n",
      "1/1 [==============================] - 3s 3s/step\n",
      "1/1 [==============================] - 3s 3s/step\n",
      "1/1 [==============================] - 3s 3s/step\n",
      "1/1 [==============================] - 3s 3s/step\n",
      "1/1 [==============================] - 3s 3s/step\n",
      "1/1 [==============================] - 3s 3s/step\n",
      "1/1 [==============================] - 3s 3s/step\n",
      "1/1 [==============================] - 3s 3s/step\n",
      "1/1 [==============================] - 3s 3s/step\n",
      "1/1 [==============================] - 3s 3s/step\n",
      "1/1 [==============================] - 3s 3s/step\n",
      "1/1 [==============================] - 3s 3s/step\n",
      "1/1 [==============================] - 3s 3s/step\n",
      "1/1 [==============================] - 3s 3s/step\n",
      "1/1 [==============================] - 3s 3s/step\n",
      "1/1 [==============================] - 3s 3s/step\n",
      "1/1 [==============================] - 3s 3s/step\n",
      "1/1 [==============================] - 4s 4s/step\n",
      "1/1 [==============================] - 4s 4s/step\n",
      "1/1 [==============================] - 4s 4s/step\n",
      "1/1 [==============================] - 4s 4s/step\n",
      "1/1 [==============================] - 4s 4s/step\n",
      "1/1 [==============================] - 4s 4s/step\n"
     ]
    },
    {
     "name": "stdout",
     "output_type": "stream",
     "text": [
      "1/1 [==============================] - 4s 4s/step\n",
      "1/1 [==============================] - 4s 4s/step\n",
      "1/1 [==============================] - 4s 4s/step\n",
      "1/1 [==============================] - 3s 3s/step\n",
      "1/1 [==============================] - 4s 4s/step\n",
      "1/1 [==============================] - 4s 4s/step\n",
      "1/1 [==============================] - 3s 3s/step\n",
      "1/1 [==============================] - 4s 4s/step\n",
      "1/1 [==============================] - 4s 4s/step\n",
      "1/1 [==============================] - 4s 4s/step\n",
      "1/1 [==============================] - 4s 4s/step\n",
      "1/1 [==============================] - 3s 3s/step\n",
      "1/1 [==============================] - 3s 3s/step\n",
      "1/1 [==============================] - 4s 4s/step\n",
      "1/1 [==============================] - 3s 3s/step\n",
      "1/1 [==============================] - 4s 4s/step\n",
      "1/1 [==============================] - 4s 4s/step\n",
      "1/1 [==============================] - 3s 3s/step\n",
      "1/1 [==============================] - 4s 4s/step\n",
      "1/1 [==============================] - 3s 3s/step\n",
      "1/1 [==============================] - 3s 3s/step\n",
      "1/1 [==============================] - 4s 4s/step\n",
      "1/1 [==============================] - 3s 3s/step\n",
      "1/1 [==============================] - 4s 4s/step\n",
      "1/1 [==============================] - 4s 4s/step\n",
      "1/1 [==============================] - 4s 4s/step\n",
      "1/1 [==============================] - 4s 4s/step\n",
      "1/1 [==============================] - 3s 3s/step\n",
      "1/1 [==============================] - 4s 4s/step\n",
      "1/1 [==============================] - 4s 4s/step\n",
      "1/1 [==============================] - 4s 4s/step\n",
      "1/1 [==============================] - 4s 4s/step\n",
      "1/1 [==============================] - 4s 4s/step\n",
      "1/1 [==============================] - 4s 4s/step\n",
      "1/1 [==============================] - 4s 4s/step\n",
      "1/1 [==============================] - 4s 4s/step\n",
      "1/1 [==============================] - 4s 4s/step\n",
      "1/1 [==============================] - 4s 4s/step\n",
      "1/1 [==============================] - 4s 4s/step\n",
      "1/1 [==============================] - 3s 3s/step\n",
      "1/1 [==============================] - 4s 4s/step\n",
      "1/1 [==============================] - 4s 4s/step\n",
      "1/1 [==============================] - 4s 4s/step\n",
      "1/1 [==============================] - 4s 4s/step\n",
      "1/1 [==============================] - 4s 4s/step\n",
      "1/1 [==============================] - 4s 4s/step\n",
      "1/1 [==============================] - 4s 4s/step\n",
      "1/1 [==============================] - 4s 4s/step\n",
      "1/1 [==============================] - 3s 3s/step\n",
      "1/1 [==============================] - 4s 4s/step\n",
      "1/1 [==============================] - 4s 4s/step\n",
      "1/1 [==============================] - 4s 4s/step\n",
      "1/1 [==============================] - 4s 4s/step\n",
      "1/1 [==============================] - 4s 4s/step\n",
      "1/1 [==============================] - 3s 3s/step\n",
      "1/1 [==============================] - 4s 4s/step\n",
      "1/1 [==============================] - 3s 3s/step\n",
      "1/1 [==============================] - 4s 4s/step\n",
      "1/1 [==============================] - 4s 4s/step\n",
      "1/1 [==============================] - 3s 3s/step\n",
      "1/1 [==============================] - 4s 4s/step\n",
      "1/1 [==============================] - 4s 4s/step\n",
      "1/1 [==============================] - 4s 4s/step\n",
      "1/1 [==============================] - 4s 4s/step\n",
      "1/1 [==============================] - 4s 4s/step\n",
      "1/1 [==============================] - 5s 5s/step\n",
      "1/1 [==============================] - 5s 5s/step\n",
      "1/1 [==============================] - 4s 4s/step\n",
      "1/1 [==============================] - 4s 4s/step\n",
      "1/1 [==============================] - 3s 3s/step\n",
      "1/1 [==============================] - 5s 5s/step\n",
      "1/1 [==============================] - 4s 4s/step\n",
      "1/1 [==============================] - 4s 4s/step\n",
      "1/1 [==============================] - 4s 4s/step\n",
      "1/1 [==============================] - 3s 3s/step\n",
      "Precision:  0.9477475\n",
      "Recall:  0.98619866\n",
      "F1 Score:  0.9665908818010054\n"
     ]
    }
   ],
   "source": [
    "# precision recall and f1 score \n",
    "precision_res_net = tf.keras.metrics.Precision()\n",
    "recall_res_net = tf.keras.metrics.Recall()\n",
    "for image_batch, labels_batch in testing_images:\n",
    "    labels = labels_batch\n",
    "    predictions_res_net = tf.math.argmax(model_res_net.predict(image_batch), axis=-1)\n",
    "    precision_res_net.update_state(labels_batch, predictions_res_net)\n",
    "    recall_res_net.update_state(labels_batch, predictions_res_net)"
   ]
  },
  {
   "cell_type": "code",
   "execution_count": 36,
   "metadata": {
    "ExecuteTime": {
     "end_time": "2023-12-10T06:52:55.178169Z",
     "start_time": "2023-12-10T06:52:55.178091Z"
    }
   },
   "outputs": [
    {
     "name": "stdout",
     "output_type": "stream",
     "text": [
      "Precision:  0.9477475\n",
      "Recall:  0.98619866\n",
      "F1 Score:  0.9665908818010054\n"
     ]
    }
   ],
   "source": [
    "print('Precision: ', precision_res_net.result().numpy())\n",
    "print('Recall: ', recall_res_net.result().numpy())\n",
    "print('F1 Score: ', 2 * (precision_res_net.result().numpy() * recall_res_net.result().numpy()) / (\n",
    "            precision_res_net.result().numpy() + recall_res_net.result().numpy()))"
   ]
  },
  {
   "cell_type": "code",
   "execution_count": null,
   "metadata": {
    "ExecuteTime": {
     "end_time": "2023-12-10T21:20:54.503965Z",
     "start_time": "2023-12-10T18:53:44.064635Z"
    }
   },
   "outputs": [
    {
     "name": "stdout",
     "output_type": "stream",
     "text": [
      "Epoch 1/10\n",
      "928/928 [==============================] - 9033s 10s/step - loss: 0.1708 - accuracy: 0.9374 - val_loss: 0.4359 - val_accuracy: 0.8191\n",
      "Epoch 2/10\n",
      "928/928 [==============================] - 9051s 10s/step - loss: 0.0957 - accuracy: 0.9657 - val_loss: 0.3369 - val_accuracy: 0.8718\n",
      "Epoch 3/10\n",
      "928/928 [==============================] - 11595s 12s/step - loss: 0.0753 - accuracy: 0.9727 - val_loss: 0.5433 - val_accuracy: 0.8388\n",
      "Epoch 4/10\n",
      "928/928 [==============================] - ETA: 0s - loss: 0.0662 - accuracy: 0.9750"
     ]
    }
   ],
   "source": [
    "model_vgg16.fit(training_images, epochs=10, validation_data=validation_images, verbose=1, batch_size=batch_size_new,\n",
    "                callbacks=[early_stopping])"
   ]
  },
  {
   "cell_type": "code",
   "execution_count": null,
   "metadata": {},
   "outputs": [],
   "source": [
    "model_vgg16.save(\"model_vgg16.h5\")"
   ]
  },
  {
   "cell_type": "code",
   "execution_count": null,
   "metadata": {
    "ExecuteTime": {
     "start_time": "2023-12-10T06:52:55.178839Z"
    }
   },
   "outputs": [],
   "source": [
    "plt.plot(model_vgg16.history.history['loss'])\n",
    "plt.plot(model_vgg16.history.history['val_loss'])\n",
    "plt.title('Model Loss for VGG16')\n",
    "plt.ylabel('Loss')\n",
    "plt.xlabel('Epoch')\n",
    "plt.legend(['Train', 'Validation'], loc='upper left')\n",
    "plt.show()\n"
   ]
  },
  {
   "cell_type": "code",
   "execution_count": null,
   "metadata": {
    "ExecuteTime": {
     "end_time": "2023-12-11T01:36:22.205867Z",
     "start_time": "2023-12-11T01:17:44.360794Z"
    }
   },
   "outputs": [],
   "source": [
    "precision_vgg16 = tf.keras.metrics.Precision()\n",
    "recall_vgg16 = tf.keras.metrics.Recall()\n",
    "for image_batch, labels_batch in testing_images:\n",
    "    labels = labels_batch\n",
    "    predictions_vgg16 = tf.math.argmax(model_vgg16.predict(image_batch), axis=-1)\n",
    "    precision_vgg16.update_state(labels_batch, predictions_vgg16)\n",
    "    recall_vgg16.update_state(labels_batch, predictions_vgg16)"
   ]
  },
  {
   "cell_type": "code",
   "execution_count": null,
   "metadata": {},
   "outputs": [],
   "source": [
    "print('Precision for VGG16: ', precision_vgg16.result().numpy())\n",
    "print('Recall for VGG16: ', recall_vgg16.result().numpy())\n",
    "print('F1 Score for VGG16: ', 2 * (precision_vgg16.result().numpy() * recall_vgg16.result().numpy()) / (\n",
    "        precision_vgg16.result().numpy() + recall_vgg16.result().numpy()))"
   ]
  },
  {
   "cell_type": "markdown",
   "metadata": {},
   "source": [
    "## On comparing the results of transfer learning with that of CNN+MLP models, we can see that the transfer learning models perform significantly better than the CNN +MLP models. Reason for than can be:\n",
    "\n",
    "## Pre-trained features: \n",
    "Pre-trained models have already learned useful representations of features from large datasets, which can be directly applied to your task. This can significantly reduce the amount of training data needed for your specific problem.\n",
    "\n",
    "## Regularization: \n",
    "Fine-tuning pre-trained models can act as a form of regularization, which helps to prevent overfitting and improve the generalization ability of your model.\n"
   ]
  },
  {
   "cell_type": "code",
   "execution_count": null,
   "metadata": {},
   "outputs": [],
   "source": []
  }
 ],
 "metadata": {
  "kernelspec": {
   "display_name": "Python 3 (ipykernel)",
   "language": "python",
   "name": "python3"
  },
  "language_info": {
   "codemirror_mode": {
    "name": "ipython",
    "version": 3
   },
   "file_extension": ".py",
   "mimetype": "text/x-python",
   "name": "python",
   "nbconvert_exporter": "python",
   "pygments_lexer": "ipython3",
   "version": "3.11.5"
  }
 },
 "nbformat": 4,
 "nbformat_minor": 2
}
